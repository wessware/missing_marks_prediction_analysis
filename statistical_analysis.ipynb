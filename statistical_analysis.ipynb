{
    "cells": [
        {
            "cell_type": "code",
            "execution_count": 3,
            "source": [
                "import pandas as pd \r\n",
                "import seaborn as sns\r\n",
                "import matplotlib\r\n",
                "import numpy as np\r\n",
                "import random\r\n",
                "\r\n",
                "sns.set_style('darkgrid')\r\n",
                "matplotlib.rcParams['font.size'] = 14\r\n",
                "matplotlib.rcParams['figure.figsize'] = (10, 6)\r\n",
                "matplotlib.rcParams['figure.facecolor'] = '#000000'"
            ],
            "outputs": [],
            "metadata": {}
        },
        {
            "cell_type": "code",
            "execution_count": 12,
            "source": [
                "headers = ['institution', 'system', 'human_cause', 'machine_cause', 'human_machine', 'error_rate', 'error_system', 'feature']"
            ],
            "outputs": [],
            "metadata": {}
        },
        {
            "cell_type": "code",
            "execution_count": 15,
            "source": [
                "dataset = pd.read_csv(\"missingmarks_clean_data.csv\")\r\n",
                "dataset_xls = pd.read_csv('mlmks.csv', header=None, names=headers)"
            ],
            "outputs": [],
            "metadata": {}
        },
        {
            "cell_type": "code",
            "execution_count": 16,
            "source": [
                "dataset_xls"
            ],
            "outputs": [
                {
                    "output_type": "execute_result",
                    "data": {
                        "text/plain": [
                            "      institution   system                                        human_cause  \\\n",
                            "0           JKUAT   HYBRID                                       Human errors   \n",
                            "1          MASENO   HYBRID  Human-machine conflicts (improper understandin...   \n",
                            "2         EGERTON   HYBRID  Human-machine conflicts (improper understandin...   \n",
                            "3              KU   HYBRID  Human-machine conflicts (improper understandin...   \n",
                            "4              KU  DIGITAL  Human-machine conflicts (improper understandin...   \n",
                            "...           ...      ...                                                ...   \n",
                            "10114       JKUAT   HYBRID                                       Human errors   \n",
                            "10115         UON   HYBRID  Human-machine conflicts (improper understandin...   \n",
                            "10116        USIU  DIGITAL  Human-machine conflicts (improper understandin...   \n",
                            "10117        USIU  DIGITAL  Human-machine conflicts (improper understandin...   \n",
                            "10118       JKUAT   HYBRID                                       Human errors   \n",
                            "\n",
                            "                                         machine_cause  \\\n",
                            "0      Lack of proper skills in use of digital devices   \n",
                            "1      Lack of proper skills in use of digital devices   \n",
                            "2      Lack of proper skills in use of digital devices   \n",
                            "3                                            Ignorance   \n",
                            "4                       Segregation, bias & favoritism   \n",
                            "...                                                ...   \n",
                            "10114  Lack of proper skills in use of digital devices   \n",
                            "10115                                              NaN   \n",
                            "10116                                              NaN   \n",
                            "10117                                              NaN   \n",
                            "10118  Lack of proper skills in use of digital devices   \n",
                            "\n",
                            "                                           human_machine error_rate  \\\n",
                            "0      Lack of robustness (inability to handle & proc...        Yes   \n",
                            "1      Lack of robustness (inability to handle & proc...        Yes   \n",
                            "2               Outdated Information Management systems.        Yes   \n",
                            "3      Inefficiency (inaccurate logical evaluations b...      Maybe   \n",
                            "4      Lack of robustness (inability to handle & proc...      Maybe   \n",
                            "...                                                  ...        ...   \n",
                            "10114  System complexity (hard for front-office secre...      Maybe   \n",
                            "10115                                                NaN        NaN   \n",
                            "10116                                                NaN        NaN   \n",
                            "10117                                                NaN        NaN   \n",
                            "10118  Lack of robustness (inability to handle & proc...        Yes   \n",
                            "\n",
                            "      error_system feature  \n",
                            "0           Hybrid    Yes   \n",
                            "1           Hybrid      No  \n",
                            "2           Hybrid      No  \n",
                            "3           Hybrid     Yes  \n",
                            "4           Hybrid      No  \n",
                            "...            ...     ...  \n",
                            "10114      Digital     Yes  \n",
                            "10115       Hybrid      No  \n",
                            "10116      Digital      No  \n",
                            "10117      Digital      No  \n",
                            "10118       Hybrid     Yes  \n",
                            "\n",
                            "[10119 rows x 8 columns]"
                        ],
                        "text/html": [
                            "<div>\n",
                            "<style scoped>\n",
                            "    .dataframe tbody tr th:only-of-type {\n",
                            "        vertical-align: middle;\n",
                            "    }\n",
                            "\n",
                            "    .dataframe tbody tr th {\n",
                            "        vertical-align: top;\n",
                            "    }\n",
                            "\n",
                            "    .dataframe thead th {\n",
                            "        text-align: right;\n",
                            "    }\n",
                            "</style>\n",
                            "<table border=\"1\" class=\"dataframe\">\n",
                            "  <thead>\n",
                            "    <tr style=\"text-align: right;\">\n",
                            "      <th></th>\n",
                            "      <th>institution</th>\n",
                            "      <th>system</th>\n",
                            "      <th>human_cause</th>\n",
                            "      <th>machine_cause</th>\n",
                            "      <th>human_machine</th>\n",
                            "      <th>error_rate</th>\n",
                            "      <th>error_system</th>\n",
                            "      <th>feature</th>\n",
                            "    </tr>\n",
                            "  </thead>\n",
                            "  <tbody>\n",
                            "    <tr>\n",
                            "      <th>0</th>\n",
                            "      <td>JKUAT</td>\n",
                            "      <td>HYBRID</td>\n",
                            "      <td>Human errors</td>\n",
                            "      <td>Lack of proper skills in use of digital devices</td>\n",
                            "      <td>Lack of robustness (inability to handle &amp; proc...</td>\n",
                            "      <td>Yes</td>\n",
                            "      <td>Hybrid</td>\n",
                            "      <td>Yes</td>\n",
                            "    </tr>\n",
                            "    <tr>\n",
                            "      <th>1</th>\n",
                            "      <td>MASENO</td>\n",
                            "      <td>HYBRID</td>\n",
                            "      <td>Human-machine conflicts (improper understandin...</td>\n",
                            "      <td>Lack of proper skills in use of digital devices</td>\n",
                            "      <td>Lack of robustness (inability to handle &amp; proc...</td>\n",
                            "      <td>Yes</td>\n",
                            "      <td>Hybrid</td>\n",
                            "      <td>No</td>\n",
                            "    </tr>\n",
                            "    <tr>\n",
                            "      <th>2</th>\n",
                            "      <td>EGERTON</td>\n",
                            "      <td>HYBRID</td>\n",
                            "      <td>Human-machine conflicts (improper understandin...</td>\n",
                            "      <td>Lack of proper skills in use of digital devices</td>\n",
                            "      <td>Outdated Information Management systems.</td>\n",
                            "      <td>Yes</td>\n",
                            "      <td>Hybrid</td>\n",
                            "      <td>No</td>\n",
                            "    </tr>\n",
                            "    <tr>\n",
                            "      <th>3</th>\n",
                            "      <td>KU</td>\n",
                            "      <td>HYBRID</td>\n",
                            "      <td>Human-machine conflicts (improper understandin...</td>\n",
                            "      <td>Ignorance</td>\n",
                            "      <td>Inefficiency (inaccurate logical evaluations b...</td>\n",
                            "      <td>Maybe</td>\n",
                            "      <td>Hybrid</td>\n",
                            "      <td>Yes</td>\n",
                            "    </tr>\n",
                            "    <tr>\n",
                            "      <th>4</th>\n",
                            "      <td>KU</td>\n",
                            "      <td>DIGITAL</td>\n",
                            "      <td>Human-machine conflicts (improper understandin...</td>\n",
                            "      <td>Segregation, bias &amp; favoritism</td>\n",
                            "      <td>Lack of robustness (inability to handle &amp; proc...</td>\n",
                            "      <td>Maybe</td>\n",
                            "      <td>Hybrid</td>\n",
                            "      <td>No</td>\n",
                            "    </tr>\n",
                            "    <tr>\n",
                            "      <th>...</th>\n",
                            "      <td>...</td>\n",
                            "      <td>...</td>\n",
                            "      <td>...</td>\n",
                            "      <td>...</td>\n",
                            "      <td>...</td>\n",
                            "      <td>...</td>\n",
                            "      <td>...</td>\n",
                            "      <td>...</td>\n",
                            "    </tr>\n",
                            "    <tr>\n",
                            "      <th>10114</th>\n",
                            "      <td>JKUAT</td>\n",
                            "      <td>HYBRID</td>\n",
                            "      <td>Human errors</td>\n",
                            "      <td>Lack of proper skills in use of digital devices</td>\n",
                            "      <td>System complexity (hard for front-office secre...</td>\n",
                            "      <td>Maybe</td>\n",
                            "      <td>Digital</td>\n",
                            "      <td>Yes</td>\n",
                            "    </tr>\n",
                            "    <tr>\n",
                            "      <th>10115</th>\n",
                            "      <td>UON</td>\n",
                            "      <td>HYBRID</td>\n",
                            "      <td>Human-machine conflicts (improper understandin...</td>\n",
                            "      <td>NaN</td>\n",
                            "      <td>NaN</td>\n",
                            "      <td>NaN</td>\n",
                            "      <td>Hybrid</td>\n",
                            "      <td>No</td>\n",
                            "    </tr>\n",
                            "    <tr>\n",
                            "      <th>10116</th>\n",
                            "      <td>USIU</td>\n",
                            "      <td>DIGITAL</td>\n",
                            "      <td>Human-machine conflicts (improper understandin...</td>\n",
                            "      <td>NaN</td>\n",
                            "      <td>NaN</td>\n",
                            "      <td>NaN</td>\n",
                            "      <td>Digital</td>\n",
                            "      <td>No</td>\n",
                            "    </tr>\n",
                            "    <tr>\n",
                            "      <th>10117</th>\n",
                            "      <td>USIU</td>\n",
                            "      <td>DIGITAL</td>\n",
                            "      <td>Human-machine conflicts (improper understandin...</td>\n",
                            "      <td>NaN</td>\n",
                            "      <td>NaN</td>\n",
                            "      <td>NaN</td>\n",
                            "      <td>Digital</td>\n",
                            "      <td>No</td>\n",
                            "    </tr>\n",
                            "    <tr>\n",
                            "      <th>10118</th>\n",
                            "      <td>JKUAT</td>\n",
                            "      <td>HYBRID</td>\n",
                            "      <td>Human errors</td>\n",
                            "      <td>Lack of proper skills in use of digital devices</td>\n",
                            "      <td>Lack of robustness (inability to handle &amp; proc...</td>\n",
                            "      <td>Yes</td>\n",
                            "      <td>Hybrid</td>\n",
                            "      <td>Yes</td>\n",
                            "    </tr>\n",
                            "  </tbody>\n",
                            "</table>\n",
                            "<p>10119 rows × 8 columns</p>\n",
                            "</div>"
                        ]
                    },
                    "metadata": {},
                    "execution_count": 16
                }
            ],
            "metadata": {}
        },
        {
            "cell_type": "code",
            "execution_count": 5,
            "source": [
                "dataset"
            ],
            "outputs": [
                {
                    "output_type": "execute_result",
                    "data": {
                        "text/plain": [
                            "       institution  system  data_loss_gen  data_loss_human  data_loss_machine  \\\n",
                            "0            10602       1              2         3.000000           4.000000   \n",
                            "1            10612       1              2         3.000000           3.000000   \n",
                            "2            10597       1              2         1.000000           1.000000   \n",
                            "3            10597       2              2         2.000000           4.000000   \n",
                            "4            10597       1              1         1.000000           2.000000   \n",
                            "...            ...     ...            ...              ...                ...   \n",
                            "10042        10592       1              1         3.000000           2.000000   \n",
                            "10043        10607       1              2         1.961209           1.705574   \n",
                            "10044        10627       2              2         1.961209           1.705574   \n",
                            "10045        10627       2              2         1.961209           1.705574   \n",
                            "10046        10592       1              1         3.000000           4.000000   \n",
                            "\n",
                            "       data_loss_hybrid  system_error_chance  feature  \n",
                            "0              1.000000                  1.0        0  \n",
                            "1              1.000000                  1.0        0  \n",
                            "2              2.000000                  1.0        1  \n",
                            "3              2.000000                  1.0        0  \n",
                            "4              1.000000                  1.0        1  \n",
                            "...                 ...                  ...      ...  \n",
                            "10042          2.000000                  2.0        1  \n",
                            "10043          1.587279                  1.0        0  \n",
                            "10044          1.587279                  2.0        0  \n",
                            "10045          1.587279                  2.0        0  \n",
                            "10046          1.000000                  1.0        1  \n",
                            "\n",
                            "[10047 rows x 8 columns]"
                        ],
                        "text/html": [
                            "<div>\n",
                            "<style scoped>\n",
                            "    .dataframe tbody tr th:only-of-type {\n",
                            "        vertical-align: middle;\n",
                            "    }\n",
                            "\n",
                            "    .dataframe tbody tr th {\n",
                            "        vertical-align: top;\n",
                            "    }\n",
                            "\n",
                            "    .dataframe thead th {\n",
                            "        text-align: right;\n",
                            "    }\n",
                            "</style>\n",
                            "<table border=\"1\" class=\"dataframe\">\n",
                            "  <thead>\n",
                            "    <tr style=\"text-align: right;\">\n",
                            "      <th></th>\n",
                            "      <th>institution</th>\n",
                            "      <th>system</th>\n",
                            "      <th>data_loss_gen</th>\n",
                            "      <th>data_loss_human</th>\n",
                            "      <th>data_loss_machine</th>\n",
                            "      <th>data_loss_hybrid</th>\n",
                            "      <th>system_error_chance</th>\n",
                            "      <th>feature</th>\n",
                            "    </tr>\n",
                            "  </thead>\n",
                            "  <tbody>\n",
                            "    <tr>\n",
                            "      <th>0</th>\n",
                            "      <td>10602</td>\n",
                            "      <td>1</td>\n",
                            "      <td>2</td>\n",
                            "      <td>3.000000</td>\n",
                            "      <td>4.000000</td>\n",
                            "      <td>1.000000</td>\n",
                            "      <td>1.0</td>\n",
                            "      <td>0</td>\n",
                            "    </tr>\n",
                            "    <tr>\n",
                            "      <th>1</th>\n",
                            "      <td>10612</td>\n",
                            "      <td>1</td>\n",
                            "      <td>2</td>\n",
                            "      <td>3.000000</td>\n",
                            "      <td>3.000000</td>\n",
                            "      <td>1.000000</td>\n",
                            "      <td>1.0</td>\n",
                            "      <td>0</td>\n",
                            "    </tr>\n",
                            "    <tr>\n",
                            "      <th>2</th>\n",
                            "      <td>10597</td>\n",
                            "      <td>1</td>\n",
                            "      <td>2</td>\n",
                            "      <td>1.000000</td>\n",
                            "      <td>1.000000</td>\n",
                            "      <td>2.000000</td>\n",
                            "      <td>1.0</td>\n",
                            "      <td>1</td>\n",
                            "    </tr>\n",
                            "    <tr>\n",
                            "      <th>3</th>\n",
                            "      <td>10597</td>\n",
                            "      <td>2</td>\n",
                            "      <td>2</td>\n",
                            "      <td>2.000000</td>\n",
                            "      <td>4.000000</td>\n",
                            "      <td>2.000000</td>\n",
                            "      <td>1.0</td>\n",
                            "      <td>0</td>\n",
                            "    </tr>\n",
                            "    <tr>\n",
                            "      <th>4</th>\n",
                            "      <td>10597</td>\n",
                            "      <td>1</td>\n",
                            "      <td>1</td>\n",
                            "      <td>1.000000</td>\n",
                            "      <td>2.000000</td>\n",
                            "      <td>1.000000</td>\n",
                            "      <td>1.0</td>\n",
                            "      <td>1</td>\n",
                            "    </tr>\n",
                            "    <tr>\n",
                            "      <th>...</th>\n",
                            "      <td>...</td>\n",
                            "      <td>...</td>\n",
                            "      <td>...</td>\n",
                            "      <td>...</td>\n",
                            "      <td>...</td>\n",
                            "      <td>...</td>\n",
                            "      <td>...</td>\n",
                            "      <td>...</td>\n",
                            "    </tr>\n",
                            "    <tr>\n",
                            "      <th>10042</th>\n",
                            "      <td>10592</td>\n",
                            "      <td>1</td>\n",
                            "      <td>1</td>\n",
                            "      <td>3.000000</td>\n",
                            "      <td>2.000000</td>\n",
                            "      <td>2.000000</td>\n",
                            "      <td>2.0</td>\n",
                            "      <td>1</td>\n",
                            "    </tr>\n",
                            "    <tr>\n",
                            "      <th>10043</th>\n",
                            "      <td>10607</td>\n",
                            "      <td>1</td>\n",
                            "      <td>2</td>\n",
                            "      <td>1.961209</td>\n",
                            "      <td>1.705574</td>\n",
                            "      <td>1.587279</td>\n",
                            "      <td>1.0</td>\n",
                            "      <td>0</td>\n",
                            "    </tr>\n",
                            "    <tr>\n",
                            "      <th>10044</th>\n",
                            "      <td>10627</td>\n",
                            "      <td>2</td>\n",
                            "      <td>2</td>\n",
                            "      <td>1.961209</td>\n",
                            "      <td>1.705574</td>\n",
                            "      <td>1.587279</td>\n",
                            "      <td>2.0</td>\n",
                            "      <td>0</td>\n",
                            "    </tr>\n",
                            "    <tr>\n",
                            "      <th>10045</th>\n",
                            "      <td>10627</td>\n",
                            "      <td>2</td>\n",
                            "      <td>2</td>\n",
                            "      <td>1.961209</td>\n",
                            "      <td>1.705574</td>\n",
                            "      <td>1.587279</td>\n",
                            "      <td>2.0</td>\n",
                            "      <td>0</td>\n",
                            "    </tr>\n",
                            "    <tr>\n",
                            "      <th>10046</th>\n",
                            "      <td>10592</td>\n",
                            "      <td>1</td>\n",
                            "      <td>1</td>\n",
                            "      <td>3.000000</td>\n",
                            "      <td>4.000000</td>\n",
                            "      <td>1.000000</td>\n",
                            "      <td>1.0</td>\n",
                            "      <td>1</td>\n",
                            "    </tr>\n",
                            "  </tbody>\n",
                            "</table>\n",
                            "<p>10047 rows × 8 columns</p>\n",
                            "</div>"
                        ]
                    },
                    "metadata": {},
                    "execution_count": 5
                }
            ],
            "metadata": {}
        },
        {
            "cell_type": "code",
            "execution_count": 17,
            "source": [
                "new_data = dataset.groupby(by='feature')"
            ],
            "outputs": [],
            "metadata": {}
        },
        {
            "cell_type": "code",
            "execution_count": 20,
            "source": [
                "data_absent = new_data.get_group(0)"
            ],
            "outputs": [],
            "metadata": {}
        },
        {
            "cell_type": "code",
            "execution_count": 21,
            "source": [
                "data_present = new_data.get_group(1)"
            ],
            "outputs": [],
            "metadata": {}
        },
        {
            "cell_type": "code",
            "execution_count": 23,
            "source": [
                "data_loss_sys1 = data_absent[data_absent['system'] == 1]"
            ],
            "outputs": [],
            "metadata": {}
        },
        {
            "cell_type": "code",
            "execution_count": 28,
            "source": [
                "data_loss_sys1.shape"
            ],
            "outputs": [
                {
                    "output_type": "execute_result",
                    "data": {
                        "text/plain": [
                            "(1467, 8)"
                        ]
                    },
                    "metadata": {},
                    "execution_count": 28
                }
            ],
            "metadata": {}
        },
        {
            "cell_type": "code",
            "execution_count": 24,
            "source": [
                "data_loss_sys2 = data_present[data_present['system'] == 2]"
            ],
            "outputs": [],
            "metadata": {}
        },
        {
            "cell_type": "code",
            "execution_count": 29,
            "source": [
                "data_loss_sys2.shape"
            ],
            "outputs": [
                {
                    "output_type": "execute_result",
                    "data": {
                        "text/plain": [
                            "(2129, 8)"
                        ]
                    },
                    "metadata": {},
                    "execution_count": 29
                }
            ],
            "metadata": {}
        },
        {
            "cell_type": "code",
            "execution_count": 31,
            "source": [
                "data_lossarr_sys1 = np.array(data_loss_sys1)\r\n",
                "data_lossarr_sys2 = np.array(data_loss_sys2)"
            ],
            "outputs": [],
            "metadata": {}
        },
        {
            "cell_type": "code",
            "execution_count": 39,
            "source": [
                "data_lossarr_sys1\r\n"
            ],
            "outputs": [
                {
                    "output_type": "execute_result",
                    "data": {
                        "text/plain": [
                            "array([[1.0602000e+04, 1.0000000e+00, 2.0000000e+00, ..., 1.0000000e+00,\n",
                            "        1.0000000e+00, 0.0000000e+00],\n",
                            "       [1.0612000e+04, 1.0000000e+00, 2.0000000e+00, ..., 1.0000000e+00,\n",
                            "        1.0000000e+00, 0.0000000e+00],\n",
                            "       [1.0612000e+04, 1.0000000e+00, 2.0000000e+00, ..., 1.0000000e+00,\n",
                            "        1.0000000e+00, 0.0000000e+00],\n",
                            "       ...,\n",
                            "       [1.0602000e+04, 1.0000000e+00, 2.0000000e+00, ..., 2.0000000e+00,\n",
                            "        1.0000000e+00, 0.0000000e+00],\n",
                            "       [1.0617000e+04, 1.0000000e+00, 2.0000000e+00, ..., 1.5872794e+00,\n",
                            "        1.0000000e+00, 0.0000000e+00],\n",
                            "       [1.0607000e+04, 1.0000000e+00, 2.0000000e+00, ..., 1.5872794e+00,\n",
                            "        1.0000000e+00, 0.0000000e+00]])"
                        ]
                    },
                    "metadata": {},
                    "execution_count": 39
                }
            ],
            "metadata": {}
        },
        {
            "cell_type": "code",
            "execution_count": 34,
            "source": [
                "data_lossarr_sys2.shape"
            ],
            "outputs": [
                {
                    "output_type": "execute_result",
                    "data": {
                        "text/plain": [
                            "(2129, 8)"
                        ]
                    },
                    "metadata": {},
                    "execution_count": 34
                }
            ],
            "metadata": {}
        },
        {
            "cell_type": "code",
            "execution_count": 35,
            "source": [
                "random.seed(30)\r\n",
                "\r\n",
                "sample_dataloss_sys1 = random.choices(data_lossarr_sys1, k=1000)\r\n",
                "sample_dataloss_sys2 = random.choices(data_lossarr_sys2, k=1000)"
            ],
            "outputs": [],
            "metadata": {}
        },
        {
            "cell_type": "code",
            "execution_count": 46,
            "source": [
                "from scipy import stats\r\n",
                "\r\n",
                "ttest, pval = stats.ttest_rel(sample_dataloss_sys1, sample_dataloss_sys2)\r\n",
                "\r\n",
                "print(pval)\r\n",
                "\r\n",
                "if pval < ttest.all():\r\n",
                "    print('reject null hypothesis')\r\n",
                "else:\r\n",
                "    print('Accept null hypothesis')"
            ],
            "outputs": [
                {
                    "output_type": "stream",
                    "name": "stdout",
                    "text": [
                        "[0.00000000e+00 0.00000000e+00 1.93247699e-08 1.66744320e-14\n",
                        " 2.38734538e-59 0.00000000e+00 0.00000000e+00 0.00000000e+00]\n"
                    ]
                },
                {
                    "output_type": "error",
                    "ename": "ValueError",
                    "evalue": "The truth value of an array with more than one element is ambiguous. Use a.any() or a.all()",
                    "traceback": [
                        "\u001b[1;31m---------------------------------------------------------------------------\u001b[0m",
                        "\u001b[1;31mValueError\u001b[0m                                Traceback (most recent call last)",
                        "\u001b[1;32m<ipython-input-46-579123a9baa4>\u001b[0m in \u001b[0;36m<module>\u001b[1;34m\u001b[0m\n\u001b[0;32m      5\u001b[0m \u001b[0mprint\u001b[0m\u001b[1;33m(\u001b[0m\u001b[0mp_val\u001b[0m\u001b[1;33m)\u001b[0m\u001b[1;33m\u001b[0m\u001b[1;33m\u001b[0m\u001b[0m\n\u001b[0;32m      6\u001b[0m \u001b[1;33m\u001b[0m\u001b[0m\n\u001b[1;32m----> 7\u001b[1;33m \u001b[1;32mif\u001b[0m \u001b[0mp_val\u001b[0m \u001b[1;33m<\u001b[0m \u001b[0mt_test\u001b[0m\u001b[1;33m.\u001b[0m\u001b[0mall\u001b[0m\u001b[1;33m(\u001b[0m\u001b[1;33m)\u001b[0m\u001b[1;33m:\u001b[0m\u001b[1;33m\u001b[0m\u001b[1;33m\u001b[0m\u001b[0m\n\u001b[0m\u001b[0;32m      8\u001b[0m     \u001b[0mprint\u001b[0m\u001b[1;33m(\u001b[0m\u001b[1;34m'reject null hypothesis'\u001b[0m\u001b[1;33m)\u001b[0m\u001b[1;33m\u001b[0m\u001b[1;33m\u001b[0m\u001b[0m\n\u001b[0;32m      9\u001b[0m \u001b[1;32melse\u001b[0m\u001b[1;33m:\u001b[0m\u001b[1;33m\u001b[0m\u001b[1;33m\u001b[0m\u001b[0m\n",
                        "\u001b[1;31mValueError\u001b[0m: The truth value of an array with more than one element is ambiguous. Use a.any() or a.all()"
                    ]
                }
            ],
            "metadata": {}
        },
        {
            "cell_type": "code",
            "execution_count": null,
            "source": [],
            "outputs": [],
            "metadata": {}
        }
    ],
    "metadata": {
        "orig_nbformat": 4,
        "language_info": {
            "name": "python",
            "version": "3.9.5",
            "mimetype": "text/x-python",
            "codemirror_mode": {
                "name": "ipython",
                "version": 3
            },
            "pygments_lexer": "ipython3",
            "nbconvert_exporter": "python",
            "file_extension": ".py"
        },
        "kernelspec": {
            "name": "python3",
            "display_name": "Python 3.9.5 64-bit (windows store)"
        },
        "interpreter": {
            "hash": "13f38cf28d818ed05ed31d9d4f5b20000160d246f2c83cb873de1fcaec656d23"
        }
    },
    "nbformat": 4,
    "nbformat_minor": 2
}