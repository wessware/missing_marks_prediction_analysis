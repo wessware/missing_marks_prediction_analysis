{
 "cells": [
  {
   "cell_type": "code",
   "execution_count": 36,
   "source": [
    "import pandas as pd\r\n",
    "import matplotlib\r\n",
    "import matplotlib.pyplot as plt\r\n",
    "import numpy as np\r\n",
    "import seaborn as sns \r\n",
    "from sklearn.preprocessing import StandardScaler\r\n",
    "from sklearn.ensemble import RandomForestClassifier\r\n",
    "from sklearn.model_selection import train_test_split\r\n",
    "from sklearn.metrics import accuracy_score, confusion_matrix, classification_report"
   ],
   "outputs": [],
   "metadata": {}
  },
  {
   "cell_type": "code",
   "execution_count": 37,
   "source": [
    "missing_marks = pd.read_csv('missingmarks_clean_data.csv')"
   ],
   "outputs": [],
   "metadata": {}
  },
  {
   "cell_type": "code",
   "execution_count": 38,
   "source": [
    "missing_marks.head()"
   ],
   "outputs": [
    {
     "output_type": "execute_result",
     "data": {
      "text/html": [
       "<div>\n",
       "<style scoped>\n",
       "    .dataframe tbody tr th:only-of-type {\n",
       "        vertical-align: middle;\n",
       "    }\n",
       "\n",
       "    .dataframe tbody tr th {\n",
       "        vertical-align: top;\n",
       "    }\n",
       "\n",
       "    .dataframe thead th {\n",
       "        text-align: right;\n",
       "    }\n",
       "</style>\n",
       "<table border=\"1\" class=\"dataframe\">\n",
       "  <thead>\n",
       "    <tr style=\"text-align: right;\">\n",
       "      <th></th>\n",
       "      <th>institution</th>\n",
       "      <th>system</th>\n",
       "      <th>data_loss_gen</th>\n",
       "      <th>data_loss_human</th>\n",
       "      <th>data_loss_machine</th>\n",
       "      <th>data_loss_hybrid</th>\n",
       "      <th>system_error_chance</th>\n",
       "      <th>feature</th>\n",
       "    </tr>\n",
       "  </thead>\n",
       "  <tbody>\n",
       "    <tr>\n",
       "      <th>0</th>\n",
       "      <td>10602</td>\n",
       "      <td>1</td>\n",
       "      <td>2</td>\n",
       "      <td>3</td>\n",
       "      <td>4</td>\n",
       "      <td>1</td>\n",
       "      <td>1</td>\n",
       "      <td>2</td>\n",
       "    </tr>\n",
       "    <tr>\n",
       "      <th>1</th>\n",
       "      <td>10612</td>\n",
       "      <td>1</td>\n",
       "      <td>2</td>\n",
       "      <td>3</td>\n",
       "      <td>3</td>\n",
       "      <td>1</td>\n",
       "      <td>1</td>\n",
       "      <td>2</td>\n",
       "    </tr>\n",
       "    <tr>\n",
       "      <th>2</th>\n",
       "      <td>10597</td>\n",
       "      <td>1</td>\n",
       "      <td>2</td>\n",
       "      <td>1</td>\n",
       "      <td>1</td>\n",
       "      <td>2</td>\n",
       "      <td>1</td>\n",
       "      <td>1</td>\n",
       "    </tr>\n",
       "    <tr>\n",
       "      <th>3</th>\n",
       "      <td>10597</td>\n",
       "      <td>2</td>\n",
       "      <td>2</td>\n",
       "      <td>2</td>\n",
       "      <td>4</td>\n",
       "      <td>2</td>\n",
       "      <td>1</td>\n",
       "      <td>2</td>\n",
       "    </tr>\n",
       "    <tr>\n",
       "      <th>4</th>\n",
       "      <td>10597</td>\n",
       "      <td>1</td>\n",
       "      <td>1</td>\n",
       "      <td>1</td>\n",
       "      <td>2</td>\n",
       "      <td>1</td>\n",
       "      <td>1</td>\n",
       "      <td>1</td>\n",
       "    </tr>\n",
       "  </tbody>\n",
       "</table>\n",
       "</div>"
      ],
      "text/plain": [
       "   institution  system  data_loss_gen  data_loss_human  data_loss_machine  \\\n",
       "0        10602       1              2                3                  4   \n",
       "1        10612       1              2                3                  3   \n",
       "2        10597       1              2                1                  1   \n",
       "3        10597       2              2                2                  4   \n",
       "4        10597       1              1                1                  2   \n",
       "\n",
       "   data_loss_hybrid  system_error_chance  feature  \n",
       "0                 1                    1        2  \n",
       "1                 1                    1        2  \n",
       "2                 2                    1        1  \n",
       "3                 2                    1        2  \n",
       "4                 1                    1        1  "
      ]
     },
     "metadata": {},
     "execution_count": 38
    }
   ],
   "metadata": {}
  },
  {
   "cell_type": "code",
   "execution_count": 39,
   "source": [
    "missing_marks.shape"
   ],
   "outputs": [
    {
     "output_type": "execute_result",
     "data": {
      "text/plain": [
       "(10047, 8)"
      ]
     },
     "metadata": {},
     "execution_count": 39
    }
   ],
   "metadata": {}
  },
  {
   "cell_type": "code",
   "execution_count": 40,
   "source": [
    "missing_marks.dtypes"
   ],
   "outputs": [
    {
     "output_type": "execute_result",
     "data": {
      "text/plain": [
       "institution            int64\n",
       "system                 int64\n",
       "data_loss_gen          int64\n",
       "data_loss_human        int64\n",
       "data_loss_machine      int64\n",
       "data_loss_hybrid       int64\n",
       "system_error_chance    int64\n",
       "feature                int64\n",
       "dtype: object"
      ]
     },
     "metadata": {},
     "execution_count": 40
    }
   ],
   "metadata": {}
  },
  {
   "cell_type": "code",
   "execution_count": 41,
   "source": [
    "x = missing_marks.drop(columns=['institution', 'system', 'feature'])\r\n",
    "y = missing_marks['feature']"
   ],
   "outputs": [],
   "metadata": {}
  },
  {
   "cell_type": "code",
   "execution_count": 42,
   "source": [
    "x_train_val, x_test, y_train_val, y_test = train_test_split(x, y, test_size=0.2, random_state=30)"
   ],
   "outputs": [],
   "metadata": {}
  },
  {
   "cell_type": "code",
   "execution_count": 43,
   "source": [
    "x_train, x_val, y_train, y_val = train_test_split(x_train_val, y_train_val, test_size=0.25, random_state=30)"
   ],
   "outputs": [],
   "metadata": {}
  },
  {
   "cell_type": "code",
   "execution_count": 44,
   "source": [
    "print('x_train.shape: ', x_train.shape)\r\n",
    "print('y_train.shape: ', y_train.shape)\r\n",
    "print('x_val.shape: ', x_val.shape)\r\n",
    "print('y_val.shape: ', y_val.shape)\r\n",
    "print('x_test.shape: ', x_test.shape)\r\n",
    "print('x_test.shape: ', x_test.shape)\r\n"
   ],
   "outputs": [
    {
     "output_type": "stream",
     "name": "stdout",
     "text": [
      "x_train.shape:  (6027, 5)\n",
      "y_train.shape:  (6027,)\n",
      "x_val.shape:  (2010, 5)\n",
      "y_val.shape:  (2010,)\n",
      "x_test.shape:  (2010, 5)\n",
      "x_test.shape:  (2010, 5)\n"
     ]
    }
   ],
   "metadata": {}
  },
  {
   "cell_type": "code",
   "execution_count": 45,
   "source": [
    "rfc_model = RandomForestClassifier(n_jobs=-1, random_state=42)"
   ],
   "outputs": [],
   "metadata": {}
  },
  {
   "cell_type": "code",
   "execution_count": 46,
   "source": [
    "rfc_model.fit(x_train, y_train)"
   ],
   "outputs": [
    {
     "output_type": "execute_result",
     "data": {
      "text/plain": [
       "RandomForestClassifier(n_jobs=-1, random_state=42)"
      ]
     },
     "metadata": {},
     "execution_count": 46
    }
   ],
   "metadata": {}
  },
  {
   "cell_type": "code",
   "execution_count": 47,
   "source": [
    "rfc_model.score(x_train, y_train)"
   ],
   "outputs": [
    {
     "output_type": "execute_result",
     "data": {
      "text/plain": [
       "0.9726231956197113"
      ]
     },
     "metadata": {},
     "execution_count": 47
    }
   ],
   "metadata": {}
  },
  {
   "cell_type": "code",
   "execution_count": 48,
   "source": [
    "rfc_model.score(x_val, y_val)"
   ],
   "outputs": [
    {
     "output_type": "execute_result",
     "data": {
      "text/plain": [
       "0.9741293532338309"
      ]
     },
     "metadata": {},
     "execution_count": 48
    }
   ],
   "metadata": {}
  },
  {
   "cell_type": "code",
   "execution_count": 49,
   "source": [
    "rfc_proba = rfc_model.predict_proba(x_train)\r\n",
    "rfc_proba"
   ],
   "outputs": [
    {
     "output_type": "execute_result",
     "data": {
      "text/plain": [
       "array([[0.95721773, 0.04278227],\n",
       "       [0.95721773, 0.04278227],\n",
       "       [0.95721773, 0.04278227],\n",
       "       ...,\n",
       "       [1.        , 0.        ],\n",
       "       [0.95810768, 0.04189232],\n",
       "       [1.        , 0.        ]])"
      ]
     },
     "metadata": {},
     "execution_count": 49
    }
   ],
   "metadata": {}
  },
  {
   "cell_type": "code",
   "execution_count": 50,
   "source": [
    "rfc_model.estimators_[0]"
   ],
   "outputs": [
    {
     "output_type": "execute_result",
     "data": {
      "text/plain": [
       "DecisionTreeClassifier(max_features='auto', random_state=1608637542)"
      ]
     },
     "metadata": {},
     "execution_count": 50
    }
   ],
   "metadata": {}
  },
  {
   "cell_type": "markdown",
   "source": [
    "plt.figure(figsize=(80, 20))\r\n",
    "plot_tree(rfc_model.estimators_[0], \r\n",
    "          max_depth=2, \r\n",
    "          feature_names=x_train.columns, \r\n",
    "          filled=True, \r\n",
    "          rounded=True, \r\n",
    "          class_names = rfc_model.classes_\r\n",
    "          )"
   ],
   "metadata": {}
  },
  {
   "cell_type": "code",
   "execution_count": 51,
   "source": [
    "len(rfc_model.estimators_)"
   ],
   "outputs": [
    {
     "output_type": "execute_result",
     "data": {
      "text/plain": [
       "100"
      ]
     },
     "metadata": {},
     "execution_count": 51
    }
   ],
   "metadata": {}
  },
  {
   "cell_type": "code",
   "execution_count": 52,
   "source": [
    "importance_df = pd.DataFrame({\r\n",
    "    'feature' : x_train.columns,\r\n",
    "    'importance' : rfc_model.feature_importances_\r\n",
    "}).sort_values('importance', ascending=False)\r\n",
    "\r\n",
    "importance_df.head(10)"
   ],
   "outputs": [
    {
     "output_type": "execute_result",
     "data": {
      "text/html": [
       "<div>\n",
       "<style scoped>\n",
       "    .dataframe tbody tr th:only-of-type {\n",
       "        vertical-align: middle;\n",
       "    }\n",
       "\n",
       "    .dataframe tbody tr th {\n",
       "        vertical-align: top;\n",
       "    }\n",
       "\n",
       "    .dataframe thead th {\n",
       "        text-align: right;\n",
       "    }\n",
       "</style>\n",
       "<table border=\"1\" class=\"dataframe\">\n",
       "  <thead>\n",
       "    <tr style=\"text-align: right;\">\n",
       "      <th></th>\n",
       "      <th>feature</th>\n",
       "      <th>importance</th>\n",
       "    </tr>\n",
       "  </thead>\n",
       "  <tbody>\n",
       "    <tr>\n",
       "      <th>3</th>\n",
       "      <td>data_loss_hybrid</td>\n",
       "      <td>0.393229</td>\n",
       "    </tr>\n",
       "    <tr>\n",
       "      <th>2</th>\n",
       "      <td>data_loss_machine</td>\n",
       "      <td>0.234244</td>\n",
       "    </tr>\n",
       "    <tr>\n",
       "      <th>1</th>\n",
       "      <td>data_loss_human</td>\n",
       "      <td>0.178285</td>\n",
       "    </tr>\n",
       "    <tr>\n",
       "      <th>0</th>\n",
       "      <td>data_loss_gen</td>\n",
       "      <td>0.151091</td>\n",
       "    </tr>\n",
       "    <tr>\n",
       "      <th>4</th>\n",
       "      <td>system_error_chance</td>\n",
       "      <td>0.043151</td>\n",
       "    </tr>\n",
       "  </tbody>\n",
       "</table>\n",
       "</div>"
      ],
      "text/plain": [
       "               feature  importance\n",
       "3     data_loss_hybrid    0.393229\n",
       "2    data_loss_machine    0.234244\n",
       "1      data_loss_human    0.178285\n",
       "0        data_loss_gen    0.151091\n",
       "4  system_error_chance    0.043151"
      ]
     },
     "metadata": {},
     "execution_count": 52
    }
   ],
   "metadata": {}
  },
  {
   "cell_type": "code",
   "execution_count": 53,
   "source": [
    "sns.set_style('darkgrid')\r\n",
    "matplotlib.rcParams['font.size'] = 14\r\n",
    "matplotlib.rcParams['figure.figsize'] = (10, 6)\r\n",
    "matplotlib.rcParams['figure.facecolor'] = '#000000'\r\n",
    "\r\n",
    "plt.title('Feature Importance')\r\n",
    "sns.barplot(data=importance_df, x='importance', y='feature')"
   ],
   "outputs": [
    {
     "output_type": "execute_result",
     "data": {
      "text/plain": [
       "<AxesSubplot:title={'center':'Feature Importance'}, xlabel='importance', ylabel='feature'>"
      ]
     },
     "metadata": {},
     "execution_count": 53
    },
    {
     "output_type": "display_data",
     "data": {
      "image/png": "[encoded data removed]",
      "text/plain": [
       "<Figure size 720x432 with 1 Axes>"
      ]
     },
     "metadata": {}
    }
   ],
   "metadata": {}
  },
  {
   "cell_type": "code",
   "execution_count": 54,
   "source": [
    "def error_rate(est):\r\n",
    "    rfc_model_1 = RandomForestClassifier(random_state=42, n_jobs=-1, n_estimators=est)\r\n",
    "    rfc_model_1.fit(x_train, y_train)\r\n",
    "    \r\n",
    "    rfc_train_accuracy = 1 - rfc_model_1.score(x_train, y_train)\r\n",
    "    rfc_val_accuracy = 1 - rfc_model_1.score(x_val, y_val)\r\n",
    "    \r\n",
    "    return {\r\n",
    "        'No. of Estimators' : est, \r\n",
    "        'Training Error' : rfc_train_accuracy,\r\n",
    "        'Validation Error' : rfc_val_accuracy\r\n",
    "    }"
   ],
   "outputs": [],
   "metadata": {}
  },
  {
   "cell_type": "code",
   "execution_count": 55,
   "source": [
    "rfc_error_df = pd.DataFrame([error_rate(est) for est in range (1, 30)])"
   ],
   "outputs": [],
   "metadata": {}
  },
  {
   "cell_type": "code",
   "execution_count": 56,
   "source": [
    "rfc_error_df"
   ],
   "outputs": [
    {
     "output_type": "execute_result",
     "data": {
      "text/html": [
       "<div>\n",
       "<style scoped>\n",
       "    .dataframe tbody tr th:only-of-type {\n",
       "        vertical-align: middle;\n",
       "    }\n",
       "\n",
       "    .dataframe tbody tr th {\n",
       "        vertical-align: top;\n",
       "    }\n",
       "\n",
       "    .dataframe thead th {\n",
       "        text-align: right;\n",
       "    }\n",
       "</style>\n",
       "<table border=\"1\" class=\"dataframe\">\n",
       "  <thead>\n",
       "    <tr style=\"text-align: right;\">\n",
       "      <th></th>\n",
       "      <th>No. of Estimators</th>\n",
       "      <th>Training Error</th>\n",
       "      <th>Validation Error</th>\n",
       "    </tr>\n",
       "  </thead>\n",
       "  <tbody>\n",
       "    <tr>\n",
       "      <th>0</th>\n",
       "      <td>1</td>\n",
       "      <td>0.027543</td>\n",
       "      <td>0.025871</td>\n",
       "    </tr>\n",
       "    <tr>\n",
       "      <th>1</th>\n",
       "      <td>2</td>\n",
       "      <td>0.027377</td>\n",
       "      <td>0.025871</td>\n",
       "    </tr>\n",
       "    <tr>\n",
       "      <th>2</th>\n",
       "      <td>3</td>\n",
       "      <td>0.027377</td>\n",
       "      <td>0.025871</td>\n",
       "    </tr>\n",
       "    <tr>\n",
       "      <th>3</th>\n",
       "      <td>4</td>\n",
       "      <td>0.027377</td>\n",
       "      <td>0.025871</td>\n",
       "    </tr>\n",
       "    <tr>\n",
       "      <th>4</th>\n",
       "      <td>5</td>\n",
       "      <td>0.027377</td>\n",
       "      <td>0.025871</td>\n",
       "    </tr>\n",
       "    <tr>\n",
       "      <th>5</th>\n",
       "      <td>6</td>\n",
       "      <td>0.027377</td>\n",
       "      <td>0.025871</td>\n",
       "    </tr>\n",
       "    <tr>\n",
       "      <th>6</th>\n",
       "      <td>7</td>\n",
       "      <td>0.027377</td>\n",
       "      <td>0.025871</td>\n",
       "    </tr>\n",
       "    <tr>\n",
       "      <th>7</th>\n",
       "      <td>8</td>\n",
       "      <td>0.027377</td>\n",
       "      <td>0.025871</td>\n",
       "    </tr>\n",
       "    <tr>\n",
       "      <th>8</th>\n",
       "      <td>9</td>\n",
       "      <td>0.027377</td>\n",
       "      <td>0.025871</td>\n",
       "    </tr>\n",
       "    <tr>\n",
       "      <th>9</th>\n",
       "      <td>10</td>\n",
       "      <td>0.027377</td>\n",
       "      <td>0.025871</td>\n",
       "    </tr>\n",
       "    <tr>\n",
       "      <th>10</th>\n",
       "      <td>11</td>\n",
       "      <td>0.027377</td>\n",
       "      <td>0.025871</td>\n",
       "    </tr>\n",
       "    <tr>\n",
       "      <th>11</th>\n",
       "      <td>12</td>\n",
       "      <td>0.027377</td>\n",
       "      <td>0.025871</td>\n",
       "    </tr>\n",
       "    <tr>\n",
       "      <th>12</th>\n",
       "      <td>13</td>\n",
       "      <td>0.027377</td>\n",
       "      <td>0.025871</td>\n",
       "    </tr>\n",
       "    <tr>\n",
       "      <th>13</th>\n",
       "      <td>14</td>\n",
       "      <td>0.027377</td>\n",
       "      <td>0.025871</td>\n",
       "    </tr>\n",
       "    <tr>\n",
       "      <th>14</th>\n",
       "      <td>15</td>\n",
       "      <td>0.027377</td>\n",
       "      <td>0.025871</td>\n",
       "    </tr>\n",
       "    <tr>\n",
       "      <th>15</th>\n",
       "      <td>16</td>\n",
       "      <td>0.027377</td>\n",
       "      <td>0.025871</td>\n",
       "    </tr>\n",
       "    <tr>\n",
       "      <th>16</th>\n",
       "      <td>17</td>\n",
       "      <td>0.027377</td>\n",
       "      <td>0.025871</td>\n",
       "    </tr>\n",
       "    <tr>\n",
       "      <th>17</th>\n",
       "      <td>18</td>\n",
       "      <td>0.027377</td>\n",
       "      <td>0.025871</td>\n",
       "    </tr>\n",
       "    <tr>\n",
       "      <th>18</th>\n",
       "      <td>19</td>\n",
       "      <td>0.027377</td>\n",
       "      <td>0.025871</td>\n",
       "    </tr>\n",
       "    <tr>\n",
       "      <th>19</th>\n",
       "      <td>20</td>\n",
       "      <td>0.027377</td>\n",
       "      <td>0.025871</td>\n",
       "    </tr>\n",
       "    <tr>\n",
       "      <th>20</th>\n",
       "      <td>21</td>\n",
       "      <td>0.027377</td>\n",
       "      <td>0.025871</td>\n",
       "    </tr>\n",
       "    <tr>\n",
       "      <th>21</th>\n",
       "      <td>22</td>\n",
       "      <td>0.027377</td>\n",
       "      <td>0.025871</td>\n",
       "    </tr>\n",
       "    <tr>\n",
       "      <th>22</th>\n",
       "      <td>23</td>\n",
       "      <td>0.027377</td>\n",
       "      <td>0.025871</td>\n",
       "    </tr>\n",
       "    <tr>\n",
       "      <th>23</th>\n",
       "      <td>24</td>\n",
       "      <td>0.027377</td>\n",
       "      <td>0.025871</td>\n",
       "    </tr>\n",
       "    <tr>\n",
       "      <th>24</th>\n",
       "      <td>25</td>\n",
       "      <td>0.027377</td>\n",
       "      <td>0.025871</td>\n",
       "    </tr>\n",
       "    <tr>\n",
       "      <th>25</th>\n",
       "      <td>26</td>\n",
       "      <td>0.027377</td>\n",
       "      <td>0.025871</td>\n",
       "    </tr>\n",
       "    <tr>\n",
       "      <th>26</th>\n",
       "      <td>27</td>\n",
       "      <td>0.027377</td>\n",
       "      <td>0.025871</td>\n",
       "    </tr>\n",
       "    <tr>\n",
       "      <th>27</th>\n",
       "      <td>28</td>\n",
       "      <td>0.027377</td>\n",
       "      <td>0.025871</td>\n",
       "    </tr>\n",
       "    <tr>\n",
       "      <th>28</th>\n",
       "      <td>29</td>\n",
       "      <td>0.027377</td>\n",
       "      <td>0.025871</td>\n",
       "    </tr>\n",
       "  </tbody>\n",
       "</table>\n",
       "</div>"
      ],
      "text/plain": [
       "    No. of Estimators  Training Error  Validation Error\n",
       "0                   1        0.027543          0.025871\n",
       "1                   2        0.027377          0.025871\n",
       "2                   3        0.027377          0.025871\n",
       "3                   4        0.027377          0.025871\n",
       "4                   5        0.027377          0.025871\n",
       "5                   6        0.027377          0.025871\n",
       "6                   7        0.027377          0.025871\n",
       "7                   8        0.027377          0.025871\n",
       "8                   9        0.027377          0.025871\n",
       "9                  10        0.027377          0.025871\n",
       "10                 11        0.027377          0.025871\n",
       "11                 12        0.027377          0.025871\n",
       "12                 13        0.027377          0.025871\n",
       "13                 14        0.027377          0.025871\n",
       "14                 15        0.027377          0.025871\n",
       "15                 16        0.027377          0.025871\n",
       "16                 17        0.027377          0.025871\n",
       "17                 18        0.027377          0.025871\n",
       "18                 19        0.027377          0.025871\n",
       "19                 20        0.027377          0.025871\n",
       "20                 21        0.027377          0.025871\n",
       "21                 22        0.027377          0.025871\n",
       "22                 23        0.027377          0.025871\n",
       "23                 24        0.027377          0.025871\n",
       "24                 25        0.027377          0.025871\n",
       "25                 26        0.027377          0.025871\n",
       "26                 27        0.027377          0.025871\n",
       "27                 28        0.027377          0.025871\n",
       "28                 29        0.027377          0.025871"
      ]
     },
     "metadata": {},
     "execution_count": 56
    }
   ],
   "metadata": {}
  },
  {
   "cell_type": "code",
   "execution_count": 76,
   "source": [
    "plt.figure()\r\n",
    "plt.plot(rfc_error_df['No. of Estimators'], rfc_error_df['Training Error'])\r\n",
    "plt.plot(rfc_error_df['No. of Estimators'], rfc_error_df['Validation Error'])\r\n",
    "plt.title('Training vs Validation Error')\r\n",
    "plt.xticks(range(0,30,2))\r\n",
    "plt.xlabel('Max. Estimators')\r\n",
    "plt.ylabel('Prediction Error (1 - Accuracy)')\r\n",
    "plt.legend(['Trainng', 'Validation'])"
   ],
   "outputs": [
    {
     "output_type": "execute_result",
     "data": {
      "text/plain": [
       "<matplotlib.legend.Legend at 0x1b34d92b9d0>"
      ]
     },
     "metadata": {},
     "execution_count": 76
    },
    {
     "output_type": "display_data",
     "data": {
      "image/png": "[encoded data removed]",
      "text/plain": [
       "<Figure size 720x432 with 1 Axes>"
      ]
     },
     "metadata": {}
    }
   ],
   "metadata": {}
  },
  {
   "cell_type": "code",
   "execution_count": 58,
   "source": [
    "def md_error_rate(dm):\r\n",
    "    rfc_model_1 = RandomForestClassifier(random_state=42, n_jobs=-1, max_depth=dm)\r\n",
    "    rfc_model_1.fit(x_train, y_train)\r\n",
    "    \r\n",
    "    rfc_train_accuracy = 1 - rfc_model_1.score(x_train, y_train)\r\n",
    "    rfc_val_accuracy = 1 - rfc_model_1.score(x_val, y_val)\r\n",
    "    \r\n",
    "    return {\r\n",
    "        'Max Depth' : dm, \r\n",
    "        'Training Error' : rfc_train_accuracy,\r\n",
    "        'Validation Error' : rfc_val_accuracy\r\n",
    "    }"
   ],
   "outputs": [],
   "metadata": {}
  },
  {
   "cell_type": "code",
   "execution_count": 59,
   "source": [
    "md_df = pd.DataFrame([md_error_rate(dm) for dm in range (1, 26)])"
   ],
   "outputs": [],
   "metadata": {}
  },
  {
   "cell_type": "code",
   "execution_count": 65,
   "source": [
    "plt.figure()\r\n",
    "plt.plot(md_df['Max Depth'], md_df['Training Error'])\r\n",
    "plt.plot(md_df['Max Depth'], md_df['Validation Error'])\r\n",
    "plt.title('Training vs Validation Error')\r\n",
    "plt.xticks(range(0,26,2))\r\n",
    "plt.xlabel('Max Depth')\r\n",
    "plt.ylabel('Prediction Error (1 - Accuracy)')\r\n",
    "plt.legend(['Trainng', 'Validation'])"
   ],
   "outputs": [
    {
     "output_type": "execute_result",
     "data": {
      "text/plain": [
       "<matplotlib.legend.Legend at 0x1b34d9062e0>"
      ]
     },
     "metadata": {},
     "execution_count": 65
    },
    {
     "output_type": "display_data",
     "data": {
      "image/png": "[encoded data removed]",
      "text/plain": [
       "<Figure size 720x432 with 1 Axes>"
      ]
     },
     "metadata": {}
    }
   ],
   "metadata": {}
  },
  {
   "cell_type": "code",
   "execution_count": 61,
   "source": [
    "def mln_error_rate(mln):\r\n",
    "    rfc_model_1 = RandomForestClassifier(random_state=42, n_jobs=-1, max_leaf_nodes=mln)\r\n",
    "    rfc_model_1.fit(x_train, y_train)\r\n",
    "    \r\n",
    "    rfc_train_accuracy = 1 - rfc_model_1.score(x_train, y_train)\r\n",
    "    rfc_val_accuracy = 1 - rfc_model_1.score(x_val, y_val)\r\n",
    "    \r\n",
    "    return {\r\n",
    "        'Max Leaf_nodes' : mln, \r\n",
    "        'Training Error' : rfc_train_accuracy,\r\n",
    "        'Validation Error' : rfc_val_accuracy\r\n",
    "    }"
   ],
   "outputs": [],
   "metadata": {}
  },
  {
   "cell_type": "code",
   "execution_count": 62,
   "source": [
    "mln_df = pd.DataFrame([mln_error_rate(mln) for mln in range(2, 32)])"
   ],
   "outputs": [],
   "metadata": {}
  },
  {
   "cell_type": "code",
   "execution_count": 66,
   "source": [
    "plt.figure()\r\n",
    "plt.plot(mln_df['Max Leaf_nodes'], mln_df['Training Error'])\r\n",
    "plt.plot(mln_df['Max Leaf_nodes'], mln_df['Validation Error'])\r\n",
    "plt.title('Training vs Validation Error')\r\n",
    "plt.xticks(range(0,32,2))\r\n",
    "plt.xlabel('Max Leaf_nodes')\r\n",
    "plt.ylabel('Prediction Error (1 - Accuracy)')\r\n",
    "plt.legend(['Trainng', 'Validation'])"
   ],
   "outputs": [
    {
     "output_type": "execute_result",
     "data": {
      "text/plain": [
       "<matplotlib.legend.Legend at 0x1b34d974910>"
      ]
     },
     "metadata": {},
     "execution_count": 66
    },
    {
     "output_type": "display_data",
     "data": {
      "image/png": "[encoded data removed]",
      "text/plain": [
       "<Figure size 720x432 with 1 Axes>"
      ]
     },
     "metadata": {}
    }
   ],
   "metadata": {}
  },
  {
   "cell_type": "code",
   "execution_count": 67,
   "source": [
    "def mf_error_rate(mf):\r\n",
    "    rfc_model_1 = RandomForestClassifier(random_state=42, n_jobs=-1, max_features=mf)\r\n",
    "    rfc_model_1.fit(x_train, y_train)\r\n",
    "    \r\n",
    "    rfc_train_accuracy = 1 - rfc_model_1.score(x_train, y_train)\r\n",
    "    rfc_val_accuracy = 1 - rfc_model_1.score(x_val, y_val)\r\n",
    "    \r\n",
    "    return {\r\n",
    "        'Max Features' : mf, \r\n",
    "        'Training Error' : rfc_train_accuracy,\r\n",
    "        'Validation Error' : rfc_val_accuracy\r\n",
    "    }"
   ],
   "outputs": [],
   "metadata": {}
  },
  {
   "cell_type": "code",
   "execution_count": 68,
   "source": [
    "mf_df = pd.DataFrame([mf_error_rate('log2')])\r\n",
    "mf_df"
   ],
   "outputs": [
    {
     "output_type": "execute_result",
     "data": {
      "text/html": [
       "<div>\n",
       "<style scoped>\n",
       "    .dataframe tbody tr th:only-of-type {\n",
       "        vertical-align: middle;\n",
       "    }\n",
       "\n",
       "    .dataframe tbody tr th {\n",
       "        vertical-align: top;\n",
       "    }\n",
       "\n",
       "    .dataframe thead th {\n",
       "        text-align: right;\n",
       "    }\n",
       "</style>\n",
       "<table border=\"1\" class=\"dataframe\">\n",
       "  <thead>\n",
       "    <tr style=\"text-align: right;\">\n",
       "      <th></th>\n",
       "      <th>Max Features</th>\n",
       "      <th>Training Error</th>\n",
       "      <th>Validation Error</th>\n",
       "    </tr>\n",
       "  </thead>\n",
       "  <tbody>\n",
       "    <tr>\n",
       "      <th>0</th>\n",
       "      <td>log2</td>\n",
       "      <td>0.027377</td>\n",
       "      <td>0.025871</td>\n",
       "    </tr>\n",
       "  </tbody>\n",
       "</table>\n",
       "</div>"
      ],
      "text/plain": [
       "  Max Features  Training Error  Validation Error\n",
       "0         log2        0.027377          0.025871"
      ]
     },
     "metadata": {},
     "execution_count": 68
    }
   ],
   "metadata": {}
  },
  {
   "cell_type": "code",
   "execution_count": 69,
   "source": [
    "mf_df = pd.DataFrame([mf_error_rate('sqrt')])\r\n",
    "mf_df"
   ],
   "outputs": [
    {
     "output_type": "execute_result",
     "data": {
      "text/html": [
       "<div>\n",
       "<style scoped>\n",
       "    .dataframe tbody tr th:only-of-type {\n",
       "        vertical-align: middle;\n",
       "    }\n",
       "\n",
       "    .dataframe tbody tr th {\n",
       "        vertical-align: top;\n",
       "    }\n",
       "\n",
       "    .dataframe thead th {\n",
       "        text-align: right;\n",
       "    }\n",
       "</style>\n",
       "<table border=\"1\" class=\"dataframe\">\n",
       "  <thead>\n",
       "    <tr style=\"text-align: right;\">\n",
       "      <th></th>\n",
       "      <th>Max Features</th>\n",
       "      <th>Training Error</th>\n",
       "      <th>Validation Error</th>\n",
       "    </tr>\n",
       "  </thead>\n",
       "  <tbody>\n",
       "    <tr>\n",
       "      <th>0</th>\n",
       "      <td>sqrt</td>\n",
       "      <td>0.027377</td>\n",
       "      <td>0.025871</td>\n",
       "    </tr>\n",
       "  </tbody>\n",
       "</table>\n",
       "</div>"
      ],
      "text/plain": [
       "  Max Features  Training Error  Validation Error\n",
       "0         sqrt        0.027377          0.025871"
      ]
     },
     "metadata": {},
     "execution_count": 69
    }
   ],
   "metadata": {}
  },
  {
   "cell_type": "code",
   "execution_count": 70,
   "source": [
    "mf_df = pd.DataFrame([mf_error_rate('auto')])\r\n",
    "mf_df"
   ],
   "outputs": [
    {
     "output_type": "execute_result",
     "data": {
      "text/html": [
       "<div>\n",
       "<style scoped>\n",
       "    .dataframe tbody tr th:only-of-type {\n",
       "        vertical-align: middle;\n",
       "    }\n",
       "\n",
       "    .dataframe tbody tr th {\n",
       "        vertical-align: top;\n",
       "    }\n",
       "\n",
       "    .dataframe thead th {\n",
       "        text-align: right;\n",
       "    }\n",
       "</style>\n",
       "<table border=\"1\" class=\"dataframe\">\n",
       "  <thead>\n",
       "    <tr style=\"text-align: right;\">\n",
       "      <th></th>\n",
       "      <th>Max Features</th>\n",
       "      <th>Training Error</th>\n",
       "      <th>Validation Error</th>\n",
       "    </tr>\n",
       "  </thead>\n",
       "  <tbody>\n",
       "    <tr>\n",
       "      <th>0</th>\n",
       "      <td>auto</td>\n",
       "      <td>0.027377</td>\n",
       "      <td>0.025871</td>\n",
       "    </tr>\n",
       "  </tbody>\n",
       "</table>\n",
       "</div>"
      ],
      "text/plain": [
       "  Max Features  Training Error  Validation Error\n",
       "0         auto        0.027377          0.025871"
      ]
     },
     "metadata": {},
     "execution_count": 70
    }
   ],
   "metadata": {}
  },
  {
   "cell_type": "code",
   "execution_count": 71,
   "source": [
    "def arg_parameters(**params):\r\n",
    "    rf_test = RandomForestClassifier(random_state=42, n_jobs=-1, **params).fit(x_train, y_train)\r\n",
    "    \r\n",
    "    return rf_test.score(x_train, y_train), rf_test.score(x_val, y_val)"
   ],
   "outputs": [],
   "metadata": {}
  },
  {
   "cell_type": "code",
   "execution_count": 72,
   "source": [
    "arg_parameters(min_impurity_decrease=1e-7)"
   ],
   "outputs": [
    {
     "output_type": "execute_result",
     "data": {
      "text/plain": [
       "(0.9726231956197113, 0.9741293532338309)"
      ]
     },
     "metadata": {},
     "execution_count": 72
    }
   ],
   "metadata": {}
  },
  {
   "cell_type": "code",
   "execution_count": 73,
   "source": [
    "arg_parameters(min_impurity_decrease=1e-5)\r\n"
   ],
   "outputs": [
    {
     "output_type": "execute_result",
     "data": {
      "text/plain": [
       "(0.9726231956197113, 0.9741293532338309)"
      ]
     },
     "metadata": {},
     "execution_count": 73
    }
   ],
   "metadata": {}
  },
  {
   "cell_type": "code",
   "execution_count": 74,
   "source": [
    "arg_parameters(bootstrap=False)\r\n"
   ],
   "outputs": [
    {
     "output_type": "execute_result",
     "data": {
      "text/plain": [
       "(0.9726231956197113, 0.9741293532338309)"
      ]
     },
     "metadata": {},
     "execution_count": 74
    }
   ],
   "metadata": {}
  },
  {
   "cell_type": "code",
   "execution_count": 75,
   "source": [
    "arg_parameters(bootstrap=True, max_samples=0.9)\r\n"
   ],
   "outputs": [
    {
     "output_type": "execute_result",
     "data": {
      "text/plain": [
       "(0.9726231956197113, 0.9741293532338309)"
      ]
     },
     "metadata": {},
     "execution_count": 75
    }
   ],
   "metadata": {}
  },
  {
   "cell_type": "code",
   "execution_count": 82,
   "source": [
    "rf_tuned = RandomForestClassifier(\r\n",
    "    random_state=42,\r\n",
    "    n_estimators=4,\r\n",
    "    max_features='sqrt',\r\n",
    "    max_leaf_nodes=4,\r\n",
    "    max_depth=4,\r\n",
    "    min_impurity_decrease=1e-5,\r\n",
    "    bootstrap=True,\r\n",
    "    max_samples=0.9,\r\n",
    ")"
   ],
   "outputs": [],
   "metadata": {}
  },
  {
   "cell_type": "code",
   "execution_count": 83,
   "source": [
    "rf_tuned.fit(x_train, y_train)"
   ],
   "outputs": [
    {
     "output_type": "execute_result",
     "data": {
      "text/plain": [
       "RandomForestClassifier(max_depth=4, max_features='sqrt', max_leaf_nodes=4,\n",
       "                       max_samples=0.9, min_impurity_decrease=1e-05,\n",
       "                       n_estimators=4, random_state=42)"
      ]
     },
     "metadata": {},
     "execution_count": 83
    }
   ],
   "metadata": {}
  },
  {
   "cell_type": "code",
   "execution_count": 85,
   "source": [
    "rf_tuned.score(x_train, y_train), rf_tuned.score(x_val, y_val)"
   ],
   "outputs": [
    {
     "output_type": "execute_result",
     "data": {
      "text/plain": [
       "(0.9653227144516343, 0.9701492537313433)"
      ]
     },
     "metadata": {},
     "execution_count": 85
    }
   ],
   "metadata": {}
  },
  {
   "cell_type": "code",
   "execution_count": 87,
   "source": [
    "rf_tuned.score(x_test, y_test)"
   ],
   "outputs": [
    {
     "output_type": "execute_result",
     "data": {
      "text/plain": [
       "0.9686567164179104"
      ]
     },
     "metadata": {},
     "execution_count": 87
    }
   ],
   "metadata": {}
  },
  {
   "cell_type": "code",
   "execution_count": 88,
   "source": [
    "predictions_1 = rf_tuned.predict(x_test)"
   ],
   "outputs": [],
   "metadata": {}
  },
  {
   "cell_type": "code",
   "execution_count": 90,
   "source": [
    "probability = rf_tuned.predict_proba(x_train)\r\n",
    "probability"
   ],
   "outputs": [
    {
     "output_type": "execute_result",
     "data": {
      "text/plain": [
       "array([[0.95701408, 0.04298592],\n",
       "       [0.95701408, 0.04298592],\n",
       "       [0.95701408, 0.04298592],\n",
       "       ...,\n",
       "       [0.97966998, 0.02033002],\n",
       "       [0.94933739, 0.05066261],\n",
       "       [0.96278195, 0.03721805]])"
      ]
     },
     "metadata": {},
     "execution_count": 90
    }
   ],
   "metadata": {}
  },
  {
   "cell_type": "code",
   "execution_count": 96,
   "source": [
    "probability = rf_tuned.predict_proba(x_test)\r\n",
    "probability"
   ],
   "outputs": [
    {
     "output_type": "execute_result",
     "data": {
      "text/plain": [
       "array([[9.37781955e-01, 6.22180451e-02],\n",
       "       [9.52064903e-01, 4.79350974e-02],\n",
       "       [9.52064903e-01, 4.79350974e-02],\n",
       "       ...,\n",
       "       [9.52064903e-01, 4.79350974e-02],\n",
       "       [7.60650261e-04, 9.99239350e-01],\n",
       "       [9.57014080e-01, 4.29859196e-02]])"
      ]
     },
     "metadata": {},
     "execution_count": 96
    }
   ],
   "metadata": {}
  },
  {
   "cell_type": "code",
   "execution_count": 91,
   "source": [
    "\r\n",
    "\r\n",
    "accuracy = accuracy_score(y_test, predictions_1)\r\n",
    "print('Accuracy = {:.3f}%' .format(accuracy*100))"
   ],
   "outputs": [
    {
     "output_type": "stream",
     "name": "stdout",
     "text": [
      "Accuracy = 96.866%\n"
     ]
    }
   ],
   "metadata": {}
  },
  {
   "cell_type": "code",
   "execution_count": 92,
   "source": [
    "confusion = confusion_matrix(y_test, predictions_1)\r\n",
    "score = confusion.diagonal() / confusion.sum(axis =1) *100\r\n",
    "print('Marks likley to be missing: {:.2f}%' .format(score[0]))\r\n",
    "print('Marks not likely to be missing:  {:.2f}%' .format(score[1]))"
   ],
   "outputs": [
    {
     "output_type": "stream",
     "name": "stdout",
     "text": [
      "Marks likley to be missing: 99.94%\n",
      "Marks not likely to be missing:  80.69%\n"
     ]
    }
   ],
   "metadata": {}
  },
  {
   "cell_type": "code",
   "execution_count": 97,
   "source": [
    "sns.heatmap(confusion/np.sum(confusion), annot=True, fmt='.2%', cmap='Blues')"
   ],
   "outputs": [
    {
     "output_type": "execute_result",
     "data": {
      "text/plain": [
       "<AxesSubplot:>"
      ]
     },
     "metadata": {},
     "execution_count": 97
    },
    {
     "output_type": "display_data",
     "data": {
      "image/png": "[encoded data removed]",
      "text/plain": [
       "<Figure size 720x432 with 2 Axes>"
      ]
     },
     "metadata": {}
    }
   ],
   "metadata": {}
  },
  {
   "cell_type": "code",
   "execution_count": 95,
   "source": [
    "print(classification_report(y_test, predictions_1))"
   ],
   "outputs": [
    {
     "output_type": "stream",
     "name": "stdout",
     "text": [
      "              precision    recall  f1-score   support\n",
      "\n",
      "           1       0.96      1.00      0.98      1689\n",
      "           2       1.00      0.81      0.89       321\n",
      "\n",
      "    accuracy                           0.97      2010\n",
      "   macro avg       0.98      0.90      0.94      2010\n",
      "weighted avg       0.97      0.97      0.97      2010\n",
      "\n"
     ]
    }
   ],
   "metadata": {}
  },
  {
   "cell_type": "code",
   "execution_count": null,
   "source": [],
   "outputs": [],
   "metadata": {}
  }
 ],
 "metadata": {
  "orig_nbformat": 4,
  "language_info": {
   "name": "python",
   "version": "3.9.7",
   "mimetype": "text/x-python",
   "codemirror_mode": {
    "name": "ipython",
    "version": 3
   },
   "pygments_lexer": "ipython3",
   "nbconvert_exporter": "python",
   "file_extension": ".py"
  },
  "kernelspec": {
   "name": "python3",
   "display_name": "Python 3.9.7 64-bit (windows store)"
  },
  "interpreter": {
   "hash": "13f38cf28d818ed05ed31d9d4f5b20000160d246f2c83cb873de1fcaec656d23"
  }
 },
 "nbformat": 4,
 "nbformat_minor": 2
}