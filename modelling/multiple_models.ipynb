{
 "cells": [
  {
   "cell_type": "code",
   "execution_count": 70,
   "source": [
    "import pandas as pd \r\n",
    "import numpy as np \r\n",
    "from sklearn.model_selection import train_test_split\r\n",
    "from sklearn.metrics import mean_absolute_error, mean_squared_error, mean_absolute_percentage_error\r\n",
    "from sklearn.preprocessing import StandardScaler\r\n",
    "\r\n",
    "from sklearn.ensemble import RandomForestRegressor\r\n",
    "from sklearn.ensemble import RandomForestClassifier\r\n",
    "from sklearn.linear_model import LinearRegression\r\n",
    "from xgboost import XGBRFRegressor\r\n",
    "from tensorflow.python.keras.models import Sequential\r\n",
    "from tensorflow.python.keras.layers import Dense\r\n",
    "from prettytable import PrettyTable"
   ],
   "outputs": [],
   "metadata": {}
  },
  {
   "cell_type": "code",
   "execution_count": 71,
   "source": [
    "missing_df = pd.read_csv('missingmarks_clean_data.csv')"
   ],
   "outputs": [],
   "metadata": {}
  },
  {
   "cell_type": "code",
   "execution_count": 72,
   "source": [
    "missing_df.head()"
   ],
   "outputs": [
    {
     "output_type": "execute_result",
     "data": {
      "text/html": [
       "<div>\n",
       "<style scoped>\n",
       "    .dataframe tbody tr th:only-of-type {\n",
       "        vertical-align: middle;\n",
       "    }\n",
       "\n",
       "    .dataframe tbody tr th {\n",
       "        vertical-align: top;\n",
       "    }\n",
       "\n",
       "    .dataframe thead th {\n",
       "        text-align: right;\n",
       "    }\n",
       "</style>\n",
       "<table border=\"1\" class=\"dataframe\">\n",
       "  <thead>\n",
       "    <tr style=\"text-align: right;\">\n",
       "      <th></th>\n",
       "      <th>institution</th>\n",
       "      <th>system</th>\n",
       "      <th>data_loss_gen</th>\n",
       "      <th>data_loss_human</th>\n",
       "      <th>data_loss_machine</th>\n",
       "      <th>data_loss_hybrid</th>\n",
       "      <th>system_error_chance</th>\n",
       "      <th>feature</th>\n",
       "    </tr>\n",
       "  </thead>\n",
       "  <tbody>\n",
       "    <tr>\n",
       "      <th>0</th>\n",
       "      <td>10602</td>\n",
       "      <td>1</td>\n",
       "      <td>2</td>\n",
       "      <td>3</td>\n",
       "      <td>4</td>\n",
       "      <td>1</td>\n",
       "      <td>1</td>\n",
       "      <td>2</td>\n",
       "    </tr>\n",
       "    <tr>\n",
       "      <th>1</th>\n",
       "      <td>10612</td>\n",
       "      <td>1</td>\n",
       "      <td>2</td>\n",
       "      <td>3</td>\n",
       "      <td>3</td>\n",
       "      <td>1</td>\n",
       "      <td>1</td>\n",
       "      <td>2</td>\n",
       "    </tr>\n",
       "    <tr>\n",
       "      <th>2</th>\n",
       "      <td>10597</td>\n",
       "      <td>1</td>\n",
       "      <td>2</td>\n",
       "      <td>1</td>\n",
       "      <td>1</td>\n",
       "      <td>2</td>\n",
       "      <td>1</td>\n",
       "      <td>1</td>\n",
       "    </tr>\n",
       "    <tr>\n",
       "      <th>3</th>\n",
       "      <td>10597</td>\n",
       "      <td>2</td>\n",
       "      <td>2</td>\n",
       "      <td>2</td>\n",
       "      <td>4</td>\n",
       "      <td>2</td>\n",
       "      <td>1</td>\n",
       "      <td>2</td>\n",
       "    </tr>\n",
       "    <tr>\n",
       "      <th>4</th>\n",
       "      <td>10597</td>\n",
       "      <td>1</td>\n",
       "      <td>1</td>\n",
       "      <td>1</td>\n",
       "      <td>2</td>\n",
       "      <td>1</td>\n",
       "      <td>1</td>\n",
       "      <td>1</td>\n",
       "    </tr>\n",
       "  </tbody>\n",
       "</table>\n",
       "</div>"
      ],
      "text/plain": [
       "   institution  system  data_loss_gen  data_loss_human  data_loss_machine  \\\n",
       "0        10602       1              2                3                  4   \n",
       "1        10612       1              2                3                  3   \n",
       "2        10597       1              2                1                  1   \n",
       "3        10597       2              2                2                  4   \n",
       "4        10597       1              1                1                  2   \n",
       "\n",
       "   data_loss_hybrid  system_error_chance  feature  \n",
       "0                 1                    1        2  \n",
       "1                 1                    1        2  \n",
       "2                 2                    1        1  \n",
       "3                 2                    1        2  \n",
       "4                 1                    1        1  "
      ]
     },
     "metadata": {},
     "execution_count": 72
    }
   ],
   "metadata": {}
  },
  {
   "cell_type": "code",
   "execution_count": 73,
   "source": [
    "missing_df.isnull().values.any()"
   ],
   "outputs": [
    {
     "output_type": "execute_result",
     "data": {
      "text/plain": [
       "False"
      ]
     },
     "metadata": {},
     "execution_count": 73
    }
   ],
   "metadata": {}
  },
  {
   "cell_type": "code",
   "execution_count": 74,
   "source": [
    "missing_df.isnull().sum().sum()"
   ],
   "outputs": [
    {
     "output_type": "execute_result",
     "data": {
      "text/plain": [
       "0"
      ]
     },
     "metadata": {},
     "execution_count": 74
    }
   ],
   "metadata": {}
  },
  {
   "cell_type": "code",
   "execution_count": 75,
   "source": [
    "missing_df.dtypes"
   ],
   "outputs": [
    {
     "output_type": "execute_result",
     "data": {
      "text/plain": [
       "institution            int64\n",
       "system                 int64\n",
       "data_loss_gen          int64\n",
       "data_loss_human        int64\n",
       "data_loss_machine      int64\n",
       "data_loss_hybrid       int64\n",
       "system_error_chance    int64\n",
       "feature                int64\n",
       "dtype: object"
      ]
     },
     "metadata": {},
     "execution_count": 75
    }
   ],
   "metadata": {}
  },
  {
   "cell_type": "code",
   "execution_count": 76,
   "source": [
    "train_cols = ['data_loss_gen', 'data_loss_human', 'data_loss_machine', 'data_loss_hybrid', 'system_error_chance']\r\n",
    "x = missing_df[train_cols]\r\n",
    "y = missing_df['feature']"
   ],
   "outputs": [],
   "metadata": {}
  },
  {
   "cell_type": "code",
   "execution_count": 77,
   "source": [
    "x_train, x_test, y_train, y_test = train_test_split(x, y, test_size=0.2, random_state=25)"
   ],
   "outputs": [],
   "metadata": {}
  },
  {
   "cell_type": "code",
   "execution_count": 78,
   "source": [
    "scaler = StandardScaler()\r\n",
    "\r\n",
    "X_train_scale = scaler.fit_transform(x_train)\r\n",
    "X_test_scale = scaler.fit_transform(x_test)"
   ],
   "outputs": [],
   "metadata": {}
  },
  {
   "cell_type": "code",
   "execution_count": 79,
   "source": [
    "from sklearn.svm import SVC\r\n",
    "import numpy as np"
   ],
   "outputs": [],
   "metadata": {}
  },
  {
   "cell_type": "code",
   "execution_count": 141,
   "source": [
    "def auto_train (x,y, model_alg):\r\n",
    "    if model_alg == 'lr':\r\n",
    "        model = LinearRegression()\r\n",
    "    elif model_alg == 'sv':\r\n",
    "        model = SVC(kernel= 'linear', C=1, random_state=1)\r\n",
    "    elif model_alg == 'xgb':\r\n",
    "        model = XGBRFRegressor()\r\n",
    "    elif model_alg == 'rfr':\r\n",
    "        model = RandomForestRegressor()\r\n",
    "    elif model_alg == 'rfc':\r\n",
    "        model = RandomForestClassifier()\r\n",
    "        \r\n",
    "    model.fit(X_train_scale, np.log(y))\r\n",
    "    \r\n",
    "    return model"
   ],
   "outputs": [],
   "metadata": {}
  },
  {
   "cell_type": "code",
   "execution_count": 81,
   "source": [
    "def auto_evaluate(model, x, y):\r\n",
    "    predictions = model.predict(x)\r\n",
    "    predictions = np.exp(predictions)\r\n",
    "    \r\n",
    "    mse = mean_squared_error(y, predictions)\r\n",
    "    mae = mean_absolute_error(y, predictions)\r\n",
    "    mape = mean_absolute_percentage_error(y, predictions)\r\n",
    "    \r\n",
    "    mse = round(mse, 2)\r\n",
    "    mae = round(mae, 2)\r\n",
    "    mape = round(mape, 2)\r\n",
    "    \r\n",
    "    return [mse, mae, mape]"
   ],
   "outputs": [],
   "metadata": {}
  },
  {
   "cell_type": "code",
   "execution_count": 143,
   "source": [
    "linear = auto_train(X_train_scale, y_train, 'lr')\r\n",
    "#svm = auto_train(X_train_scale, y_train, 'sv')\r\n",
    "xgboost = auto_train(X_train_scale, y_train, 'xgb')\r\n",
    "random_forest_reg = auto_train(X_train_scale, y_train, 'rfr')\r\n",
    "#random_forest_cls = auto_train(X_train_scale, y_train, 'rfc')"
   ],
   "outputs": [],
   "metadata": {}
  },
  {
   "cell_type": "code",
   "execution_count": 89,
   "source": [
    "linear_evaluate = auto_evaluate(linear, X_test_scale, y_test)\r\n",
    "linear_evaluate"
   ],
   "outputs": [
    {
     "output_type": "execute_result",
     "data": {
      "text/plain": [
       "[0.04, 0.11, 0.08]"
      ]
     },
     "metadata": {},
     "execution_count": 89
    }
   ],
   "metadata": {}
  },
  {
   "cell_type": "code",
   "execution_count": 90,
   "source": [
    "xg_evaluate = auto_evaluate(xgboost, X_test_scale, y_test)\r\n",
    "xg_evaluate"
   ],
   "outputs": [
    {
     "output_type": "execute_result",
     "data": {
      "text/plain": [
       "[0.02, 0.04, 0.03]"
      ]
     },
     "metadata": {},
     "execution_count": 90
    }
   ],
   "metadata": {}
  },
  {
   "cell_type": "code",
   "execution_count": 91,
   "source": [
    "forest_evalaute = auto_evaluate(random_forest_reg, X_test_scale, y_test)\r\n",
    "forest_evalaute"
   ],
   "outputs": [
    {
     "output_type": "execute_result",
     "data": {
      "text/plain": [
       "[0.02, 0.04, 0.03]"
      ]
     },
     "metadata": {},
     "execution_count": 91
    }
   ],
   "metadata": {}
  },
  {
   "cell_type": "code",
   "execution_count": 92,
   "source": [
    "dl_min = Sequential()\r\n",
    "\r\n",
    "dl_min.add(Dense(16, input_dim=X_train_scale.shape[1], activation='relu'))\r\n",
    "dl_min.add(Dense(8, activation='relu'))\r\n",
    "dl_min.add(Dense(4, activation='relu'))\r\n",
    "dl_min.add(Dense(1, activation='linear'))\r\n",
    "\r\n",
    "dl_min.compile(loss='mean_squared_error', optimizer='adam')\r\n",
    "dl_min.summary()"
   ],
   "outputs": [
    {
     "output_type": "stream",
     "name": "stdout",
     "text": [
      "Model: \"sequential\"\n",
      "_________________________________________________________________\n",
      "Layer (type)                 Output Shape              Param #   \n",
      "=================================================================\n",
      "dense (Dense)                (None, 16)                96        \n",
      "_________________________________________________________________\n",
      "dense_1 (Dense)              (None, 8)                 136       \n",
      "_________________________________________________________________\n",
      "dense_2 (Dense)              (None, 4)                 36        \n",
      "_________________________________________________________________\n",
      "dense_3 (Dense)              (None, 1)                 5         \n",
      "=================================================================\n",
      "Total params: 273\n",
      "Trainable params: 273\n",
      "Non-trainable params: 0\n",
      "_________________________________________________________________\n"
     ]
    }
   ],
   "metadata": {}
  },
  {
   "cell_type": "code",
   "execution_count": 93,
   "source": [
    "epochs = 20\r\n",
    "batch_size = 10"
   ],
   "outputs": [],
   "metadata": {}
  },
  {
   "cell_type": "code",
   "execution_count": 106,
   "source": [
    "from livelossplot import PlotLossesKeras\r\n",
    "\r\n",
    "dl_min.fit(X_train_scale, np.log(y_train),\r\n",
    "validation_data = (X_test_scale, np.log(y_test)),\r\n",
    "epochs = epochs,\r\n",
    "verbose=0,\r\n",
    "batch_size = batch_size)\r\n"
   ],
   "outputs": [
    {
     "output_type": "stream",
     "name": "stdout",
     "text": [
      "Epoch 1/20\n",
      "804/804 [==============================] - 6s 7ms/step - loss: 0.0142 - val_loss: 0.0108\n",
      "Epoch 2/20\n",
      "804/804 [==============================] - 5s 6ms/step - loss: 0.0135 - val_loss: 0.0107\n",
      "Epoch 3/20\n",
      "804/804 [==============================] - 5s 6ms/step - loss: 0.0135 - val_loss: 0.0103\n",
      "Epoch 4/20\n",
      "804/804 [==============================] - 4s 5ms/step - loss: 0.0134 - val_loss: 0.0104\n",
      "Epoch 5/20\n",
      "804/804 [==============================] - 4s 4ms/step - loss: 0.0133 - val_loss: 0.0104\n",
      "Epoch 6/20\n",
      "804/804 [==============================] - 3s 4ms/step - loss: 0.0133 - val_loss: 0.0104\n",
      "Epoch 7/20\n",
      "804/804 [==============================] - 3s 4ms/step - loss: 0.0133 - val_loss: 0.0108\n",
      "Epoch 8/20\n",
      "804/804 [==============================] - 3s 3ms/step - loss: 0.0132 - val_loss: 0.0104\n",
      "Epoch 9/20\n",
      "804/804 [==============================] - 3s 3ms/step - loss: 0.0133 - val_loss: 0.0103\n",
      "Epoch 10/20\n",
      "804/804 [==============================] - 3s 3ms/step - loss: 0.0133 - val_loss: 0.0104\n",
      "Epoch 11/20\n",
      "804/804 [==============================] - 2s 3ms/step - loss: 0.0133 - val_loss: 0.0105\n",
      "Epoch 12/20\n",
      "804/804 [==============================] - 2s 3ms/step - loss: 0.0132 - val_loss: 0.0103\n",
      "Epoch 13/20\n",
      "804/804 [==============================] - 2s 3ms/step - loss: 0.0132 - val_loss: 0.0104\n",
      "Epoch 14/20\n",
      "804/804 [==============================] - 2s 3ms/step - loss: 0.0132 - val_loss: 0.0108\n",
      "Epoch 15/20\n",
      "804/804 [==============================] - 3s 3ms/step - loss: 0.0132 - val_loss: 0.0103\n",
      "Epoch 16/20\n",
      "804/804 [==============================] - 2s 3ms/step - loss: 0.0133 - val_loss: 0.0109\n",
      "Epoch 17/20\n",
      "804/804 [==============================] - 2s 3ms/step - loss: 0.0133 - val_loss: 0.0108\n",
      "Epoch 18/20\n",
      "804/804 [==============================] - 2s 3ms/step - loss: 0.0132 - val_loss: 0.0107\n",
      "Epoch 19/20\n",
      "804/804 [==============================] - 2s 3ms/step - loss: 0.0132 - val_loss: 0.0105\n",
      "Epoch 20/20\n",
      "804/804 [==============================] - 2s 3ms/step - loss: 0.0132 - val_loss: 0.0107\n"
     ]
    },
    {
     "output_type": "execute_result",
     "data": {
      "text/plain": [
       "<tensorflow.python.keras.callbacks.History at 0x1ff0f034a30>"
      ]
     },
     "metadata": {},
     "execution_count": 106
    }
   ],
   "metadata": {}
  },
  {
   "cell_type": "code",
   "execution_count": 107,
   "source": [
    "history_df = pd.DataFrame(dl_min.history.history)\r\n",
    "history_df.head(10)"
   ],
   "outputs": [
    {
     "output_type": "execute_result",
     "data": {
      "text/html": [
       "<div>\n",
       "<style scoped>\n",
       "    .dataframe tbody tr th:only-of-type {\n",
       "        vertical-align: middle;\n",
       "    }\n",
       "\n",
       "    .dataframe tbody tr th {\n",
       "        vertical-align: top;\n",
       "    }\n",
       "\n",
       "    .dataframe thead th {\n",
       "        text-align: right;\n",
       "    }\n",
       "</style>\n",
       "<table border=\"1\" class=\"dataframe\">\n",
       "  <thead>\n",
       "    <tr style=\"text-align: right;\">\n",
       "      <th></th>\n",
       "      <th>loss</th>\n",
       "      <th>val_loss</th>\n",
       "    </tr>\n",
       "  </thead>\n",
       "  <tbody>\n",
       "    <tr>\n",
       "      <th>0</th>\n",
       "      <td>0.014236</td>\n",
       "      <td>0.010783</td>\n",
       "    </tr>\n",
       "    <tr>\n",
       "      <th>1</th>\n",
       "      <td>0.013459</td>\n",
       "      <td>0.010670</td>\n",
       "    </tr>\n",
       "    <tr>\n",
       "      <th>2</th>\n",
       "      <td>0.013493</td>\n",
       "      <td>0.010326</td>\n",
       "    </tr>\n",
       "    <tr>\n",
       "      <th>3</th>\n",
       "      <td>0.013367</td>\n",
       "      <td>0.010422</td>\n",
       "    </tr>\n",
       "    <tr>\n",
       "      <th>4</th>\n",
       "      <td>0.013297</td>\n",
       "      <td>0.010414</td>\n",
       "    </tr>\n",
       "    <tr>\n",
       "      <th>5</th>\n",
       "      <td>0.013315</td>\n",
       "      <td>0.010442</td>\n",
       "    </tr>\n",
       "    <tr>\n",
       "      <th>6</th>\n",
       "      <td>0.013267</td>\n",
       "      <td>0.010793</td>\n",
       "    </tr>\n",
       "    <tr>\n",
       "      <th>7</th>\n",
       "      <td>0.013248</td>\n",
       "      <td>0.010382</td>\n",
       "    </tr>\n",
       "    <tr>\n",
       "      <th>8</th>\n",
       "      <td>0.013289</td>\n",
       "      <td>0.010284</td>\n",
       "    </tr>\n",
       "    <tr>\n",
       "      <th>9</th>\n",
       "      <td>0.013262</td>\n",
       "      <td>0.010353</td>\n",
       "    </tr>\n",
       "  </tbody>\n",
       "</table>\n",
       "</div>"
      ],
      "text/plain": [
       "       loss  val_loss\n",
       "0  0.014236  0.010783\n",
       "1  0.013459  0.010670\n",
       "2  0.013493  0.010326\n",
       "3  0.013367  0.010422\n",
       "4  0.013297  0.010414\n",
       "5  0.013315  0.010442\n",
       "6  0.013267  0.010793\n",
       "7  0.013248  0.010382\n",
       "8  0.013289  0.010284\n",
       "9  0.013262  0.010353"
      ]
     },
     "metadata": {},
     "execution_count": 107
    }
   ],
   "metadata": {}
  },
  {
   "cell_type": "code",
   "execution_count": 112,
   "source": [
    "import matplotlib.pyplot as plt\r\n",
    "\r\n",
    "plt.figure(figsize=(20,10))\r\n",
    "plt.plot(history_df['loss'], label='loss')\r\n",
    "plt.plot(history_df['val_loss'], label='val_loss')\r\n",
    "plt.xticks(np.arange(1, epochs+1, 2))\r\n",
    "plt.yticks(np.arange(1, max(history_df['loss']), 0.5))\r\n",
    "plt.legend()\r\n",
    "plt.grid()"
   ],
   "outputs": [
    {
     "output_type": "display_data",
     "data": {
      "image/png": "[encoded data removed]",
      "text/plain": [
       "<Figure size 1440x720 with 1 Axes>"
      ]
     },
     "metadata": {
      "needs_background": "light"
     }
    }
   ],
   "metadata": {}
  },
  {
   "cell_type": "code",
   "execution_count": 108,
   "source": [
    "dl_min_evaluate = auto_evaluate(dl_min, X_test_scale, y_test)\r\n",
    "dl_min_evaluate"
   ],
   "outputs": [
    {
     "output_type": "execute_result",
     "data": {
      "text/plain": [
       "[0.02, 0.05, 0.04]"
      ]
     },
     "metadata": {},
     "execution_count": 108
    }
   ],
   "metadata": {}
  },
  {
   "cell_type": "code",
   "execution_count": 109,
   "source": [
    "dl_max = Sequential()\r\n",
    "\r\n",
    "dl_max.add(Dense(64, input_dim=X_train_scale.shape[1], activation='relu'))\r\n",
    "dl_max.add(Dense(32, activation='relu'))\r\n",
    "dl_max.add(Dense(16, activation='relu'))\r\n",
    "dl_max.add(Dense(1, activation='linear'))\r\n",
    "\r\n",
    "dl_max.compile(loss='mean_squared_error', optimizer='adam')\r\n",
    "\r\n",
    "dl_max.summary()"
   ],
   "outputs": [
    {
     "output_type": "stream",
     "name": "stdout",
     "text": [
      "Model: \"sequential_3\"\n",
      "_________________________________________________________________\n",
      "Layer (type)                 Output Shape              Param #   \n",
      "=================================================================\n",
      "dense_10 (Dense)             (None, 64)                384       \n",
      "_________________________________________________________________\n",
      "dense_11 (Dense)             (None, 32)                2080      \n",
      "_________________________________________________________________\n",
      "dense_12 (Dense)             (None, 16)                528       \n",
      "_________________________________________________________________\n",
      "dense_13 (Dense)             (None, 1)                 17        \n",
      "=================================================================\n",
      "Total params: 3,009\n",
      "Trainable params: 3,009\n",
      "Non-trainable params: 0\n",
      "_________________________________________________________________\n"
     ]
    }
   ],
   "metadata": {}
  },
  {
   "cell_type": "code",
   "execution_count": 121,
   "source": [
    "dl_max.fit(X_train_scale, np.log(y_train),\r\n",
    "validation_data=(X_test_scale, np.log(y_test)),\r\n",
    "epochs= epochs,\r\n",
    "batch_size = batch_size)"
   ],
   "outputs": [
    {
     "output_type": "stream",
     "name": "stdout",
     "text": [
      "Epoch 1/20\n",
      "804/804 [==============================] - 6s 7ms/step - loss: 0.0129 - val_loss: 0.0102\n",
      "Epoch 2/20\n",
      "804/804 [==============================] - 4s 5ms/step - loss: 0.0130 - val_loss: 0.0102\n",
      "Epoch 3/20\n",
      "804/804 [==============================] - 5s 6ms/step - loss: 0.0130 - val_loss: 0.0102\n",
      "Epoch 4/20\n",
      "804/804 [==============================] - 4s 5ms/step - loss: 0.0129 - val_loss: 0.0102\n",
      "Epoch 5/20\n",
      "804/804 [==============================] - 3s 4ms/step - loss: 0.0129 - val_loss: 0.0102\n",
      "Epoch 6/20\n",
      "804/804 [==============================] - 3s 4ms/step - loss: 0.0130 - val_loss: 0.0103\n",
      "Epoch 7/20\n",
      "804/804 [==============================] - 3s 4ms/step - loss: 0.0129 - val_loss: 0.0102\n",
      "Epoch 8/20\n",
      "804/804 [==============================] - 4s 4ms/step - loss: 0.0129 - val_loss: 0.0103\n",
      "Epoch 9/20\n",
      "804/804 [==============================] - 3s 4ms/step - loss: 0.0129 - val_loss: 0.0104\n",
      "Epoch 10/20\n",
      "804/804 [==============================] - 3s 4ms/step - loss: 0.0129 - val_loss: 0.0102\n",
      "Epoch 11/20\n",
      "804/804 [==============================] - 3s 4ms/step - loss: 0.0129 - val_loss: 0.0103\n",
      "Epoch 12/20\n",
      "804/804 [==============================] - 3s 4ms/step - loss: 0.0129 - val_loss: 0.0103\n",
      "Epoch 13/20\n",
      "804/804 [==============================] - 3s 3ms/step - loss: 0.0129 - val_loss: 0.0103\n",
      "Epoch 14/20\n",
      "804/804 [==============================] - 3s 3ms/step - loss: 0.0129 - val_loss: 0.0102\n",
      "Epoch 15/20\n",
      "804/804 [==============================] - 3s 3ms/step - loss: 0.0129 - val_loss: 0.0102\n",
      "Epoch 16/20\n",
      "804/804 [==============================] - 3s 3ms/step - loss: 0.0129 - val_loss: 0.0102\n",
      "Epoch 17/20\n",
      "804/804 [==============================] - 3s 3ms/step - loss: 0.0129 - val_loss: 0.0102\n",
      "Epoch 18/20\n",
      "804/804 [==============================] - 3s 3ms/step - loss: 0.0129 - val_loss: 0.0102\n",
      "Epoch 19/20\n",
      "804/804 [==============================] - 3s 3ms/step - loss: 0.0129 - val_loss: 0.0103\n",
      "Epoch 20/20\n",
      "804/804 [==============================] - 3s 3ms/step - loss: 0.0129 - val_loss: 0.0102\n"
     ]
    },
    {
     "output_type": "execute_result",
     "data": {
      "text/plain": [
       "<tensorflow.python.keras.callbacks.History at 0x1ff10137eb0>"
      ]
     },
     "metadata": {},
     "execution_count": 121
    }
   ],
   "metadata": {}
  },
  {
   "cell_type": "code",
   "execution_count": 122,
   "source": [
    "dl_max_evaluate = auto_evaluate(dl_max, X_test_scale, y_test)\r\n",
    "dl_max_evaluate"
   ],
   "outputs": [
    {
     "output_type": "execute_result",
     "data": {
      "text/plain": [
       "[0.02, 0.05, 0.03]"
      ]
     },
     "metadata": {},
     "execution_count": 122
    }
   ],
   "metadata": {}
  },
  {
   "cell_type": "code",
   "execution_count": 123,
   "source": [
    "historymax_df =  pd.DataFrame(dl_max.history.history)\r\n",
    "historymax_df.head()"
   ],
   "outputs": [
    {
     "output_type": "execute_result",
     "data": {
      "text/html": [
       "<div>\n",
       "<style scoped>\n",
       "    .dataframe tbody tr th:only-of-type {\n",
       "        vertical-align: middle;\n",
       "    }\n",
       "\n",
       "    .dataframe tbody tr th {\n",
       "        vertical-align: top;\n",
       "    }\n",
       "\n",
       "    .dataframe thead th {\n",
       "        text-align: right;\n",
       "    }\n",
       "</style>\n",
       "<table border=\"1\" class=\"dataframe\">\n",
       "  <thead>\n",
       "    <tr style=\"text-align: right;\">\n",
       "      <th></th>\n",
       "    </tr>\n",
       "  </thead>\n",
       "  <tbody>\n",
       "  </tbody>\n",
       "</table>\n",
       "</div>"
      ],
      "text/plain": [
       "Empty DataFrame\n",
       "Columns: []\n",
       "Index: []"
      ]
     },
     "metadata": {},
     "execution_count": 123
    }
   ],
   "metadata": {}
  },
  {
   "cell_type": "code",
   "execution_count": 125,
   "source": [
    "summary = PrettyTable(['Model', 'MSE', 'MAE', 'MAPE'])\r\n",
    "\r\n",
    "summary.add_row(['LR'] + auto_evaluate(linear, X_test_scale, y_test))\r\n",
    "summary.add_row(['XGB'] + auto_evaluate(xgboost, X_test_scale, y_test))\r\n",
    "summary.add_row(['RFR'] + auto_evaluate(random_forest_reg, X_test_scale, y_test))\r\n",
    "\r\n",
    "summary.add_row(['DL_MIN'] + auto_evaluate(dl_min, X_test_scale, y_test))\r\n",
    "summary.add_row(['DL_MAX'] + auto_evaluate(dl_max, X_test_scale, y_test))\r\n",
    "\r\n",
    "print(summary)"
   ],
   "outputs": [
    {
     "output_type": "stream",
     "name": "stdout",
     "text": [
      "+--------+------+------+------+\n",
      "| Model  | MSE  | MAE  | MAPE |\n",
      "+--------+------+------+------+\n",
      "|   LR   | 0.04 | 0.11 | 0.08 |\n",
      "|  XGB   | 0.02 | 0.04 | 0.03 |\n",
      "|  RFR   | 0.02 | 0.04 | 0.03 |\n",
      "| DL_MIN | 0.02 | 0.05 | 0.04 |\n",
      "| DL_MAX | 0.02 | 0.05 | 0.03 |\n",
      "+--------+------+------+------+\n"
     ]
    }
   ],
   "metadata": {}
  },
  {
   "cell_type": "code",
   "execution_count": 136,
   "source": [
    "predict_1 = np.exp(linear.predict(X_test_scale))"
   ],
   "outputs": [],
   "metadata": {}
  },
  {
   "cell_type": "code",
   "execution_count": null,
   "source": [
    "predict = np.exp(random_forest_reg.predict(X_test_scale))"
   ],
   "outputs": [],
   "metadata": {}
  },
  {
   "cell_type": "code",
   "execution_count": null,
   "source": [
    "observes = 20\r\n",
    "\r\n",
    "x_ax = range(len(y_test[:observes]))"
   ],
   "outputs": [],
   "metadata": {}
  },
  {
   "cell_type": "code",
   "execution_count": null,
   "source": [
    "plt.figure(figsize=(20,10))\r\n",
    "\r\n",
    "plt.plot(x_ax, y_test[:observes], label='True')\r\n",
    "plt.plot(x_ax, predict[:observes], label='predicted')\r\n",
    "plt.title(\"Predicted chance of Data loss\")\r\n",
    "plt.xlabel('NUmber of cases')\r\n",
    "plt.ylabel('Likelihood')\r\n",
    "plt.xticks(np.arange(observes))\r\n",
    "plt.legend()\r\n",
    "plt.grid()\r\n",
    "plt.show()"
   ],
   "outputs": [
    {
     "output_type": "display_data",
     "data": {
      "image/png": "[encoded data removed]",
      "text/plain": [
       "<Figure size 1440x720 with 1 Axes>"
      ]
     },
     "metadata": {
      "needs_background": "light"
     }
    }
   ],
   "metadata": {}
  },
  {
   "cell_type": "code",
   "execution_count": null,
   "source": [],
   "outputs": [],
   "metadata": {}
  }
 ],
 "metadata": {
  "orig_nbformat": 4,
  "language_info": {
   "name": "python",
   "version": "3.9.7",
   "mimetype": "text/x-python",
   "codemirror_mode": {
    "name": "ipython",
    "version": 3
   },
   "pygments_lexer": "ipython3",
   "nbconvert_exporter": "python",
   "file_extension": ".py"
  },
  "kernelspec": {
   "name": "python3",
   "display_name": "Python 3.9.7 64-bit (windows store)"
  },
  "interpreter": {
   "hash": "13f38cf28d818ed05ed31d9d4f5b20000160d246f2c83cb873de1fcaec656d23"
  }
 },
 "nbformat": 4,
 "nbformat_minor": 2
}