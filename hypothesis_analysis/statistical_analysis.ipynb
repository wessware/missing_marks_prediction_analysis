{
    "cells": [
        {
            "cell_type": "code",
            "execution_count": 1,
            "source": [
                "import pandas as pd \r\n",
                "import seaborn as sns\r\n",
                "import matplotlib\r\n",
                "import numpy as np\r\n",
                "import random\r\n"
            ],
            "outputs": [],
            "metadata": {}
        },
        {
            "cell_type": "code",
            "execution_count": 2,
            "source": [
                "headers = ['institution', 'system', 'human_cause', 'machine_cause', 'human_machine', 'error_rate', 'error_system', 'feature']"
            ],
            "outputs": [],
            "metadata": {}
        },
        {
            "cell_type": "code",
            "execution_count": 3,
            "source": [
                "dataset = pd.read_csv(\"missingmarks_clean_data.csv\")\r\n",
                "dataset_xls = pd.read_csv('mlmks.csv', header=None, names=headers)"
            ],
            "outputs": [],
            "metadata": {}
        },
        {
            "cell_type": "code",
            "execution_count": 4,
            "source": [
                "dataset_xls"
            ],
            "outputs": [
                {
                    "output_type": "execute_result",
                    "data": {
                        "text/plain": [
                            "      institution   system                                        human_cause  \\\n",
                            "0           JKUAT   HYBRID                                       Human errors   \n",
                            "1          MASENO   HYBRID  Human-machine conflicts (improper understandin...   \n",
                            "2         EGERTON   HYBRID  Human-machine conflicts (improper understandin...   \n",
                            "3              KU   HYBRID  Human-machine conflicts (improper understandin...   \n",
                            "4              KU  DIGITAL  Human-machine conflicts (improper understandin...   \n",
                            "...           ...      ...                                                ...   \n",
                            "10114       JKUAT   HYBRID                                       Human errors   \n",
                            "10115         UON   HYBRID  Human-machine conflicts (improper understandin...   \n",
                            "10116        USIU  DIGITAL  Human-machine conflicts (improper understandin...   \n",
                            "10117        USIU  DIGITAL  Human-machine conflicts (improper understandin...   \n",
                            "10118       JKUAT   HYBRID                                       Human errors   \n",
                            "\n",
                            "                                         machine_cause  \\\n",
                            "0      Lack of proper skills in use of digital devices   \n",
                            "1      Lack of proper skills in use of digital devices   \n",
                            "2      Lack of proper skills in use of digital devices   \n",
                            "3                                            Ignorance   \n",
                            "4                       Segregation, bias & favoritism   \n",
                            "...                                                ...   \n",
                            "10114  Lack of proper skills in use of digital devices   \n",
                            "10115                                              NaN   \n",
                            "10116                                              NaN   \n",
                            "10117                                              NaN   \n",
                            "10118  Lack of proper skills in use of digital devices   \n",
                            "\n",
                            "                                           human_machine error_rate  \\\n",
                            "0      Lack of robustness (inability to handle & proc...        Yes   \n",
                            "1      Lack of robustness (inability to handle & proc...        Yes   \n",
                            "2               Outdated Information Management systems.        Yes   \n",
                            "3      Inefficiency (inaccurate logical evaluations b...      Maybe   \n",
                            "4      Lack of robustness (inability to handle & proc...      Maybe   \n",
                            "...                                                  ...        ...   \n",
                            "10114  System complexity (hard for front-office secre...      Maybe   \n",
                            "10115                                                NaN        NaN   \n",
                            "10116                                                NaN        NaN   \n",
                            "10117                                                NaN        NaN   \n",
                            "10118  Lack of robustness (inability to handle & proc...        Yes   \n",
                            "\n",
                            "      error_system feature  \n",
                            "0           Hybrid    Yes   \n",
                            "1           Hybrid      No  \n",
                            "2           Hybrid      No  \n",
                            "3           Hybrid     Yes  \n",
                            "4           Hybrid      No  \n",
                            "...            ...     ...  \n",
                            "10114      Digital     Yes  \n",
                            "10115       Hybrid      No  \n",
                            "10116      Digital      No  \n",
                            "10117      Digital      No  \n",
                            "10118       Hybrid     Yes  \n",
                            "\n",
                            "[10119 rows x 8 columns]"
                        ],
                        "text/html": [
                            "<div>\n",
                            "<style scoped>\n",
                            "    .dataframe tbody tr th:only-of-type {\n",
                            "        vertical-align: middle;\n",
                            "    }\n",
                            "\n",
                            "    .dataframe tbody tr th {\n",
                            "        vertical-align: top;\n",
                            "    }\n",
                            "\n",
                            "    .dataframe thead th {\n",
                            "        text-align: right;\n",
                            "    }\n",
                            "</style>\n",
                            "<table border=\"1\" class=\"dataframe\">\n",
                            "  <thead>\n",
                            "    <tr style=\"text-align: right;\">\n",
                            "      <th></th>\n",
                            "      <th>institution</th>\n",
                            "      <th>system</th>\n",
                            "      <th>human_cause</th>\n",
                            "      <th>machine_cause</th>\n",
                            "      <th>human_machine</th>\n",
                            "      <th>error_rate</th>\n",
                            "      <th>error_system</th>\n",
                            "      <th>feature</th>\n",
                            "    </tr>\n",
                            "  </thead>\n",
                            "  <tbody>\n",
                            "    <tr>\n",
                            "      <th>0</th>\n",
                            "      <td>JKUAT</td>\n",
                            "      <td>HYBRID</td>\n",
                            "      <td>Human errors</td>\n",
                            "      <td>Lack of proper skills in use of digital devices</td>\n",
                            "      <td>Lack of robustness (inability to handle &amp; proc...</td>\n",
                            "      <td>Yes</td>\n",
                            "      <td>Hybrid</td>\n",
                            "      <td>Yes</td>\n",
                            "    </tr>\n",
                            "    <tr>\n",
                            "      <th>1</th>\n",
                            "      <td>MASENO</td>\n",
                            "      <td>HYBRID</td>\n",
                            "      <td>Human-machine conflicts (improper understandin...</td>\n",
                            "      <td>Lack of proper skills in use of digital devices</td>\n",
                            "      <td>Lack of robustness (inability to handle &amp; proc...</td>\n",
                            "      <td>Yes</td>\n",
                            "      <td>Hybrid</td>\n",
                            "      <td>No</td>\n",
                            "    </tr>\n",
                            "    <tr>\n",
                            "      <th>2</th>\n",
                            "      <td>EGERTON</td>\n",
                            "      <td>HYBRID</td>\n",
                            "      <td>Human-machine conflicts (improper understandin...</td>\n",
                            "      <td>Lack of proper skills in use of digital devices</td>\n",
                            "      <td>Outdated Information Management systems.</td>\n",
                            "      <td>Yes</td>\n",
                            "      <td>Hybrid</td>\n",
                            "      <td>No</td>\n",
                            "    </tr>\n",
                            "    <tr>\n",
                            "      <th>3</th>\n",
                            "      <td>KU</td>\n",
                            "      <td>HYBRID</td>\n",
                            "      <td>Human-machine conflicts (improper understandin...</td>\n",
                            "      <td>Ignorance</td>\n",
                            "      <td>Inefficiency (inaccurate logical evaluations b...</td>\n",
                            "      <td>Maybe</td>\n",
                            "      <td>Hybrid</td>\n",
                            "      <td>Yes</td>\n",
                            "    </tr>\n",
                            "    <tr>\n",
                            "      <th>4</th>\n",
                            "      <td>KU</td>\n",
                            "      <td>DIGITAL</td>\n",
                            "      <td>Human-machine conflicts (improper understandin...</td>\n",
                            "      <td>Segregation, bias &amp; favoritism</td>\n",
                            "      <td>Lack of robustness (inability to handle &amp; proc...</td>\n",
                            "      <td>Maybe</td>\n",
                            "      <td>Hybrid</td>\n",
                            "      <td>No</td>\n",
                            "    </tr>\n",
                            "    <tr>\n",
                            "      <th>...</th>\n",
                            "      <td>...</td>\n",
                            "      <td>...</td>\n",
                            "      <td>...</td>\n",
                            "      <td>...</td>\n",
                            "      <td>...</td>\n",
                            "      <td>...</td>\n",
                            "      <td>...</td>\n",
                            "      <td>...</td>\n",
                            "    </tr>\n",
                            "    <tr>\n",
                            "      <th>10114</th>\n",
                            "      <td>JKUAT</td>\n",
                            "      <td>HYBRID</td>\n",
                            "      <td>Human errors</td>\n",
                            "      <td>Lack of proper skills in use of digital devices</td>\n",
                            "      <td>System complexity (hard for front-office secre...</td>\n",
                            "      <td>Maybe</td>\n",
                            "      <td>Digital</td>\n",
                            "      <td>Yes</td>\n",
                            "    </tr>\n",
                            "    <tr>\n",
                            "      <th>10115</th>\n",
                            "      <td>UON</td>\n",
                            "      <td>HYBRID</td>\n",
                            "      <td>Human-machine conflicts (improper understandin...</td>\n",
                            "      <td>NaN</td>\n",
                            "      <td>NaN</td>\n",
                            "      <td>NaN</td>\n",
                            "      <td>Hybrid</td>\n",
                            "      <td>No</td>\n",
                            "    </tr>\n",
                            "    <tr>\n",
                            "      <th>10116</th>\n",
                            "      <td>USIU</td>\n",
                            "      <td>DIGITAL</td>\n",
                            "      <td>Human-machine conflicts (improper understandin...</td>\n",
                            "      <td>NaN</td>\n",
                            "      <td>NaN</td>\n",
                            "      <td>NaN</td>\n",
                            "      <td>Digital</td>\n",
                            "      <td>No</td>\n",
                            "    </tr>\n",
                            "    <tr>\n",
                            "      <th>10117</th>\n",
                            "      <td>USIU</td>\n",
                            "      <td>DIGITAL</td>\n",
                            "      <td>Human-machine conflicts (improper understandin...</td>\n",
                            "      <td>NaN</td>\n",
                            "      <td>NaN</td>\n",
                            "      <td>NaN</td>\n",
                            "      <td>Digital</td>\n",
                            "      <td>No</td>\n",
                            "    </tr>\n",
                            "    <tr>\n",
                            "      <th>10118</th>\n",
                            "      <td>JKUAT</td>\n",
                            "      <td>HYBRID</td>\n",
                            "      <td>Human errors</td>\n",
                            "      <td>Lack of proper skills in use of digital devices</td>\n",
                            "      <td>Lack of robustness (inability to handle &amp; proc...</td>\n",
                            "      <td>Yes</td>\n",
                            "      <td>Hybrid</td>\n",
                            "      <td>Yes</td>\n",
                            "    </tr>\n",
                            "  </tbody>\n",
                            "</table>\n",
                            "<p>10119 rows × 8 columns</p>\n",
                            "</div>"
                        ]
                    },
                    "metadata": {},
                    "execution_count": 4
                }
            ],
            "metadata": {}
        },
        {
            "cell_type": "code",
            "execution_count": 5,
            "source": [
                "dataset"
            ],
            "outputs": [
                {
                    "output_type": "execute_result",
                    "data": {
                        "text/plain": [
                            "       institution  system  data_loss_gen  data_loss_human  data_loss_machine  \\\n",
                            "0            10602       1              2         3.000000           4.000000   \n",
                            "1            10612       1              2         3.000000           3.000000   \n",
                            "2            10597       1              2         1.000000           1.000000   \n",
                            "3            10597       2              2         2.000000           4.000000   \n",
                            "4            10597       1              1         1.000000           2.000000   \n",
                            "...            ...     ...            ...              ...                ...   \n",
                            "10042        10592       1              1         3.000000           2.000000   \n",
                            "10043        10607       1              2         1.961209           1.705574   \n",
                            "10044        10627       2              2         1.961209           1.705574   \n",
                            "10045        10627       2              2         1.961209           1.705574   \n",
                            "10046        10592       1              1         3.000000           4.000000   \n",
                            "\n",
                            "       data_loss_hybrid  system_error_chance  feature  \n",
                            "0              1.000000                  1.0        0  \n",
                            "1              1.000000                  1.0        0  \n",
                            "2              2.000000                  1.0        1  \n",
                            "3              2.000000                  1.0        0  \n",
                            "4              1.000000                  1.0        1  \n",
                            "...                 ...                  ...      ...  \n",
                            "10042          2.000000                  2.0        1  \n",
                            "10043          1.587279                  1.0        0  \n",
                            "10044          1.587279                  2.0        0  \n",
                            "10045          1.587279                  2.0        0  \n",
                            "10046          1.000000                  1.0        1  \n",
                            "\n",
                            "[10047 rows x 8 columns]"
                        ],
                        "text/html": [
                            "<div>\n",
                            "<style scoped>\n",
                            "    .dataframe tbody tr th:only-of-type {\n",
                            "        vertical-align: middle;\n",
                            "    }\n",
                            "\n",
                            "    .dataframe tbody tr th {\n",
                            "        vertical-align: top;\n",
                            "    }\n",
                            "\n",
                            "    .dataframe thead th {\n",
                            "        text-align: right;\n",
                            "    }\n",
                            "</style>\n",
                            "<table border=\"1\" class=\"dataframe\">\n",
                            "  <thead>\n",
                            "    <tr style=\"text-align: right;\">\n",
                            "      <th></th>\n",
                            "      <th>institution</th>\n",
                            "      <th>system</th>\n",
                            "      <th>data_loss_gen</th>\n",
                            "      <th>data_loss_human</th>\n",
                            "      <th>data_loss_machine</th>\n",
                            "      <th>data_loss_hybrid</th>\n",
                            "      <th>system_error_chance</th>\n",
                            "      <th>feature</th>\n",
                            "    </tr>\n",
                            "  </thead>\n",
                            "  <tbody>\n",
                            "    <tr>\n",
                            "      <th>0</th>\n",
                            "      <td>10602</td>\n",
                            "      <td>1</td>\n",
                            "      <td>2</td>\n",
                            "      <td>3.000000</td>\n",
                            "      <td>4.000000</td>\n",
                            "      <td>1.000000</td>\n",
                            "      <td>1.0</td>\n",
                            "      <td>0</td>\n",
                            "    </tr>\n",
                            "    <tr>\n",
                            "      <th>1</th>\n",
                            "      <td>10612</td>\n",
                            "      <td>1</td>\n",
                            "      <td>2</td>\n",
                            "      <td>3.000000</td>\n",
                            "      <td>3.000000</td>\n",
                            "      <td>1.000000</td>\n",
                            "      <td>1.0</td>\n",
                            "      <td>0</td>\n",
                            "    </tr>\n",
                            "    <tr>\n",
                            "      <th>2</th>\n",
                            "      <td>10597</td>\n",
                            "      <td>1</td>\n",
                            "      <td>2</td>\n",
                            "      <td>1.000000</td>\n",
                            "      <td>1.000000</td>\n",
                            "      <td>2.000000</td>\n",
                            "      <td>1.0</td>\n",
                            "      <td>1</td>\n",
                            "    </tr>\n",
                            "    <tr>\n",
                            "      <th>3</th>\n",
                            "      <td>10597</td>\n",
                            "      <td>2</td>\n",
                            "      <td>2</td>\n",
                            "      <td>2.000000</td>\n",
                            "      <td>4.000000</td>\n",
                            "      <td>2.000000</td>\n",
                            "      <td>1.0</td>\n",
                            "      <td>0</td>\n",
                            "    </tr>\n",
                            "    <tr>\n",
                            "      <th>4</th>\n",
                            "      <td>10597</td>\n",
                            "      <td>1</td>\n",
                            "      <td>1</td>\n",
                            "      <td>1.000000</td>\n",
                            "      <td>2.000000</td>\n",
                            "      <td>1.000000</td>\n",
                            "      <td>1.0</td>\n",
                            "      <td>1</td>\n",
                            "    </tr>\n",
                            "    <tr>\n",
                            "      <th>...</th>\n",
                            "      <td>...</td>\n",
                            "      <td>...</td>\n",
                            "      <td>...</td>\n",
                            "      <td>...</td>\n",
                            "      <td>...</td>\n",
                            "      <td>...</td>\n",
                            "      <td>...</td>\n",
                            "      <td>...</td>\n",
                            "    </tr>\n",
                            "    <tr>\n",
                            "      <th>10042</th>\n",
                            "      <td>10592</td>\n",
                            "      <td>1</td>\n",
                            "      <td>1</td>\n",
                            "      <td>3.000000</td>\n",
                            "      <td>2.000000</td>\n",
                            "      <td>2.000000</td>\n",
                            "      <td>2.0</td>\n",
                            "      <td>1</td>\n",
                            "    </tr>\n",
                            "    <tr>\n",
                            "      <th>10043</th>\n",
                            "      <td>10607</td>\n",
                            "      <td>1</td>\n",
                            "      <td>2</td>\n",
                            "      <td>1.961209</td>\n",
                            "      <td>1.705574</td>\n",
                            "      <td>1.587279</td>\n",
                            "      <td>1.0</td>\n",
                            "      <td>0</td>\n",
                            "    </tr>\n",
                            "    <tr>\n",
                            "      <th>10044</th>\n",
                            "      <td>10627</td>\n",
                            "      <td>2</td>\n",
                            "      <td>2</td>\n",
                            "      <td>1.961209</td>\n",
                            "      <td>1.705574</td>\n",
                            "      <td>1.587279</td>\n",
                            "      <td>2.0</td>\n",
                            "      <td>0</td>\n",
                            "    </tr>\n",
                            "    <tr>\n",
                            "      <th>10045</th>\n",
                            "      <td>10627</td>\n",
                            "      <td>2</td>\n",
                            "      <td>2</td>\n",
                            "      <td>1.961209</td>\n",
                            "      <td>1.705574</td>\n",
                            "      <td>1.587279</td>\n",
                            "      <td>2.0</td>\n",
                            "      <td>0</td>\n",
                            "    </tr>\n",
                            "    <tr>\n",
                            "      <th>10046</th>\n",
                            "      <td>10592</td>\n",
                            "      <td>1</td>\n",
                            "      <td>1</td>\n",
                            "      <td>3.000000</td>\n",
                            "      <td>4.000000</td>\n",
                            "      <td>1.000000</td>\n",
                            "      <td>1.0</td>\n",
                            "      <td>1</td>\n",
                            "    </tr>\n",
                            "  </tbody>\n",
                            "</table>\n",
                            "<p>10047 rows × 8 columns</p>\n",
                            "</div>"
                        ]
                    },
                    "metadata": {},
                    "execution_count": 5
                }
            ],
            "metadata": {}
        },
        {
            "cell_type": "markdown",
            "source": [
                "Hypthesis1;\r\n",
                "H0: Hybrid systems are the leading cause of missing marks and data loss compared to digital systems. \r\n",
                "H1: Hybrid systems are not the leading cause of missing marks and data loss compared to digital systems. "
            ],
            "metadata": {}
        },
        {
            "cell_type": "code",
            "execution_count": 6,
            "source": [
                "new_data = dataset.groupby(by='feature')"
            ],
            "outputs": [],
            "metadata": {}
        },
        {
            "cell_type": "code",
            "execution_count": 7,
            "source": [
                "data_absent = new_data.get_group(0)"
            ],
            "outputs": [],
            "metadata": {}
        },
        {
            "cell_type": "code",
            "execution_count": 8,
            "source": [
                "data_present = new_data.get_group(1)"
            ],
            "outputs": [],
            "metadata": {}
        },
        {
            "cell_type": "code",
            "execution_count": 9,
            "source": [
                "data_loss_sys1 = data_absent[data_absent['system'] == 1]"
            ],
            "outputs": [],
            "metadata": {}
        },
        {
            "cell_type": "code",
            "execution_count": 10,
            "source": [
                "data_loss_sys1.shape"
            ],
            "outputs": [
                {
                    "output_type": "execute_result",
                    "data": {
                        "text/plain": [
                            "(1467, 8)"
                        ]
                    },
                    "metadata": {},
                    "execution_count": 10
                }
            ],
            "metadata": {}
        },
        {
            "cell_type": "code",
            "execution_count": 11,
            "source": [
                "data_loss_sys2 = data_present[data_present['system'] == 2]"
            ],
            "outputs": [],
            "metadata": {}
        },
        {
            "cell_type": "code",
            "execution_count": 12,
            "source": [
                "data_loss_sys2.shape"
            ],
            "outputs": [
                {
                    "output_type": "execute_result",
                    "data": {
                        "text/plain": [
                            "(2129, 8)"
                        ]
                    },
                    "metadata": {},
                    "execution_count": 12
                }
            ],
            "metadata": {}
        },
        {
            "cell_type": "code",
            "execution_count": 13,
            "source": [
                "data_lossarr_sys1 = np.array(data_loss_sys1)\r\n",
                "data_lossarr_sys2 = np.array(data_loss_sys2)"
            ],
            "outputs": [],
            "metadata": {}
        },
        {
            "cell_type": "code",
            "execution_count": 14,
            "source": [
                "data_lossarr_sys1\r\n"
            ],
            "outputs": [
                {
                    "output_type": "execute_result",
                    "data": {
                        "text/plain": [
                            "array([[1.0602000e+04, 1.0000000e+00, 2.0000000e+00, ..., 1.0000000e+00,\n",
                            "        1.0000000e+00, 0.0000000e+00],\n",
                            "       [1.0612000e+04, 1.0000000e+00, 2.0000000e+00, ..., 1.0000000e+00,\n",
                            "        1.0000000e+00, 0.0000000e+00],\n",
                            "       [1.0612000e+04, 1.0000000e+00, 2.0000000e+00, ..., 1.0000000e+00,\n",
                            "        1.0000000e+00, 0.0000000e+00],\n",
                            "       ...,\n",
                            "       [1.0602000e+04, 1.0000000e+00, 2.0000000e+00, ..., 2.0000000e+00,\n",
                            "        1.0000000e+00, 0.0000000e+00],\n",
                            "       [1.0617000e+04, 1.0000000e+00, 2.0000000e+00, ..., 1.5872794e+00,\n",
                            "        1.0000000e+00, 0.0000000e+00],\n",
                            "       [1.0607000e+04, 1.0000000e+00, 2.0000000e+00, ..., 1.5872794e+00,\n",
                            "        1.0000000e+00, 0.0000000e+00]])"
                        ]
                    },
                    "metadata": {},
                    "execution_count": 14
                }
            ],
            "metadata": {}
        },
        {
            "cell_type": "code",
            "execution_count": 15,
            "source": [
                "data_lossarr_sys2.shape"
            ],
            "outputs": [
                {
                    "output_type": "execute_result",
                    "data": {
                        "text/plain": [
                            "(2129, 8)"
                        ]
                    },
                    "metadata": {},
                    "execution_count": 15
                }
            ],
            "metadata": {}
        },
        {
            "cell_type": "code",
            "execution_count": 16,
            "source": [
                "random.seed(30)\r\n",
                "\r\n",
                "sample_dataloss_sys1 = random.choices(data_lossarr_sys1, k=1000)\r\n",
                "sample_dataloss_sys2 = random.choices(data_lossarr_sys2, k=1000)"
            ],
            "outputs": [],
            "metadata": {}
        },
        {
            "cell_type": "code",
            "execution_count": 17,
            "source": [
                "from scipy import stats\r\n",
                "\r\n",
                "ttest, pval = stats.ttest_rel(sample_dataloss_sys1, sample_dataloss_sys2)\r\n",
                "\r\n",
                "print(pval)\r\n",
                "\r\n",
                "if pval.any() < 0.15:\r\n",
                "    print('reject null hypothesis')\r\n",
                "else:\r\n",
                "    print('Accept null hypothesis')"
            ],
            "outputs": [
                {
                    "output_type": "stream",
                    "name": "stdout",
                    "text": [
                        "[0.00000000e+00 0.00000000e+00 1.93247699e-08 1.66744320e-14\n",
                        " 2.38734538e-59 0.00000000e+00 0.00000000e+00 0.00000000e+00]\n",
                        "Accept null hypothesis\n"
                    ]
                }
            ],
            "metadata": {}
        },
        {
            "cell_type": "markdown",
            "source": [
                "Hypothesis2;\r\n",
                "H0: Human errors are the main cause of data loss and missing marks in Hybrid systems;\r\n",
                "H1: Machine errors are the leading cause of data losss and missing marks in Hybrid systems. "
            ],
            "metadata": {}
        },
        {
            "cell_type": "code",
            "execution_count": 18,
            "source": [
                "new_data_1 = dataset.groupby('system_error_chance')"
            ],
            "outputs": [],
            "metadata": {}
        },
        {
            "cell_type": "code",
            "execution_count": 19,
            "source": [
                "data_loss_hybrid = new_data_1.get_group(1)"
            ],
            "outputs": [],
            "metadata": {}
        },
        {
            "cell_type": "code",
            "execution_count": 20,
            "source": [
                "data_loss_digital =  new_data_1.get_group(2)"
            ],
            "outputs": [],
            "metadata": {}
        },
        {
            "cell_type": "code",
            "execution_count": 21,
            "source": [
                "data_loss_humanerr = data_loss_hybrid[data_loss_hybrid['data_loss_human'] >= 1]"
            ],
            "outputs": [],
            "metadata": {}
        },
        {
            "cell_type": "code",
            "execution_count": 22,
            "source": [
                "data_loss_machineerr = data_loss_digital[data_loss_digital['data_loss_machine'] >= 1]"
            ],
            "outputs": [],
            "metadata": {}
        },
        {
            "cell_type": "code",
            "execution_count": 23,
            "source": [
                "data_loss_humanarr = np.array(data_loss_humanerr)\r\n",
                "data_loss_machinearr = np.array(data_loss_machineerr)"
            ],
            "outputs": [],
            "metadata": {}
        },
        {
            "cell_type": "code",
            "execution_count": 24,
            "source": [
                "sample_dataloss_humanerr = random.choices(data_loss_humanarr, k=1000)\r\n",
                "sample_dataloss_machineerr = random.choices(data_loss_machinearr, k=1000)"
            ],
            "outputs": [],
            "metadata": {}
        },
        {
            "cell_type": "code",
            "execution_count": 25,
            "source": [
                "ttest, pval = stats.ttest_rel(sample_dataloss_humanerr, sample_dataloss_machineerr)\r\n",
                "\r\n",
                "print(pval)\r\n",
                "\r\n",
                "if pval.any() < 0.15:\r\n",
                "    print('reject null hypothesis')\r\n",
                "else:\r\n",
                "    print('Accept null hypothesis')"
            ],
            "outputs": [
                {
                    "output_type": "stream",
                    "name": "stdout",
                    "text": [
                        "[1.12516415e-016 1.85558995e-164 1.21126521e-068 9.46416451e-113\n",
                        " 3.39656668e-044 3.55831276e-002 0.00000000e+000 2.29095269e-050]\n",
                        "Accept null hypothesis\n"
                    ]
                }
            ],
            "metadata": {}
        },
        {
            "cell_type": "markdown",
            "source": [
                "Hypothesis3;\r\n",
                "H0: Lack of system Robustness is leading cause of data loss and missing marks in Digital systems.\r\n",
                "h1: Lack of system Robustness is not a leading cause of data loss and missing marks in Digital systems."
            ],
            "metadata": {}
        },
        {
            "cell_type": "code",
            "execution_count": 26,
            "source": [
                "#data_present\r\n",
                "#data_present\r\n",
                "data_present_rbs = data_present[data_present['data_loss_machine'] == 4]\r\n",
                "data_absent_rbs = data_absent[data_absent['data_loss_machine'] == 4]"
            ],
            "outputs": [],
            "metadata": {}
        },
        {
            "cell_type": "code",
            "execution_count": 27,
            "source": [
                "data_presentrbs_arr = np.array(data_present_rbs)\r\n",
                "data_absentrbs_arr = np.array(data_absent_rbs)"
            ],
            "outputs": [],
            "metadata": {}
        },
        {
            "cell_type": "code",
            "execution_count": 28,
            "source": [
                "sample_data_presentrbs = random.choices(data_presentrbs_arr, k=1000)\r\n",
                "sample_data_absentrbs = random.choices(data_absentrbs_arr, k=1000)"
            ],
            "outputs": [],
            "metadata": {}
        },
        {
            "cell_type": "code",
            "execution_count": 29,
            "source": [
                "ttest, pval = stats.ttest_rel(sample_dataloss_humanerr, sample_dataloss_machineerr)\r\n",
                "\r\n",
                "print(pval)\r\n",
                "\r\n",
                "if pval.any() < 0.15:\r\n",
                "    print('reject null hypothesis')\r\n",
                "else:\r\n",
                "    print('Accept null hypothesis')"
            ],
            "outputs": [
                {
                    "output_type": "stream",
                    "name": "stdout",
                    "text": [
                        "[1.12516415e-016 1.85558995e-164 1.21126521e-068 9.46416451e-113\n",
                        " 3.39656668e-044 3.55831276e-002 0.00000000e+000 2.29095269e-050]\n",
                        "Accept null hypothesis\n"
                    ]
                }
            ],
            "metadata": {}
        },
        {
            "cell_type": "markdown",
            "source": [
                "Hypothesis4;\r\n",
                "H0: Lack of proper expertise in handling information management systems is probable cause of data loss & missing marks in Hybrid and Digital systems. \r\n",
                "h1: Lack of proper expertise in handling information management systems is not a probable cause of data loss & missing marks in Hybrid and digital systems.\r\n"
            ],
            "metadata": {}
        },
        {
            "cell_type": "code",
            "execution_count": 30,
            "source": [
                "#data_loss_hybrid\r\n",
                "#data_loss_digital\r\n",
                "data_present_exp = data_present[data_present['data_loss_human'] == 3]\r\n",
                "data_absent_exp = data_absent[data_absent['data_loss_human'] == 3]"
            ],
            "outputs": [],
            "metadata": {}
        },
        {
            "cell_type": "code",
            "execution_count": 31,
            "source": [
                "data_presentexp_arr = np.array(data_present_exp)\r\n",
                "data_absentexp_arr = np.array(data_absent_exp)"
            ],
            "outputs": [],
            "metadata": {}
        },
        {
            "cell_type": "code",
            "execution_count": 32,
            "source": [
                "sample_data_presentexp = random.choices(data_presentexp_arr, k=1000)\r\n",
                "sample_data_absentexp = random.choices(data_absentexp_arr, k=1000)"
            ],
            "outputs": [],
            "metadata": {}
        },
        {
            "cell_type": "code",
            "execution_count": 33,
            "source": [
                "ttest, pval = stats.ttest_rel(sample_data_presentexp, sample_data_absentexp)\r\n",
                "\r\n",
                "print(pval)\r\n",
                "\r\n",
                "if pval.any() < 0.15:\r\n",
                "    print('reject null hypothesis')\r\n",
                "else:\r\n",
                "    print('Accept null hypothesis')"
            ],
            "outputs": [
                {
                    "output_type": "stream",
                    "name": "stdout",
                    "text": [
                        "[0.00000000e+000             nan 0.00000000e+000             nan\n",
                        " 2.44095466e-127 1.43585195e-152 0.00000000e+000 0.00000000e+000]\n",
                        "Accept null hypothesis\n"
                    ]
                }
            ],
            "metadata": {}
        },
        {
            "cell_type": "markdown",
            "source": [
                "Hypothesis5;\r\n",
                "Outdated information management systems are a probable cause of data loss and missing marks in Hybrid & digital systems. \r\n",
                "Outdated information management systems are not a probable cause of data loss and missing marks in Hybrid and digital systems. "
            ],
            "metadata": {}
        },
        {
            "cell_type": "code",
            "execution_count": 34,
            "source": [
                "#data_present\r\n",
                "#data_absent\r\n",
                "data_present_outdated = data_present[data_present['data_loss_machine'] == 3]\r\n",
                "data_absent_outdated = data_absent[data_absent['data_loss_machine'] == 3]"
            ],
            "outputs": [],
            "metadata": {}
        },
        {
            "cell_type": "code",
            "execution_count": 35,
            "source": [
                "data_presentoutdated_arr = np.array(data_present_outdated)\r\n",
                "data_absentoutdated_arr = np.array(data_absent_outdated)"
            ],
            "outputs": [],
            "metadata": {}
        },
        {
            "cell_type": "code",
            "execution_count": 36,
            "source": [
                "sample_data_presentoutdated = random.choices(data_presentoutdated_arr, k=1000)\r\n",
                "sample_data_absentoutdated = random.choices(data_absentoutdated_arr, k=1000)"
            ],
            "outputs": [],
            "metadata": {}
        },
        {
            "cell_type": "code",
            "execution_count": 37,
            "source": [
                "ttest, pval = stats.ttest_rel(sample_data_presentoutdated, sample_data_absentoutdated)\r\n",
                "\r\n",
                "print(pval)\r\n",
                "\r\n",
                "if pval.any() < 0.15:\r\n",
                "    print('reject null hypothesis')\r\n",
                "else:\r\n",
                "    print('Accept null hypothesis')"
            ],
            "outputs": [
                {
                    "output_type": "stream",
                    "name": "stdout",
                    "text": [
                        "[ 0. nan  0. nan nan nan  0.  0.]\n",
                        "Accept null hypothesis\n"
                    ]
                }
            ],
            "metadata": {}
        },
        {
            "cell_type": "markdown",
            "source": [
                "Hypothesis6;\r\n",
                "H0: There is a higher of data loss and misssing marks in JKUAT (10592) than in USIU (10627)\r\n",
                "H1: There is no higher chance of data loss in JKUAT than there is in USIU"
            ],
            "metadata": {}
        },
        {
            "cell_type": "code",
            "execution_count": 41,
            "source": [
                "data_present_jkuat = data_loss_hybrid[data_loss_hybrid['institution'] == 10592]\r\n",
                "data_present_usiu = data_loss_digital[data_loss_digital['institution'] == 10627]"
            ],
            "outputs": [],
            "metadata": {}
        },
        {
            "cell_type": "code",
            "execution_count": 44,
            "source": [
                "data_present_jkuatarr = np.array(data_present_jkuat)\r\n",
                "data_present_usiuarr = np.array(data_absent_usiu)"
            ],
            "outputs": [],
            "metadata": {}
        },
        {
            "cell_type": "code",
            "execution_count": 46,
            "source": [
                "sample_data_present_jkuat = random.choices(data_present_jkuatarr, k=1000)\r\n",
                "sample_data_present_usiu = random.choices(data_present_usiuarr, k=1000)"
            ],
            "outputs": [],
            "metadata": {}
        },
        {
            "cell_type": "code",
            "execution_count": 47,
            "source": [
                "ttest, pval = stats.ttest_rel(sample_data_present_jkuat, sample_data_present_usiu)\r\n",
                "\r\n",
                "print(pval)\r\n",
                "\r\n",
                "if pval.any() < 0.15:\r\n",
                "    print('reject null hypothesis')\r\n",
                "else:\r\n",
                "    print('Accept null hypothesis')"
            ],
            "outputs": [
                {
                    "output_type": "stream",
                    "name": "stdout",
                    "text": [
                        "[0. 0. 0. 0. 0. 0. 0. 0.]\n",
                        "reject null hypothesis\n"
                    ]
                }
            ],
            "metadata": {}
        },
        {
            "cell_type": "code",
            "execution_count": null,
            "source": [],
            "outputs": [],
            "metadata": {}
        }
    ],
    "metadata": {
        "orig_nbformat": 4,
        "language_info": {
            "name": "python",
            "version": "3.9.5",
            "mimetype": "text/x-python",
            "codemirror_mode": {
                "name": "ipython",
                "version": 3
            },
            "pygments_lexer": "ipython3",
            "nbconvert_exporter": "python",
            "file_extension": ".py"
        },
        "kernelspec": {
            "name": "python3",
            "display_name": "Python 3.9.5 64-bit (windows store)"
        },
        "interpreter": {
            "hash": "13f38cf28d818ed05ed31d9d4f5b20000160d246f2c83cb873de1fcaec656d23"
        }
    },
    "nbformat": 4,
    "nbformat_minor": 2
}