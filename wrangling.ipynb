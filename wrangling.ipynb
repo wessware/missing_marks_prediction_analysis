{
 "metadata": {
  "language_info": {
   "codemirror_mode": {
    "name": "ipython",
    "version": 3
   },
   "file_extension": ".py",
   "mimetype": "text/x-python",
   "name": "python",
   "nbconvert_exporter": "python",
   "pygments_lexer": "ipython3",
   "version": "3.9.5"
  },
  "orig_nbformat": 2,
  "kernelspec": {
   "name": "python395jvsc74a57bd0ce1e901da04acbe50dd99cd0d91cb411cb2166c3507dec81ce620981a8df4741",
   "display_name": "Python 3.9.5 64-bit"
  },
  "metadata": {
   "interpreter": {
    "hash": "ce1e901da04acbe50dd99cd0d91cb411cb2166c3507dec81ce620981a8df4741"
   }
  }
 },
 "nbformat": 4,
 "nbformat_minor": 2,
 "cells": [
  {
   "cell_type": "code",
   "execution_count": 1,
   "metadata": {},
   "outputs": [],
   "source": [
    "import pandas as pd \n",
    "import numpy as np "
   ]
  },
  {
   "cell_type": "code",
   "execution_count": 2,
   "metadata": {},
   "outputs": [],
   "source": [
    "\n",
    "df=pd.read_excel(\"mlmks.xlsx\")"
   ]
  },
  {
   "cell_type": "code",
   "execution_count": 3,
   "metadata": {},
   "outputs": [
    {
     "output_type": "execute_result",
     "data": {
      "text/plain": [
       "Empty DataFrame\n",
       "Columns: []\n",
       "Index: []"
      ],
      "text/html": "<div>\n<style scoped>\n    .dataframe tbody tr th:only-of-type {\n        vertical-align: middle;\n    }\n\n    .dataframe tbody tr th {\n        vertical-align: top;\n    }\n\n    .dataframe thead th {\n        text-align: right;\n    }\n</style>\n<table border=\"1\" class=\"dataframe\">\n  <thead>\n    <tr style=\"text-align: right;\">\n      <th></th>\n    </tr>\n  </thead>\n  <tbody>\n  </tbody>\n</table>\n</div>"
     },
     "metadata": {},
     "execution_count": 3
    }
   ],
   "source": [
    "df"
   ]
  },
  {
   "cell_type": "code",
   "execution_count": 4,
   "metadata": {},
   "outputs": [],
   "source": [
    "df.to_csv('missingmarks.csv', index=None, header=True)"
   ]
  },
  {
   "cell_type": "code",
   "execution_count": 5,
   "metadata": {},
   "outputs": [],
   "source": [
    "headers = ['institution', 'system', 'human_cause', 'machine_cause', 'human_machine', 'error_rate', 'error_system', 'feature']"
   ]
  },
  {
   "cell_type": "code",
   "execution_count": 6,
   "metadata": {},
   "outputs": [],
   "source": [
    "df = pd.read_csv('mlmks.csv', header=None, names=headers)"
   ]
  },
  {
   "cell_type": "code",
   "execution_count": 7,
   "metadata": {},
   "outputs": [
    {
     "output_type": "execute_result",
     "data": {
      "text/plain": [
       "  institution   system                                        human_cause  \\\n",
       "0       JKUAT   HYBRID                                       Human errors   \n",
       "1      MASENO   HYBRID  Human-machine conflicts (improper understandin...   \n",
       "2     EGERTON   HYBRID  Human-machine conflicts (improper understandin...   \n",
       "3          KU   HYBRID  Human-machine conflicts (improper understandin...   \n",
       "4          KU  DIGITAL  Human-machine conflicts (improper understandin...   \n",
       "5          KU   HYBRID                                       Human errors   \n",
       "6          KU   HYBRID                                       Human errors   \n",
       "7      MASENO   HYBRID  Human-machine conflicts (improper understandin...   \n",
       "8       JKUAT   HYBRID                                       Human errors   \n",
       "9       JKUAT   HYBRID                                       Human errors   \n",
       "\n",
       "                                     machine_cause  \\\n",
       "0  Lack of proper skills in use of digital devices   \n",
       "1  Lack of proper skills in use of digital devices   \n",
       "2  Lack of proper skills in use of digital devices   \n",
       "3                                        Ignorance   \n",
       "4                   Segregation, bias & favoritism   \n",
       "5                                        Ignorance   \n",
       "6                                        Ignorance   \n",
       "7                                        Ignorance   \n",
       "8  Lack of proper skills in use of digital devices   \n",
       "9  Lack of proper skills in use of digital devices   \n",
       "\n",
       "                                       human_machine error_rate error_system  \\\n",
       "0  Lack of robustness (inability to handle & proc...        Yes       Hybrid   \n",
       "1  Lack of robustness (inability to handle & proc...        Yes       Hybrid   \n",
       "2           Outdated Information Management systems.        Yes       Hybrid   \n",
       "3  Inefficiency (inaccurate logical evaluations b...      Maybe       Hybrid   \n",
       "4  Lack of robustness (inability to handle & proc...      Maybe       Hybrid   \n",
       "5  System complexity (hard for front-office secre...        Yes       Hybrid   \n",
       "6  Lack of robustness (inability to handle & proc...        Yes      Digital   \n",
       "7  Inefficiency (inaccurate logical evaluations b...      Maybe       Hybrid   \n",
       "8  System complexity (hard for front-office secre...      Maybe      Digital   \n",
       "9           Outdated Information Management systems.        Yes      Digital   \n",
       "\n",
       "  feature  \n",
       "0    Yes   \n",
       "1      No  \n",
       "2      No  \n",
       "3     Yes  \n",
       "4      No  \n",
       "5     Yes  \n",
       "6     Yes  \n",
       "7     Yes  \n",
       "8     Yes  \n",
       "9     Yes  "
      ],
      "text/html": "<div>\n<style scoped>\n    .dataframe tbody tr th:only-of-type {\n        vertical-align: middle;\n    }\n\n    .dataframe tbody tr th {\n        vertical-align: top;\n    }\n\n    .dataframe thead th {\n        text-align: right;\n    }\n</style>\n<table border=\"1\" class=\"dataframe\">\n  <thead>\n    <tr style=\"text-align: right;\">\n      <th></th>\n      <th>institution</th>\n      <th>system</th>\n      <th>human_cause</th>\n      <th>machine_cause</th>\n      <th>human_machine</th>\n      <th>error_rate</th>\n      <th>error_system</th>\n      <th>feature</th>\n    </tr>\n  </thead>\n  <tbody>\n    <tr>\n      <th>0</th>\n      <td>JKUAT</td>\n      <td>HYBRID</td>\n      <td>Human errors</td>\n      <td>Lack of proper skills in use of digital devices</td>\n      <td>Lack of robustness (inability to handle &amp; proc...</td>\n      <td>Yes</td>\n      <td>Hybrid</td>\n      <td>Yes</td>\n    </tr>\n    <tr>\n      <th>1</th>\n      <td>MASENO</td>\n      <td>HYBRID</td>\n      <td>Human-machine conflicts (improper understandin...</td>\n      <td>Lack of proper skills in use of digital devices</td>\n      <td>Lack of robustness (inability to handle &amp; proc...</td>\n      <td>Yes</td>\n      <td>Hybrid</td>\n      <td>No</td>\n    </tr>\n    <tr>\n      <th>2</th>\n      <td>EGERTON</td>\n      <td>HYBRID</td>\n      <td>Human-machine conflicts (improper understandin...</td>\n      <td>Lack of proper skills in use of digital devices</td>\n      <td>Outdated Information Management systems.</td>\n      <td>Yes</td>\n      <td>Hybrid</td>\n      <td>No</td>\n    </tr>\n    <tr>\n      <th>3</th>\n      <td>KU</td>\n      <td>HYBRID</td>\n      <td>Human-machine conflicts (improper understandin...</td>\n      <td>Ignorance</td>\n      <td>Inefficiency (inaccurate logical evaluations b...</td>\n      <td>Maybe</td>\n      <td>Hybrid</td>\n      <td>Yes</td>\n    </tr>\n    <tr>\n      <th>4</th>\n      <td>KU</td>\n      <td>DIGITAL</td>\n      <td>Human-machine conflicts (improper understandin...</td>\n      <td>Segregation, bias &amp; favoritism</td>\n      <td>Lack of robustness (inability to handle &amp; proc...</td>\n      <td>Maybe</td>\n      <td>Hybrid</td>\n      <td>No</td>\n    </tr>\n    <tr>\n      <th>5</th>\n      <td>KU</td>\n      <td>HYBRID</td>\n      <td>Human errors</td>\n      <td>Ignorance</td>\n      <td>System complexity (hard for front-office secre...</td>\n      <td>Yes</td>\n      <td>Hybrid</td>\n      <td>Yes</td>\n    </tr>\n    <tr>\n      <th>6</th>\n      <td>KU</td>\n      <td>HYBRID</td>\n      <td>Human errors</td>\n      <td>Ignorance</td>\n      <td>Lack of robustness (inability to handle &amp; proc...</td>\n      <td>Yes</td>\n      <td>Digital</td>\n      <td>Yes</td>\n    </tr>\n    <tr>\n      <th>7</th>\n      <td>MASENO</td>\n      <td>HYBRID</td>\n      <td>Human-machine conflicts (improper understandin...</td>\n      <td>Ignorance</td>\n      <td>Inefficiency (inaccurate logical evaluations b...</td>\n      <td>Maybe</td>\n      <td>Hybrid</td>\n      <td>Yes</td>\n    </tr>\n    <tr>\n      <th>8</th>\n      <td>JKUAT</td>\n      <td>HYBRID</td>\n      <td>Human errors</td>\n      <td>Lack of proper skills in use of digital devices</td>\n      <td>System complexity (hard for front-office secre...</td>\n      <td>Maybe</td>\n      <td>Digital</td>\n      <td>Yes</td>\n    </tr>\n    <tr>\n      <th>9</th>\n      <td>JKUAT</td>\n      <td>HYBRID</td>\n      <td>Human errors</td>\n      <td>Lack of proper skills in use of digital devices</td>\n      <td>Outdated Information Management systems.</td>\n      <td>Yes</td>\n      <td>Digital</td>\n      <td>Yes</td>\n    </tr>\n  </tbody>\n</table>\n</div>"
     },
     "metadata": {},
     "execution_count": 7
    }
   ],
   "source": [
    "df.head(10)"
   ]
  },
  {
   "cell_type": "code",
   "execution_count": 8,
   "metadata": {},
   "outputs": [
    {
     "output_type": "execute_result",
     "data": {
      "text/plain": [
       "institution      object\n",
       "system           object\n",
       "human_cause      object\n",
       "machine_cause    object\n",
       "human_machine    object\n",
       "error_rate       object\n",
       "error_system     object\n",
       "feature          object\n",
       "dtype: object"
      ]
     },
     "metadata": {},
     "execution_count": 8
    }
   ],
   "source": [
    "df.dtypes"
   ]
  },
  {
   "cell_type": "code",
   "execution_count": 9,
   "metadata": {},
   "outputs": [],
   "source": [
    "data_institute = {'institution': {'JKUAT': 10592, 'KU': 10597, 'MASENO': 10602, 'UON': 10607, 'EGERTON': 10612, 'MOI': 10617, 'STRATHMORE': 10622, 'USIU': 10627}}"
   ]
  },
  {
   "cell_type": "code",
   "execution_count": 10,
   "metadata": {},
   "outputs": [
    {
     "output_type": "execute_result",
     "data": {
      "text/plain": [
       "   institution   system                                        human_cause  \\\n",
       "0        10592   HYBRID                                       Human errors   \n",
       "1        10602   HYBRID  Human-machine conflicts (improper understandin...   \n",
       "2        10612   HYBRID  Human-machine conflicts (improper understandin...   \n",
       "3        10597   HYBRID  Human-machine conflicts (improper understandin...   \n",
       "4        10597  DIGITAL  Human-machine conflicts (improper understandin...   \n",
       "\n",
       "                                     machine_cause  \\\n",
       "0  Lack of proper skills in use of digital devices   \n",
       "1  Lack of proper skills in use of digital devices   \n",
       "2  Lack of proper skills in use of digital devices   \n",
       "3                                        Ignorance   \n",
       "4                   Segregation, bias & favoritism   \n",
       "\n",
       "                                       human_machine error_rate error_system  \\\n",
       "0  Lack of robustness (inability to handle & proc...        Yes       Hybrid   \n",
       "1  Lack of robustness (inability to handle & proc...        Yes       Hybrid   \n",
       "2           Outdated Information Management systems.        Yes       Hybrid   \n",
       "3  Inefficiency (inaccurate logical evaluations b...      Maybe       Hybrid   \n",
       "4  Lack of robustness (inability to handle & proc...      Maybe       Hybrid   \n",
       "\n",
       "  feature  \n",
       "0    Yes   \n",
       "1      No  \n",
       "2      No  \n",
       "3     Yes  \n",
       "4      No  "
      ],
      "text/html": "<div>\n<style scoped>\n    .dataframe tbody tr th:only-of-type {\n        vertical-align: middle;\n    }\n\n    .dataframe tbody tr th {\n        vertical-align: top;\n    }\n\n    .dataframe thead th {\n        text-align: right;\n    }\n</style>\n<table border=\"1\" class=\"dataframe\">\n  <thead>\n    <tr style=\"text-align: right;\">\n      <th></th>\n      <th>institution</th>\n      <th>system</th>\n      <th>human_cause</th>\n      <th>machine_cause</th>\n      <th>human_machine</th>\n      <th>error_rate</th>\n      <th>error_system</th>\n      <th>feature</th>\n    </tr>\n  </thead>\n  <tbody>\n    <tr>\n      <th>0</th>\n      <td>10592</td>\n      <td>HYBRID</td>\n      <td>Human errors</td>\n      <td>Lack of proper skills in use of digital devices</td>\n      <td>Lack of robustness (inability to handle &amp; proc...</td>\n      <td>Yes</td>\n      <td>Hybrid</td>\n      <td>Yes</td>\n    </tr>\n    <tr>\n      <th>1</th>\n      <td>10602</td>\n      <td>HYBRID</td>\n      <td>Human-machine conflicts (improper understandin...</td>\n      <td>Lack of proper skills in use of digital devices</td>\n      <td>Lack of robustness (inability to handle &amp; proc...</td>\n      <td>Yes</td>\n      <td>Hybrid</td>\n      <td>No</td>\n    </tr>\n    <tr>\n      <th>2</th>\n      <td>10612</td>\n      <td>HYBRID</td>\n      <td>Human-machine conflicts (improper understandin...</td>\n      <td>Lack of proper skills in use of digital devices</td>\n      <td>Outdated Information Management systems.</td>\n      <td>Yes</td>\n      <td>Hybrid</td>\n      <td>No</td>\n    </tr>\n    <tr>\n      <th>3</th>\n      <td>10597</td>\n      <td>HYBRID</td>\n      <td>Human-machine conflicts (improper understandin...</td>\n      <td>Ignorance</td>\n      <td>Inefficiency (inaccurate logical evaluations b...</td>\n      <td>Maybe</td>\n      <td>Hybrid</td>\n      <td>Yes</td>\n    </tr>\n    <tr>\n      <th>4</th>\n      <td>10597</td>\n      <td>DIGITAL</td>\n      <td>Human-machine conflicts (improper understandin...</td>\n      <td>Segregation, bias &amp; favoritism</td>\n      <td>Lack of robustness (inability to handle &amp; proc...</td>\n      <td>Maybe</td>\n      <td>Hybrid</td>\n      <td>No</td>\n    </tr>\n  </tbody>\n</table>\n</div>"
     },
     "metadata": {},
     "execution_count": 10
    }
   ],
   "source": [
    "df = df.replace(data_institute)\n",
    "df.head(5)"
   ]
  },
  {
   "cell_type": "code",
   "execution_count": 11,
   "metadata": {},
   "outputs": [],
   "source": [
    "data_num = {'error_rate': {'Yes': 1, 'No': 0, 'Maybe': 2}, 'error_system': {'Hybrid': 1, 'Digital': 2}, 'feature': {'Yes': 1, 'No': 0}, 'system': {'HYBRID': 1, 'DIGITAL': 2}}\n"
   ]
  },
  {
   "cell_type": "code",
   "execution_count": 12,
   "metadata": {},
   "outputs": [
    {
     "output_type": "execute_result",
     "data": {
      "text/plain": [
       "   institution  system                                        human_cause  \\\n",
       "0        10592       1                                       Human errors   \n",
       "1        10602       1  Human-machine conflicts (improper understandin...   \n",
       "2        10612       1  Human-machine conflicts (improper understandin...   \n",
       "3        10597       1  Human-machine conflicts (improper understandin...   \n",
       "4        10597       2  Human-machine conflicts (improper understandin...   \n",
       "\n",
       "                                     machine_cause  \\\n",
       "0  Lack of proper skills in use of digital devices   \n",
       "1  Lack of proper skills in use of digital devices   \n",
       "2  Lack of proper skills in use of digital devices   \n",
       "3                                        Ignorance   \n",
       "4                   Segregation, bias & favoritism   \n",
       "\n",
       "                                       human_machine  error_rate  \\\n",
       "0  Lack of robustness (inability to handle & proc...         1.0   \n",
       "1  Lack of robustness (inability to handle & proc...         1.0   \n",
       "2           Outdated Information Management systems.         1.0   \n",
       "3  Inefficiency (inaccurate logical evaluations b...         2.0   \n",
       "4  Lack of robustness (inability to handle & proc...         2.0   \n",
       "\n",
       "   error_system feature  \n",
       "0           1.0    Yes   \n",
       "1           1.0       0  \n",
       "2           1.0       0  \n",
       "3           1.0       1  \n",
       "4           1.0       0  "
      ],
      "text/html": "<div>\n<style scoped>\n    .dataframe tbody tr th:only-of-type {\n        vertical-align: middle;\n    }\n\n    .dataframe tbody tr th {\n        vertical-align: top;\n    }\n\n    .dataframe thead th {\n        text-align: right;\n    }\n</style>\n<table border=\"1\" class=\"dataframe\">\n  <thead>\n    <tr style=\"text-align: right;\">\n      <th></th>\n      <th>institution</th>\n      <th>system</th>\n      <th>human_cause</th>\n      <th>machine_cause</th>\n      <th>human_machine</th>\n      <th>error_rate</th>\n      <th>error_system</th>\n      <th>feature</th>\n    </tr>\n  </thead>\n  <tbody>\n    <tr>\n      <th>0</th>\n      <td>10592</td>\n      <td>1</td>\n      <td>Human errors</td>\n      <td>Lack of proper skills in use of digital devices</td>\n      <td>Lack of robustness (inability to handle &amp; proc...</td>\n      <td>1.0</td>\n      <td>1.0</td>\n      <td>Yes</td>\n    </tr>\n    <tr>\n      <th>1</th>\n      <td>10602</td>\n      <td>1</td>\n      <td>Human-machine conflicts (improper understandin...</td>\n      <td>Lack of proper skills in use of digital devices</td>\n      <td>Lack of robustness (inability to handle &amp; proc...</td>\n      <td>1.0</td>\n      <td>1.0</td>\n      <td>0</td>\n    </tr>\n    <tr>\n      <th>2</th>\n      <td>10612</td>\n      <td>1</td>\n      <td>Human-machine conflicts (improper understandin...</td>\n      <td>Lack of proper skills in use of digital devices</td>\n      <td>Outdated Information Management systems.</td>\n      <td>1.0</td>\n      <td>1.0</td>\n      <td>0</td>\n    </tr>\n    <tr>\n      <th>3</th>\n      <td>10597</td>\n      <td>1</td>\n      <td>Human-machine conflicts (improper understandin...</td>\n      <td>Ignorance</td>\n      <td>Inefficiency (inaccurate logical evaluations b...</td>\n      <td>2.0</td>\n      <td>1.0</td>\n      <td>1</td>\n    </tr>\n    <tr>\n      <th>4</th>\n      <td>10597</td>\n      <td>2</td>\n      <td>Human-machine conflicts (improper understandin...</td>\n      <td>Segregation, bias &amp; favoritism</td>\n      <td>Lack of robustness (inability to handle &amp; proc...</td>\n      <td>2.0</td>\n      <td>1.0</td>\n      <td>0</td>\n    </tr>\n  </tbody>\n</table>\n</div>"
     },
     "metadata": {},
     "execution_count": 12
    }
   ],
   "source": [
    "df = df.replace(data_num)\n",
    "df.head(5)"
   ]
  },
  {
   "cell_type": "code",
   "execution_count": 13,
   "metadata": {},
   "outputs": [],
   "source": [
    "data_cause_1 = {'human_cause': {'Human errors': 1, 'Human-machine conflicts (improper understanding & utilization of machines)': 2}}"
   ]
  },
  {
   "cell_type": "code",
   "execution_count": 14,
   "metadata": {},
   "outputs": [
    {
     "output_type": "execute_result",
     "data": {
      "text/plain": [
       "   institution  system  human_cause  \\\n",
       "0        10592       1            1   \n",
       "1        10602       1            2   \n",
       "2        10612       1            2   \n",
       "3        10597       1            2   \n",
       "4        10597       2            2   \n",
       "\n",
       "                                     machine_cause  \\\n",
       "0  Lack of proper skills in use of digital devices   \n",
       "1  Lack of proper skills in use of digital devices   \n",
       "2  Lack of proper skills in use of digital devices   \n",
       "3                                        Ignorance   \n",
       "4                   Segregation, bias & favoritism   \n",
       "\n",
       "                                       human_machine  error_rate  \\\n",
       "0  Lack of robustness (inability to handle & proc...         1.0   \n",
       "1  Lack of robustness (inability to handle & proc...         1.0   \n",
       "2           Outdated Information Management systems.         1.0   \n",
       "3  Inefficiency (inaccurate logical evaluations b...         2.0   \n",
       "4  Lack of robustness (inability to handle & proc...         2.0   \n",
       "\n",
       "   error_system feature  \n",
       "0           1.0    Yes   \n",
       "1           1.0       0  \n",
       "2           1.0       0  \n",
       "3           1.0       1  \n",
       "4           1.0       0  "
      ],
      "text/html": "<div>\n<style scoped>\n    .dataframe tbody tr th:only-of-type {\n        vertical-align: middle;\n    }\n\n    .dataframe tbody tr th {\n        vertical-align: top;\n    }\n\n    .dataframe thead th {\n        text-align: right;\n    }\n</style>\n<table border=\"1\" class=\"dataframe\">\n  <thead>\n    <tr style=\"text-align: right;\">\n      <th></th>\n      <th>institution</th>\n      <th>system</th>\n      <th>human_cause</th>\n      <th>machine_cause</th>\n      <th>human_machine</th>\n      <th>error_rate</th>\n      <th>error_system</th>\n      <th>feature</th>\n    </tr>\n  </thead>\n  <tbody>\n    <tr>\n      <th>0</th>\n      <td>10592</td>\n      <td>1</td>\n      <td>1</td>\n      <td>Lack of proper skills in use of digital devices</td>\n      <td>Lack of robustness (inability to handle &amp; proc...</td>\n      <td>1.0</td>\n      <td>1.0</td>\n      <td>Yes</td>\n    </tr>\n    <tr>\n      <th>1</th>\n      <td>10602</td>\n      <td>1</td>\n      <td>2</td>\n      <td>Lack of proper skills in use of digital devices</td>\n      <td>Lack of robustness (inability to handle &amp; proc...</td>\n      <td>1.0</td>\n      <td>1.0</td>\n      <td>0</td>\n    </tr>\n    <tr>\n      <th>2</th>\n      <td>10612</td>\n      <td>1</td>\n      <td>2</td>\n      <td>Lack of proper skills in use of digital devices</td>\n      <td>Outdated Information Management systems.</td>\n      <td>1.0</td>\n      <td>1.0</td>\n      <td>0</td>\n    </tr>\n    <tr>\n      <th>3</th>\n      <td>10597</td>\n      <td>1</td>\n      <td>2</td>\n      <td>Ignorance</td>\n      <td>Inefficiency (inaccurate logical evaluations b...</td>\n      <td>2.0</td>\n      <td>1.0</td>\n      <td>1</td>\n    </tr>\n    <tr>\n      <th>4</th>\n      <td>10597</td>\n      <td>2</td>\n      <td>2</td>\n      <td>Segregation, bias &amp; favoritism</td>\n      <td>Lack of robustness (inability to handle &amp; proc...</td>\n      <td>2.0</td>\n      <td>1.0</td>\n      <td>0</td>\n    </tr>\n  </tbody>\n</table>\n</div>"
     },
     "metadata": {},
     "execution_count": 14
    }
   ],
   "source": [
    "df = df.replace(data_cause_1)\n",
    "df.head(5)"
   ]
  },
  {
   "cell_type": "code",
   "execution_count": 15,
   "metadata": {},
   "outputs": [],
   "source": [
    "data_cause_2 = {'machine_cause': {'Ignorance': 1, 'Segregation, bias & favoritism': 2, 'Lack of proper skills in use of digital devices': 3, 'Ignorance, Lack of proper skills in use of digital devices': 4}}"
   ]
  },
  {
   "cell_type": "code",
   "execution_count": 16,
   "metadata": {},
   "outputs": [
    {
     "output_type": "execute_result",
     "data": {
      "text/plain": [
       "   institution  system  human_cause  machine_cause  \\\n",
       "0        10592       1            1            3.0   \n",
       "1        10602       1            2            3.0   \n",
       "2        10612       1            2            3.0   \n",
       "3        10597       1            2            1.0   \n",
       "4        10597       2            2            2.0   \n",
       "\n",
       "                                       human_machine  error_rate  \\\n",
       "0  Lack of robustness (inability to handle & proc...         1.0   \n",
       "1  Lack of robustness (inability to handle & proc...         1.0   \n",
       "2           Outdated Information Management systems.         1.0   \n",
       "3  Inefficiency (inaccurate logical evaluations b...         2.0   \n",
       "4  Lack of robustness (inability to handle & proc...         2.0   \n",
       "\n",
       "   error_system feature  \n",
       "0           1.0    Yes   \n",
       "1           1.0       0  \n",
       "2           1.0       0  \n",
       "3           1.0       1  \n",
       "4           1.0       0  "
      ],
      "text/html": "<div>\n<style scoped>\n    .dataframe tbody tr th:only-of-type {\n        vertical-align: middle;\n    }\n\n    .dataframe tbody tr th {\n        vertical-align: top;\n    }\n\n    .dataframe thead th {\n        text-align: right;\n    }\n</style>\n<table border=\"1\" class=\"dataframe\">\n  <thead>\n    <tr style=\"text-align: right;\">\n      <th></th>\n      <th>institution</th>\n      <th>system</th>\n      <th>human_cause</th>\n      <th>machine_cause</th>\n      <th>human_machine</th>\n      <th>error_rate</th>\n      <th>error_system</th>\n      <th>feature</th>\n    </tr>\n  </thead>\n  <tbody>\n    <tr>\n      <th>0</th>\n      <td>10592</td>\n      <td>1</td>\n      <td>1</td>\n      <td>3.0</td>\n      <td>Lack of robustness (inability to handle &amp; proc...</td>\n      <td>1.0</td>\n      <td>1.0</td>\n      <td>Yes</td>\n    </tr>\n    <tr>\n      <th>1</th>\n      <td>10602</td>\n      <td>1</td>\n      <td>2</td>\n      <td>3.0</td>\n      <td>Lack of robustness (inability to handle &amp; proc...</td>\n      <td>1.0</td>\n      <td>1.0</td>\n      <td>0</td>\n    </tr>\n    <tr>\n      <th>2</th>\n      <td>10612</td>\n      <td>1</td>\n      <td>2</td>\n      <td>3.0</td>\n      <td>Outdated Information Management systems.</td>\n      <td>1.0</td>\n      <td>1.0</td>\n      <td>0</td>\n    </tr>\n    <tr>\n      <th>3</th>\n      <td>10597</td>\n      <td>1</td>\n      <td>2</td>\n      <td>1.0</td>\n      <td>Inefficiency (inaccurate logical evaluations b...</td>\n      <td>2.0</td>\n      <td>1.0</td>\n      <td>1</td>\n    </tr>\n    <tr>\n      <th>4</th>\n      <td>10597</td>\n      <td>2</td>\n      <td>2</td>\n      <td>2.0</td>\n      <td>Lack of robustness (inability to handle &amp; proc...</td>\n      <td>2.0</td>\n      <td>1.0</td>\n      <td>0</td>\n    </tr>\n  </tbody>\n</table>\n</div>"
     },
     "metadata": {},
     "execution_count": 16
    }
   ],
   "source": [
    "df = df.replace(data_cause_2)\n",
    "df.head(5)"
   ]
  },
  {
   "cell_type": "code",
   "execution_count": 17,
   "metadata": {},
   "outputs": [],
   "source": [
    "data_cause_3 = {'human_machine': {'Inefficiency (inaccurate logical evaluations by the system, e.g. timetabling & GPA calculations)': 1, 'System complexity (hard for front-office secretaries & admins to understand & maneuver)': 2, 'Outdated Information Management systems.': 3, 'Lack of robustness (inability to handle & process big data instantaneously)': 4, }}"
   ]
  },
  {
   "cell_type": "code",
   "execution_count": 18,
   "metadata": {},
   "outputs": [
    {
     "output_type": "execute_result",
     "data": {
      "text/plain": [
       "    institution  system  human_cause  machine_cause  \\\n",
       "0         10592       1            1            3.0   \n",
       "1         10602       1            2            3.0   \n",
       "2         10612       1            2            3.0   \n",
       "3         10597       1            2            1.0   \n",
       "4         10597       2            2            2.0   \n",
       "5         10597       1            1            1.0   \n",
       "6         10597       1            1            1.0   \n",
       "7         10602       1            2            1.0   \n",
       "8         10592       1            1            3.0   \n",
       "9         10592       1            1            3.0   \n",
       "10        10612       1            2            2.0   \n",
       "11        10612       2            1            1.0   \n",
       "12        10592       1            2            4.0   \n",
       "13        10607       1            2            NaN   \n",
       "14        10617       1            2            NaN   \n",
       "15        10622       2            2            NaN   \n",
       "16        10627       2            2            NaN   \n",
       "17        10592       1            1            3.0   \n",
       "18        10592       1            1            3.0   \n",
       "19        10592       1            1            3.0   \n",
       "\n",
       "                                        human_machine  error_rate  \\\n",
       "0                                                   4         1.0   \n",
       "1                                                   4         1.0   \n",
       "2                                                   3         1.0   \n",
       "3                                                   1         2.0   \n",
       "4                                                   4         2.0   \n",
       "5                                                   2         1.0   \n",
       "6                                                   4         1.0   \n",
       "7                                                   1         2.0   \n",
       "8                                                   2         2.0   \n",
       "9                                                   3         1.0   \n",
       "10                                                  1         1.0   \n",
       "11                                                  1         2.0   \n",
       "12  System complexity (hard for front-office secre...         1.0   \n",
       "13                                                NaN         NaN   \n",
       "14                                                NaN         NaN   \n",
       "15                                                NaN         NaN   \n",
       "16                                                NaN         NaN   \n",
       "17                                                  2         2.0   \n",
       "18                                                  3         1.0   \n",
       "19                                                  2         2.0   \n",
       "\n",
       "    error_system feature  \n",
       "0            1.0    Yes   \n",
       "1            1.0       0  \n",
       "2            1.0       0  \n",
       "3            1.0       1  \n",
       "4            1.0       0  \n",
       "5            1.0       1  \n",
       "6            2.0       1  \n",
       "7            1.0       1  \n",
       "8            2.0       1  \n",
       "9            2.0       1  \n",
       "10           1.0       0  \n",
       "11           1.0       1  \n",
       "12           1.0       1  \n",
       "13           1.0       1  \n",
       "14           1.0       1  \n",
       "15           2.0       1  \n",
       "16           2.0       1  \n",
       "17           2.0       1  \n",
       "18           2.0       1  \n",
       "19           2.0       1  "
      ],
      "text/html": "<div>\n<style scoped>\n    .dataframe tbody tr th:only-of-type {\n        vertical-align: middle;\n    }\n\n    .dataframe tbody tr th {\n        vertical-align: top;\n    }\n\n    .dataframe thead th {\n        text-align: right;\n    }\n</style>\n<table border=\"1\" class=\"dataframe\">\n  <thead>\n    <tr style=\"text-align: right;\">\n      <th></th>\n      <th>institution</th>\n      <th>system</th>\n      <th>human_cause</th>\n      <th>machine_cause</th>\n      <th>human_machine</th>\n      <th>error_rate</th>\n      <th>error_system</th>\n      <th>feature</th>\n    </tr>\n  </thead>\n  <tbody>\n    <tr>\n      <th>0</th>\n      <td>10592</td>\n      <td>1</td>\n      <td>1</td>\n      <td>3.0</td>\n      <td>4</td>\n      <td>1.0</td>\n      <td>1.0</td>\n      <td>Yes</td>\n    </tr>\n    <tr>\n      <th>1</th>\n      <td>10602</td>\n      <td>1</td>\n      <td>2</td>\n      <td>3.0</td>\n      <td>4</td>\n      <td>1.0</td>\n      <td>1.0</td>\n      <td>0</td>\n    </tr>\n    <tr>\n      <th>2</th>\n      <td>10612</td>\n      <td>1</td>\n      <td>2</td>\n      <td>3.0</td>\n      <td>3</td>\n      <td>1.0</td>\n      <td>1.0</td>\n      <td>0</td>\n    </tr>\n    <tr>\n      <th>3</th>\n      <td>10597</td>\n      <td>1</td>\n      <td>2</td>\n      <td>1.0</td>\n      <td>1</td>\n      <td>2.0</td>\n      <td>1.0</td>\n      <td>1</td>\n    </tr>\n    <tr>\n      <th>4</th>\n      <td>10597</td>\n      <td>2</td>\n      <td>2</td>\n      <td>2.0</td>\n      <td>4</td>\n      <td>2.0</td>\n      <td>1.0</td>\n      <td>0</td>\n    </tr>\n    <tr>\n      <th>5</th>\n      <td>10597</td>\n      <td>1</td>\n      <td>1</td>\n      <td>1.0</td>\n      <td>2</td>\n      <td>1.0</td>\n      <td>1.0</td>\n      <td>1</td>\n    </tr>\n    <tr>\n      <th>6</th>\n      <td>10597</td>\n      <td>1</td>\n      <td>1</td>\n      <td>1.0</td>\n      <td>4</td>\n      <td>1.0</td>\n      <td>2.0</td>\n      <td>1</td>\n    </tr>\n    <tr>\n      <th>7</th>\n      <td>10602</td>\n      <td>1</td>\n      <td>2</td>\n      <td>1.0</td>\n      <td>1</td>\n      <td>2.0</td>\n      <td>1.0</td>\n      <td>1</td>\n    </tr>\n    <tr>\n      <th>8</th>\n      <td>10592</td>\n      <td>1</td>\n      <td>1</td>\n      <td>3.0</td>\n      <td>2</td>\n      <td>2.0</td>\n      <td>2.0</td>\n      <td>1</td>\n    </tr>\n    <tr>\n      <th>9</th>\n      <td>10592</td>\n      <td>1</td>\n      <td>1</td>\n      <td>3.0</td>\n      <td>3</td>\n      <td>1.0</td>\n      <td>2.0</td>\n      <td>1</td>\n    </tr>\n    <tr>\n      <th>10</th>\n      <td>10612</td>\n      <td>1</td>\n      <td>2</td>\n      <td>2.0</td>\n      <td>1</td>\n      <td>1.0</td>\n      <td>1.0</td>\n      <td>0</td>\n    </tr>\n    <tr>\n      <th>11</th>\n      <td>10612</td>\n      <td>2</td>\n      <td>1</td>\n      <td>1.0</td>\n      <td>1</td>\n      <td>2.0</td>\n      <td>1.0</td>\n      <td>1</td>\n    </tr>\n    <tr>\n      <th>12</th>\n      <td>10592</td>\n      <td>1</td>\n      <td>2</td>\n      <td>4.0</td>\n      <td>System complexity (hard for front-office secre...</td>\n      <td>1.0</td>\n      <td>1.0</td>\n      <td>1</td>\n    </tr>\n    <tr>\n      <th>13</th>\n      <td>10607</td>\n      <td>1</td>\n      <td>2</td>\n      <td>NaN</td>\n      <td>NaN</td>\n      <td>NaN</td>\n      <td>1.0</td>\n      <td>1</td>\n    </tr>\n    <tr>\n      <th>14</th>\n      <td>10617</td>\n      <td>1</td>\n      <td>2</td>\n      <td>NaN</td>\n      <td>NaN</td>\n      <td>NaN</td>\n      <td>1.0</td>\n      <td>1</td>\n    </tr>\n    <tr>\n      <th>15</th>\n      <td>10622</td>\n      <td>2</td>\n      <td>2</td>\n      <td>NaN</td>\n      <td>NaN</td>\n      <td>NaN</td>\n      <td>2.0</td>\n      <td>1</td>\n    </tr>\n    <tr>\n      <th>16</th>\n      <td>10627</td>\n      <td>2</td>\n      <td>2</td>\n      <td>NaN</td>\n      <td>NaN</td>\n      <td>NaN</td>\n      <td>2.0</td>\n      <td>1</td>\n    </tr>\n    <tr>\n      <th>17</th>\n      <td>10592</td>\n      <td>1</td>\n      <td>1</td>\n      <td>3.0</td>\n      <td>2</td>\n      <td>2.0</td>\n      <td>2.0</td>\n      <td>1</td>\n    </tr>\n    <tr>\n      <th>18</th>\n      <td>10592</td>\n      <td>1</td>\n      <td>1</td>\n      <td>3.0</td>\n      <td>3</td>\n      <td>1.0</td>\n      <td>2.0</td>\n      <td>1</td>\n    </tr>\n    <tr>\n      <th>19</th>\n      <td>10592</td>\n      <td>1</td>\n      <td>1</td>\n      <td>3.0</td>\n      <td>2</td>\n      <td>2.0</td>\n      <td>2.0</td>\n      <td>1</td>\n    </tr>\n  </tbody>\n</table>\n</div>"
     },
     "metadata": {},
     "execution_count": 18
    }
   ],
   "source": [
    "df = df.replace(data_cause_3)\n",
    "df.head(20)"
   ]
  },
  {
   "cell_type": "code",
   "execution_count": 19,
   "metadata": {},
   "outputs": [
    {
     "output_type": "execute_result",
     "data": {
      "text/plain": [
       "institution        int64\n",
       "system             int64\n",
       "human_cause        int64\n",
       "machine_cause    float64\n",
       "human_machine     object\n",
       "error_rate       float64\n",
       "error_system     float64\n",
       "feature           object\n",
       "dtype: object"
      ]
     },
     "metadata": {},
     "execution_count": 19
    }
   ],
   "source": [
    "df.dtypes"
   ]
  },
  {
   "cell_type": "code",
   "execution_count": 20,
   "metadata": {},
   "outputs": [],
   "source": [
    "df.to_csv('refined_missing.csv')"
   ]
  },
  {
   "cell_type": "code",
   "execution_count": 21,
   "metadata": {},
   "outputs": [],
   "source": [
    "new_header = ['institution', 'system', 'data_loss_gen', 'data_loss_human', 'data_loss_machine', 'data_loss_hybrid', 'system_error_chance', 'feature']"
   ]
  },
  {
   "cell_type": "code",
   "execution_count": 22,
   "metadata": {},
   "outputs": [
    {
     "output_type": "execute_result",
     "data": {
      "text/plain": [
       "      institution  system data_loss_gen data_loss_human  \\\n",
       "NaN   institution  system   human_cause   machine_cause   \n",
       "0.0         10592       1             1             3.0   \n",
       "1.0         10602       1             2             3.0   \n",
       "2.0         10612       1             2             3.0   \n",
       "3.0         10597       1             2             1.0   \n",
       "4.0         10597       2             2             2.0   \n",
       "5.0         10597       1             1             1.0   \n",
       "6.0         10597       1             1             1.0   \n",
       "7.0         10602       1             2             1.0   \n",
       "8.0         10592       1             1             3.0   \n",
       "9.0         10592       1             1             3.0   \n",
       "10.0        10612       1             2             2.0   \n",
       "11.0        10612       2             1             1.0   \n",
       "12.0        10592       1             2             4.0   \n",
       "13.0        10607       1             2             NaN   \n",
       "14.0        10617       1             2             NaN   \n",
       "15.0        10622       2             2             NaN   \n",
       "16.0        10627       2             2             NaN   \n",
       "17.0        10592       1             1             3.0   \n",
       "18.0        10592       1             1             3.0   \n",
       "19.0        10592       1             1             3.0   \n",
       "20.0        10592       1             1             3.0   \n",
       "21.0        10592       1             1             3.0   \n",
       "22.0        10592       1             1             3.0   \n",
       "23.0        10612       1             2             2.0   \n",
       "24.0        10592       1             1             3.0   \n",
       "25.0        10597       1             2             1.0   \n",
       "26.0        10592       1             1             3.0   \n",
       "27.0        10592       1             1             3.0   \n",
       "28.0        10617       1             2             NaN   \n",
       "\n",
       "                                      data_loss_machine data_loss_hybrid  \\\n",
       "NaN                                       human_machine       error_rate   \n",
       "0.0                                                   4              1.0   \n",
       "1.0                                                   4              1.0   \n",
       "2.0                                                   3              1.0   \n",
       "3.0                                                   1              2.0   \n",
       "4.0                                                   4              2.0   \n",
       "5.0                                                   2              1.0   \n",
       "6.0                                                   4              1.0   \n",
       "7.0                                                   1              2.0   \n",
       "8.0                                                   2              2.0   \n",
       "9.0                                                   3              1.0   \n",
       "10.0                                                  1              1.0   \n",
       "11.0                                                  1              2.0   \n",
       "12.0  System complexity (hard for front-office secre...              1.0   \n",
       "13.0                                                NaN              NaN   \n",
       "14.0                                                NaN              NaN   \n",
       "15.0                                                NaN              NaN   \n",
       "16.0                                                NaN              NaN   \n",
       "17.0                                                  2              2.0   \n",
       "18.0                                                  3              1.0   \n",
       "19.0                                                  2              2.0   \n",
       "20.0                                                  3              1.0   \n",
       "21.0                                                  2              2.0   \n",
       "22.0                                                  3              1.0   \n",
       "23.0                                                  1              1.0   \n",
       "24.0                                                  4              1.0   \n",
       "25.0                                                  1              2.0   \n",
       "26.0                                                  2              2.0   \n",
       "27.0                                                  3              1.0   \n",
       "28.0                                                NaN              NaN   \n",
       "\n",
       "     system_error_chance  feature  \n",
       "NaN         error_system  feature  \n",
       "0.0                  1.0     Yes   \n",
       "1.0                  1.0        0  \n",
       "2.0                  1.0        0  \n",
       "3.0                  1.0        1  \n",
       "4.0                  1.0        0  \n",
       "5.0                  1.0        1  \n",
       "6.0                  2.0        1  \n",
       "7.0                  1.0        1  \n",
       "8.0                  2.0        1  \n",
       "9.0                  2.0        1  \n",
       "10.0                 1.0        0  \n",
       "11.0                 1.0        1  \n",
       "12.0                 1.0        1  \n",
       "13.0                 1.0        1  \n",
       "14.0                 1.0        1  \n",
       "15.0                 2.0        1  \n",
       "16.0                 2.0        1  \n",
       "17.0                 2.0        1  \n",
       "18.0                 2.0        1  \n",
       "19.0                 2.0        1  \n",
       "20.0                 2.0        1  \n",
       "21.0                 2.0        1  \n",
       "22.0                 2.0        1  \n",
       "23.0                 1.0        0  \n",
       "24.0                 1.0        1  \n",
       "25.0                 1.0        1  \n",
       "26.0                 2.0        1  \n",
       "27.0                 2.0        1  \n",
       "28.0                 1.0        1  "
      ],
      "text/html": "<div>\n<style scoped>\n    .dataframe tbody tr th:only-of-type {\n        vertical-align: middle;\n    }\n\n    .dataframe tbody tr th {\n        vertical-align: top;\n    }\n\n    .dataframe thead th {\n        text-align: right;\n    }\n</style>\n<table border=\"1\" class=\"dataframe\">\n  <thead>\n    <tr style=\"text-align: right;\">\n      <th></th>\n      <th>institution</th>\n      <th>system</th>\n      <th>data_loss_gen</th>\n      <th>data_loss_human</th>\n      <th>data_loss_machine</th>\n      <th>data_loss_hybrid</th>\n      <th>system_error_chance</th>\n      <th>feature</th>\n    </tr>\n  </thead>\n  <tbody>\n    <tr>\n      <th>NaN</th>\n      <td>institution</td>\n      <td>system</td>\n      <td>human_cause</td>\n      <td>machine_cause</td>\n      <td>human_machine</td>\n      <td>error_rate</td>\n      <td>error_system</td>\n      <td>feature</td>\n    </tr>\n    <tr>\n      <th>0.0</th>\n      <td>10592</td>\n      <td>1</td>\n      <td>1</td>\n      <td>3.0</td>\n      <td>4</td>\n      <td>1.0</td>\n      <td>1.0</td>\n      <td>Yes</td>\n    </tr>\n    <tr>\n      <th>1.0</th>\n      <td>10602</td>\n      <td>1</td>\n      <td>2</td>\n      <td>3.0</td>\n      <td>4</td>\n      <td>1.0</td>\n      <td>1.0</td>\n      <td>0</td>\n    </tr>\n    <tr>\n      <th>2.0</th>\n      <td>10612</td>\n      <td>1</td>\n      <td>2</td>\n      <td>3.0</td>\n      <td>3</td>\n      <td>1.0</td>\n      <td>1.0</td>\n      <td>0</td>\n    </tr>\n    <tr>\n      <th>3.0</th>\n      <td>10597</td>\n      <td>1</td>\n      <td>2</td>\n      <td>1.0</td>\n      <td>1</td>\n      <td>2.0</td>\n      <td>1.0</td>\n      <td>1</td>\n    </tr>\n    <tr>\n      <th>4.0</th>\n      <td>10597</td>\n      <td>2</td>\n      <td>2</td>\n      <td>2.0</td>\n      <td>4</td>\n      <td>2.0</td>\n      <td>1.0</td>\n      <td>0</td>\n    </tr>\n    <tr>\n      <th>5.0</th>\n      <td>10597</td>\n      <td>1</td>\n      <td>1</td>\n      <td>1.0</td>\n      <td>2</td>\n      <td>1.0</td>\n      <td>1.0</td>\n      <td>1</td>\n    </tr>\n    <tr>\n      <th>6.0</th>\n      <td>10597</td>\n      <td>1</td>\n      <td>1</td>\n      <td>1.0</td>\n      <td>4</td>\n      <td>1.0</td>\n      <td>2.0</td>\n      <td>1</td>\n    </tr>\n    <tr>\n      <th>7.0</th>\n      <td>10602</td>\n      <td>1</td>\n      <td>2</td>\n      <td>1.0</td>\n      <td>1</td>\n      <td>2.0</td>\n      <td>1.0</td>\n      <td>1</td>\n    </tr>\n    <tr>\n      <th>8.0</th>\n      <td>10592</td>\n      <td>1</td>\n      <td>1</td>\n      <td>3.0</td>\n      <td>2</td>\n      <td>2.0</td>\n      <td>2.0</td>\n      <td>1</td>\n    </tr>\n    <tr>\n      <th>9.0</th>\n      <td>10592</td>\n      <td>1</td>\n      <td>1</td>\n      <td>3.0</td>\n      <td>3</td>\n      <td>1.0</td>\n      <td>2.0</td>\n      <td>1</td>\n    </tr>\n    <tr>\n      <th>10.0</th>\n      <td>10612</td>\n      <td>1</td>\n      <td>2</td>\n      <td>2.0</td>\n      <td>1</td>\n      <td>1.0</td>\n      <td>1.0</td>\n      <td>0</td>\n    </tr>\n    <tr>\n      <th>11.0</th>\n      <td>10612</td>\n      <td>2</td>\n      <td>1</td>\n      <td>1.0</td>\n      <td>1</td>\n      <td>2.0</td>\n      <td>1.0</td>\n      <td>1</td>\n    </tr>\n    <tr>\n      <th>12.0</th>\n      <td>10592</td>\n      <td>1</td>\n      <td>2</td>\n      <td>4.0</td>\n      <td>System complexity (hard for front-office secre...</td>\n      <td>1.0</td>\n      <td>1.0</td>\n      <td>1</td>\n    </tr>\n    <tr>\n      <th>13.0</th>\n      <td>10607</td>\n      <td>1</td>\n      <td>2</td>\n      <td>NaN</td>\n      <td>NaN</td>\n      <td>NaN</td>\n      <td>1.0</td>\n      <td>1</td>\n    </tr>\n    <tr>\n      <th>14.0</th>\n      <td>10617</td>\n      <td>1</td>\n      <td>2</td>\n      <td>NaN</td>\n      <td>NaN</td>\n      <td>NaN</td>\n      <td>1.0</td>\n      <td>1</td>\n    </tr>\n    <tr>\n      <th>15.0</th>\n      <td>10622</td>\n      <td>2</td>\n      <td>2</td>\n      <td>NaN</td>\n      <td>NaN</td>\n      <td>NaN</td>\n      <td>2.0</td>\n      <td>1</td>\n    </tr>\n    <tr>\n      <th>16.0</th>\n      <td>10627</td>\n      <td>2</td>\n      <td>2</td>\n      <td>NaN</td>\n      <td>NaN</td>\n      <td>NaN</td>\n      <td>2.0</td>\n      <td>1</td>\n    </tr>\n    <tr>\n      <th>17.0</th>\n      <td>10592</td>\n      <td>1</td>\n      <td>1</td>\n      <td>3.0</td>\n      <td>2</td>\n      <td>2.0</td>\n      <td>2.0</td>\n      <td>1</td>\n    </tr>\n    <tr>\n      <th>18.0</th>\n      <td>10592</td>\n      <td>1</td>\n      <td>1</td>\n      <td>3.0</td>\n      <td>3</td>\n      <td>1.0</td>\n      <td>2.0</td>\n      <td>1</td>\n    </tr>\n    <tr>\n      <th>19.0</th>\n      <td>10592</td>\n      <td>1</td>\n      <td>1</td>\n      <td>3.0</td>\n      <td>2</td>\n      <td>2.0</td>\n      <td>2.0</td>\n      <td>1</td>\n    </tr>\n    <tr>\n      <th>20.0</th>\n      <td>10592</td>\n      <td>1</td>\n      <td>1</td>\n      <td>3.0</td>\n      <td>3</td>\n      <td>1.0</td>\n      <td>2.0</td>\n      <td>1</td>\n    </tr>\n    <tr>\n      <th>21.0</th>\n      <td>10592</td>\n      <td>1</td>\n      <td>1</td>\n      <td>3.0</td>\n      <td>2</td>\n      <td>2.0</td>\n      <td>2.0</td>\n      <td>1</td>\n    </tr>\n    <tr>\n      <th>22.0</th>\n      <td>10592</td>\n      <td>1</td>\n      <td>1</td>\n      <td>3.0</td>\n      <td>3</td>\n      <td>1.0</td>\n      <td>2.0</td>\n      <td>1</td>\n    </tr>\n    <tr>\n      <th>23.0</th>\n      <td>10612</td>\n      <td>1</td>\n      <td>2</td>\n      <td>2.0</td>\n      <td>1</td>\n      <td>1.0</td>\n      <td>1.0</td>\n      <td>0</td>\n    </tr>\n    <tr>\n      <th>24.0</th>\n      <td>10592</td>\n      <td>1</td>\n      <td>1</td>\n      <td>3.0</td>\n      <td>4</td>\n      <td>1.0</td>\n      <td>1.0</td>\n      <td>1</td>\n    </tr>\n    <tr>\n      <th>25.0</th>\n      <td>10597</td>\n      <td>1</td>\n      <td>2</td>\n      <td>1.0</td>\n      <td>1</td>\n      <td>2.0</td>\n      <td>1.0</td>\n      <td>1</td>\n    </tr>\n    <tr>\n      <th>26.0</th>\n      <td>10592</td>\n      <td>1</td>\n      <td>1</td>\n      <td>3.0</td>\n      <td>2</td>\n      <td>2.0</td>\n      <td>2.0</td>\n      <td>1</td>\n    </tr>\n    <tr>\n      <th>27.0</th>\n      <td>10592</td>\n      <td>1</td>\n      <td>1</td>\n      <td>3.0</td>\n      <td>3</td>\n      <td>1.0</td>\n      <td>2.0</td>\n      <td>1</td>\n    </tr>\n    <tr>\n      <th>28.0</th>\n      <td>10617</td>\n      <td>1</td>\n      <td>2</td>\n      <td>NaN</td>\n      <td>NaN</td>\n      <td>NaN</td>\n      <td>1.0</td>\n      <td>1</td>\n    </tr>\n  </tbody>\n</table>\n</div>"
     },
     "metadata": {},
     "execution_count": 22
    }
   ],
   "source": [
    "df1 = pd.read_csv('refined_missing.csv', header=None, names=new_header)\n",
    "df1.head(30)"
   ]
  },
  {
   "cell_type": "code",
   "execution_count": 23,
   "metadata": {},
   "outputs": [
    {
     "output_type": "execute_result",
     "data": {
      "text/plain": [
       "institution        int64\n",
       "system             int64\n",
       "human_cause        int64\n",
       "machine_cause    float64\n",
       "human_machine     object\n",
       "error_rate       float64\n",
       "error_system     float64\n",
       "feature           object\n",
       "dtype: object"
      ]
     },
     "metadata": {},
     "execution_count": 23
    }
   ],
   "source": [
    "df.dtypes"
   ]
  },
  {
   "cell_type": "code",
   "execution_count": 24,
   "metadata": {},
   "outputs": [
    {
     "output_type": "execute_result",
     "data": {
      "text/plain": [
       "institution         0\n",
       "system              0\n",
       "human_cause         0\n",
       "machine_cause    4324\n",
       "human_machine    4324\n",
       "error_rate       4324\n",
       "error_system        1\n",
       "feature             0\n",
       "dtype: int64"
      ]
     },
     "metadata": {},
     "execution_count": 24
    }
   ],
   "source": [
    "df.isnull().sum()"
   ]
  },
  {
   "cell_type": "code",
   "execution_count": 25,
   "metadata": {},
   "outputs": [],
   "source": [
    "new_names = ['institution', 'system', 'data_loss_gen', 'data_loss_human', 'data_loss_machine', 'data_loss_hybrid', 'system_error_chance', 'feature']"
   ]
  },
  {
   "cell_type": "code",
   "execution_count": 26,
   "metadata": {},
   "outputs": [],
   "source": [
    "df2 = pd.read_csv('refined_clean.csv', header=None, names=new_names)"
   ]
  },
  {
   "cell_type": "code",
   "execution_count": 27,
   "metadata": {},
   "outputs": [
    {
     "output_type": "execute_result",
     "data": {
      "text/plain": [
       "   institution  system  data_loss_gen  data_loss_human  data_loss_machine  \\\n",
       "1        10602       1              2              3.0                4.0   \n",
       "2        10612       1              2              3.0                3.0   \n",
       "3        10597       1              2              1.0                1.0   \n",
       "4        10597       2              2              2.0                4.0   \n",
       "5        10597       1              1              1.0                2.0   \n",
       "\n",
       "   data_loss_hybrid  system_error_chance  feature  \n",
       "1               1.0                  1.0        0  \n",
       "2               1.0                  1.0        0  \n",
       "3               2.0                  1.0        1  \n",
       "4               2.0                  1.0        0  \n",
       "5               1.0                  1.0        1  "
      ],
      "text/html": "<div>\n<style scoped>\n    .dataframe tbody tr th:only-of-type {\n        vertical-align: middle;\n    }\n\n    .dataframe tbody tr th {\n        vertical-align: top;\n    }\n\n    .dataframe thead th {\n        text-align: right;\n    }\n</style>\n<table border=\"1\" class=\"dataframe\">\n  <thead>\n    <tr style=\"text-align: right;\">\n      <th></th>\n      <th>institution</th>\n      <th>system</th>\n      <th>data_loss_gen</th>\n      <th>data_loss_human</th>\n      <th>data_loss_machine</th>\n      <th>data_loss_hybrid</th>\n      <th>system_error_chance</th>\n      <th>feature</th>\n    </tr>\n  </thead>\n  <tbody>\n    <tr>\n      <th>1</th>\n      <td>10602</td>\n      <td>1</td>\n      <td>2</td>\n      <td>3.0</td>\n      <td>4.0</td>\n      <td>1.0</td>\n      <td>1.0</td>\n      <td>0</td>\n    </tr>\n    <tr>\n      <th>2</th>\n      <td>10612</td>\n      <td>1</td>\n      <td>2</td>\n      <td>3.0</td>\n      <td>3.0</td>\n      <td>1.0</td>\n      <td>1.0</td>\n      <td>0</td>\n    </tr>\n    <tr>\n      <th>3</th>\n      <td>10597</td>\n      <td>1</td>\n      <td>2</td>\n      <td>1.0</td>\n      <td>1.0</td>\n      <td>2.0</td>\n      <td>1.0</td>\n      <td>1</td>\n    </tr>\n    <tr>\n      <th>4</th>\n      <td>10597</td>\n      <td>2</td>\n      <td>2</td>\n      <td>2.0</td>\n      <td>4.0</td>\n      <td>2.0</td>\n      <td>1.0</td>\n      <td>0</td>\n    </tr>\n    <tr>\n      <th>5</th>\n      <td>10597</td>\n      <td>1</td>\n      <td>1</td>\n      <td>1.0</td>\n      <td>2.0</td>\n      <td>1.0</td>\n      <td>1.0</td>\n      <td>1</td>\n    </tr>\n  </tbody>\n</table>\n</div>"
     },
     "metadata": {},
     "execution_count": 27
    }
   ],
   "source": [
    "df2.head()"
   ]
  },
  {
   "cell_type": "code",
   "execution_count": 28,
   "metadata": {},
   "outputs": [
    {
     "output_type": "execute_result",
     "data": {
      "text/plain": [
       "(10047, 8)"
      ]
     },
     "metadata": {},
     "execution_count": 28
    }
   ],
   "source": [
    "df2.shape"
   ]
  },
  {
   "cell_type": "code",
   "execution_count": 29,
   "metadata": {},
   "outputs": [
    {
     "output_type": "execute_result",
     "data": {
      "text/plain": [
       "institution               0\n",
       "system                    0\n",
       "data_loss_gen             0\n",
       "data_loss_human        4324\n",
       "data_loss_machine      4324\n",
       "data_loss_hybrid       4324\n",
       "system_error_chance       1\n",
       "feature                   0\n",
       "dtype: int64"
      ]
     },
     "metadata": {},
     "execution_count": 29
    }
   ],
   "source": [
    "df2.isnull().sum()"
   ]
  },
  {
   "cell_type": "code",
   "execution_count": 30,
   "metadata": {},
   "outputs": [
    {
     "output_type": "execute_result",
     "data": {
      "text/plain": [
       "institution              int64\n",
       "system                   int64\n",
       "data_loss_gen            int64\n",
       "data_loss_human        float64\n",
       "data_loss_machine      float64\n",
       "data_loss_hybrid       float64\n",
       "system_error_chance    float64\n",
       "feature                  int64\n",
       "dtype: object"
      ]
     },
     "metadata": {},
     "execution_count": 30
    }
   ],
   "source": [
    "df2.dtypes"
   ]
  },
  {
   "cell_type": "code",
   "execution_count": 31,
   "metadata": {},
   "outputs": [],
   "source": [
    "from sklearn.impute import SimpleImputer"
   ]
  },
  {
   "cell_type": "code",
   "execution_count": 212,
   "metadata": {},
   "outputs": [],
   "source": [
    "imputed = imputer.transform(df2)"
   ]
  },
  {
   "cell_type": "code",
   "execution_count": 214,
   "metadata": {},
   "outputs": [
    {
     "output_type": "execute_result",
     "data": {
      "text/plain": [
       "institution               0\n",
       "system                    0\n",
       "data_loss_gen             0\n",
       "data_loss_human        4324\n",
       "data_loss_machine      4324\n",
       "data_loss_hybrid       4324\n",
       "system_error_chance       1\n",
       "feature                   0\n",
       "dtype: int64"
      ]
     },
     "metadata": {},
     "execution_count": 214
    }
   ],
   "source": [
    "df2.isnull().sum()"
   ]
  },
  {
   "cell_type": "code",
   "execution_count": 33,
   "metadata": {},
   "outputs": [
    {
     "output_type": "stream",
     "name": "stdout",
     "text": [
      "institution            0\nsystem                 0\ndata_loss_gen          0\ndata_loss_human        0\ndata_loss_machine      0\ndata_loss_hybrid       0\nsystem_error_chance    0\nfeature                0\ndtype: int64\n"
     ]
    }
   ],
   "source": [
    "from numpy import nan\n",
    "df2.fillna(df2.mean(), inplace=True)\n",
    "print(df2.isnull().sum())"
   ]
  },
  {
   "cell_type": "code",
   "execution_count": 34,
   "metadata": {},
   "outputs": [
    {
     "output_type": "execute_result",
     "data": {
      "text/plain": [
       "(10047, 8)"
      ]
     },
     "metadata": {},
     "execution_count": 34
    }
   ],
   "source": [
    "df2.shape"
   ]
  },
  {
   "cell_type": "code",
   "execution_count": 36,
   "metadata": {},
   "outputs": [
    {
     "output_type": "execute_result",
     "data": {
      "text/plain": [
       "       institution  system  data_loss_gen  data_loss_human  data_loss_machine  \\\n",
       "1            False   False          False            False              False   \n",
       "2            False   False          False            False              False   \n",
       "3            False   False          False            False              False   \n",
       "4            False   False          False            False              False   \n",
       "5            False   False          False            False              False   \n",
       "...            ...     ...            ...              ...                ...   \n",
       "10114        False   False          False            False              False   \n",
       "10115        False   False          False            False              False   \n",
       "10116        False   False          False            False              False   \n",
       "10117        False   False          False            False              False   \n",
       "10118        False   False          False            False              False   \n",
       "\n",
       "       data_loss_hybrid  system_error_chance  feature  \n",
       "1                 False                False    False  \n",
       "2                 False                False    False  \n",
       "3                 False                False    False  \n",
       "4                 False                False    False  \n",
       "5                 False                False    False  \n",
       "...                 ...                  ...      ...  \n",
       "10114             False                False    False  \n",
       "10115             False                False    False  \n",
       "10116             False                False    False  \n",
       "10117             False                False    False  \n",
       "10118             False                False    False  \n",
       "\n",
       "[10047 rows x 8 columns]"
      ],
      "text/html": "<div>\n<style scoped>\n    .dataframe tbody tr th:only-of-type {\n        vertical-align: middle;\n    }\n\n    .dataframe tbody tr th {\n        vertical-align: top;\n    }\n\n    .dataframe thead th {\n        text-align: right;\n    }\n</style>\n<table border=\"1\" class=\"dataframe\">\n  <thead>\n    <tr style=\"text-align: right;\">\n      <th></th>\n      <th>institution</th>\n      <th>system</th>\n      <th>data_loss_gen</th>\n      <th>data_loss_human</th>\n      <th>data_loss_machine</th>\n      <th>data_loss_hybrid</th>\n      <th>system_error_chance</th>\n      <th>feature</th>\n    </tr>\n  </thead>\n  <tbody>\n    <tr>\n      <th>1</th>\n      <td>False</td>\n      <td>False</td>\n      <td>False</td>\n      <td>False</td>\n      <td>False</td>\n      <td>False</td>\n      <td>False</td>\n      <td>False</td>\n    </tr>\n    <tr>\n      <th>2</th>\n      <td>False</td>\n      <td>False</td>\n      <td>False</td>\n      <td>False</td>\n      <td>False</td>\n      <td>False</td>\n      <td>False</td>\n      <td>False</td>\n    </tr>\n    <tr>\n      <th>3</th>\n      <td>False</td>\n      <td>False</td>\n      <td>False</td>\n      <td>False</td>\n      <td>False</td>\n      <td>False</td>\n      <td>False</td>\n      <td>False</td>\n    </tr>\n    <tr>\n      <th>4</th>\n      <td>False</td>\n      <td>False</td>\n      <td>False</td>\n      <td>False</td>\n      <td>False</td>\n      <td>False</td>\n      <td>False</td>\n      <td>False</td>\n    </tr>\n    <tr>\n      <th>5</th>\n      <td>False</td>\n      <td>False</td>\n      <td>False</td>\n      <td>False</td>\n      <td>False</td>\n      <td>False</td>\n      <td>False</td>\n      <td>False</td>\n    </tr>\n    <tr>\n      <th>...</th>\n      <td>...</td>\n      <td>...</td>\n      <td>...</td>\n      <td>...</td>\n      <td>...</td>\n      <td>...</td>\n      <td>...</td>\n      <td>...</td>\n    </tr>\n    <tr>\n      <th>10114</th>\n      <td>False</td>\n      <td>False</td>\n      <td>False</td>\n      <td>False</td>\n      <td>False</td>\n      <td>False</td>\n      <td>False</td>\n      <td>False</td>\n    </tr>\n    <tr>\n      <th>10115</th>\n      <td>False</td>\n      <td>False</td>\n      <td>False</td>\n      <td>False</td>\n      <td>False</td>\n      <td>False</td>\n      <td>False</td>\n      <td>False</td>\n    </tr>\n    <tr>\n      <th>10116</th>\n      <td>False</td>\n      <td>False</td>\n      <td>False</td>\n      <td>False</td>\n      <td>False</td>\n      <td>False</td>\n      <td>False</td>\n      <td>False</td>\n    </tr>\n    <tr>\n      <th>10117</th>\n      <td>False</td>\n      <td>False</td>\n      <td>False</td>\n      <td>False</td>\n      <td>False</td>\n      <td>False</td>\n      <td>False</td>\n      <td>False</td>\n    </tr>\n    <tr>\n      <th>10118</th>\n      <td>False</td>\n      <td>False</td>\n      <td>False</td>\n      <td>False</td>\n      <td>False</td>\n      <td>False</td>\n      <td>False</td>\n      <td>False</td>\n    </tr>\n  </tbody>\n</table>\n<p>10047 rows × 8 columns</p>\n</div>"
     },
     "metadata": {},
     "execution_count": 36
    }
   ],
   "source": [
    "df2.isnull()"
   ]
  },
  {
   "cell_type": "code",
   "execution_count": 37,
   "metadata": {},
   "outputs": [],
   "source": [
    "df2.to_csv('missingmarks_clean_data.csv', index=None, header=True)"
   ]
  }
 ]
}